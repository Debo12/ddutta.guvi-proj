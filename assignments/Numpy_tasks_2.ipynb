{
  "cells": [
    {
      "cell_type": "markdown",
      "metadata": {
        "id": "view-in-github",
        "colab_type": "text"
      },
      "source": [
        "<a href=\"https://colab.research.google.com/github/Debo12/ddutta.guvi-proj/blob/master/assignments/Numpy_tasks_2.ipynb\" target=\"_parent\"><img src=\"https://colab.research.google.com/assets/colab-badge.svg\" alt=\"Open In Colab\"/></a>"
      ]
    },
    {
      "cell_type": "markdown",
      "metadata": {
        "id": "1OJ8DaaTZg2p"
      },
      "source": [
        "# Numpy\n",
        "\n"
      ]
    },
    {
      "cell_type": "markdown",
      "metadata": {
        "id": "jBtJEZegZg2u"
      },
      "source": [
        "#### 1. Import the numpy package under the name `np` (★☆☆) \n",
        "(**hint**: import … as …)"
      ]
    },
    {
      "cell_type": "code",
      "execution_count": 212,
      "metadata": {
        "collapsed": true,
        "id": "_8DjHBNZZg2v"
      },
      "outputs": [],
      "source": [
        "import numpy as np"
      ]
    },
    {
      "cell_type": "markdown",
      "metadata": {
        "id": "-c6BNug1Zg2w"
      },
      "source": [
        "#### 2. Print the numpy version and the configuration (★☆☆) \n",
        "(**hint**: np.\\_\\_version\\_\\_, np.show\\_config)"
      ]
    },
    {
      "cell_type": "code",
      "source": [
        "np.__version__"
      ],
      "metadata": {
        "colab": {
          "base_uri": "https://localhost:8080/",
          "height": 35
        },
        "id": "Zvxm9cQeaqxB",
        "outputId": "e5328cb1-e219-4a3f-ca82-2559c7e06d2d"
      },
      "execution_count": 213,
      "outputs": [
        {
          "output_type": "execute_result",
          "data": {
            "text/plain": [
              "'1.21.6'"
            ],
            "application/vnd.google.colaboratory.intrinsic+json": {
              "type": "string"
            }
          },
          "metadata": {},
          "execution_count": 213
        }
      ]
    },
    {
      "cell_type": "code",
      "execution_count": 214,
      "metadata": {
        "id": "Z0S4LJYIZg2x",
        "colab": {
          "base_uri": "https://localhost:8080/"
        },
        "outputId": "14d34bed-9b6d-4893-950c-4a55fe86740a"
      },
      "outputs": [
        {
          "output_type": "stream",
          "name": "stdout",
          "text": [
            "blas_mkl_info:\n",
            "  NOT AVAILABLE\n",
            "blis_info:\n",
            "  NOT AVAILABLE\n",
            "openblas_info:\n",
            "    libraries = ['openblas', 'openblas']\n",
            "    library_dirs = ['/usr/local/lib']\n",
            "    language = c\n",
            "    define_macros = [('HAVE_CBLAS', None)]\n",
            "    runtime_library_dirs = ['/usr/local/lib']\n",
            "blas_opt_info:\n",
            "    libraries = ['openblas', 'openblas']\n",
            "    library_dirs = ['/usr/local/lib']\n",
            "    language = c\n",
            "    define_macros = [('HAVE_CBLAS', None)]\n",
            "    runtime_library_dirs = ['/usr/local/lib']\n",
            "lapack_mkl_info:\n",
            "  NOT AVAILABLE\n",
            "openblas_lapack_info:\n",
            "    libraries = ['openblas', 'openblas']\n",
            "    library_dirs = ['/usr/local/lib']\n",
            "    language = c\n",
            "    define_macros = [('HAVE_CBLAS', None)]\n",
            "    runtime_library_dirs = ['/usr/local/lib']\n",
            "lapack_opt_info:\n",
            "    libraries = ['openblas', 'openblas']\n",
            "    library_dirs = ['/usr/local/lib']\n",
            "    language = c\n",
            "    define_macros = [('HAVE_CBLAS', None)]\n",
            "    runtime_library_dirs = ['/usr/local/lib']\n",
            "Supported SIMD extensions in this NumPy install:\n",
            "    baseline = SSE,SSE2,SSE3\n",
            "    found = SSSE3,SSE41,POPCNT,SSE42,AVX,F16C,FMA3,AVX2\n",
            "    not found = AVX512F,AVX512CD,AVX512_KNL,AVX512_KNM,AVX512_SKX,AVX512_CLX,AVX512_CNL,AVX512_ICL\n"
          ]
        }
      ],
      "source": [
        "np.show_config()"
      ]
    },
    {
      "cell_type": "markdown",
      "metadata": {
        "id": "u-7W2TckZg2x"
      },
      "source": [
        "#### 3. Create a null vector of size 10 (★☆☆) \n",
        "(**hint**: np.zeros)"
      ]
    },
    {
      "cell_type": "code",
      "execution_count": 215,
      "metadata": {
        "id": "ZBtXNfe0Zg2y",
        "colab": {
          "base_uri": "https://localhost:8080/"
        },
        "outputId": "ed284110-adab-4749-9250-e7866adb33b2"
      },
      "outputs": [
        {
          "output_type": "execute_result",
          "data": {
            "text/plain": [
              "array([0, 0, 0, 0, 0, 0, 0, 0, 0, 0])"
            ]
          },
          "metadata": {},
          "execution_count": 215
        }
      ],
      "source": [
        "np.zeros(10, dtype=int)"
      ]
    },
    {
      "cell_type": "markdown",
      "metadata": {
        "id": "eE1YErB6Zg2y"
      },
      "source": [
        "#### 4.  How to find the memory size of any array (★☆☆) \n",
        "(**hint**: size, itemsize)"
      ]
    },
    {
      "cell_type": "code",
      "execution_count": 216,
      "metadata": {
        "id": "_nCHBQQnZg2z",
        "colab": {
          "base_uri": "https://localhost:8080/"
        },
        "outputId": "421b2c9a-7464-4854-d054-4eb4aca3cdd6"
      },
      "outputs": [
        {
          "output_type": "stream",
          "name": "stdout",
          "text": [
            "128 bytes\n"
          ]
        }
      ],
      "source": [
        "n = np.zeros((4,4))\n",
        "print(\"%d bytes\" % (n.size * n.itemsize))"
      ]
    },
    {
      "cell_type": "markdown",
      "metadata": {
        "id": "ojPE6-ucZg2z"
      },
      "source": [
        "#### 5.  How to get the documentation of the numpy add function from the command line? (★☆☆) \n",
        "(**hint**: np.info)"
      ]
    },
    {
      "cell_type": "code",
      "execution_count": 217,
      "metadata": {
        "collapsed": true,
        "id": "IbD9IY0EZg2z",
        "colab": {
          "base_uri": "https://localhost:8080/"
        },
        "outputId": "845eac09-c9c7-4ddd-c7a0-35fd58b16f21"
      },
      "outputs": [
        {
          "output_type": "stream",
          "name": "stdout",
          "text": [
            "add(x1, x2, /, out=None, *, where=True, casting='same_kind', order='K', dtype=None, subok=True[, signature, extobj])\n",
            "\n",
            "Add arguments element-wise.\n",
            "\n",
            "Parameters\n",
            "----------\n",
            "x1, x2 : array_like\n",
            "    The arrays to be added.\n",
            "    If ``x1.shape != x2.shape``, they must be broadcastable to a common\n",
            "    shape (which becomes the shape of the output).\n",
            "out : ndarray, None, or tuple of ndarray and None, optional\n",
            "    A location into which the result is stored. If provided, it must have\n",
            "    a shape that the inputs broadcast to. If not provided or None,\n",
            "    a freshly-allocated array is returned. A tuple (possible only as a\n",
            "    keyword argument) must have length equal to the number of outputs.\n",
            "where : array_like, optional\n",
            "    This condition is broadcast over the input. At locations where the\n",
            "    condition is True, the `out` array will be set to the ufunc result.\n",
            "    Elsewhere, the `out` array will retain its original value.\n",
            "    Note that if an uninitialized `out` array is created via the default\n",
            "    ``out=None``, locations within it where the condition is False will\n",
            "    remain uninitialized.\n",
            "**kwargs\n",
            "    For other keyword-only arguments, see the\n",
            "    :ref:`ufunc docs <ufuncs.kwargs>`.\n",
            "\n",
            "Returns\n",
            "-------\n",
            "add : ndarray or scalar\n",
            "    The sum of `x1` and `x2`, element-wise.\n",
            "    This is a scalar if both `x1` and `x2` are scalars.\n",
            "\n",
            "Notes\n",
            "-----\n",
            "Equivalent to `x1` + `x2` in terms of array broadcasting.\n",
            "\n",
            "Examples\n",
            "--------\n",
            ">>> np.add(1.0, 4.0)\n",
            "5.0\n",
            ">>> x1 = np.arange(9.0).reshape((3, 3))\n",
            ">>> x2 = np.arange(3.0)\n",
            ">>> np.add(x1, x2)\n",
            "array([[  0.,   2.,   4.],\n",
            "       [  3.,   5.,   7.],\n",
            "       [  6.,   8.,  10.]])\n",
            "\n",
            "The ``+`` operator can be used as a shorthand for ``np.add`` on ndarrays.\n",
            "\n",
            ">>> x1 = np.arange(9.0).reshape((3, 3))\n",
            ">>> x2 = np.arange(3.0)\n",
            ">>> x1 + x2\n",
            "array([[ 0.,  2.,  4.],\n",
            "       [ 3.,  5.,  7.],\n",
            "       [ 6.,  8., 10.]])\n"
          ]
        }
      ],
      "source": [
        "np.info(np.add)"
      ]
    },
    {
      "cell_type": "markdown",
      "metadata": {
        "id": "K9vq5tHaZg20"
      },
      "source": [
        "#### 6.  Create a null vector of size 10 but the fifth value which is 1 (★☆☆) \n",
        "(**hint**: array\\[4\\])"
      ]
    },
    {
      "cell_type": "code",
      "execution_count": 218,
      "metadata": {
        "id": "WfIGA6BfZg20",
        "colab": {
          "base_uri": "https://localhost:8080/"
        },
        "outputId": "a2d3b241-8b4c-4b93-d5a9-a6d831cb0fe9"
      },
      "outputs": [
        {
          "output_type": "execute_result",
          "data": {
            "text/plain": [
              "array([0, 0, 0, 0, 1, 0, 0, 0, 0, 0])"
            ]
          },
          "metadata": {},
          "execution_count": 218
        }
      ],
      "source": [
        "arr = np.zeros(10, dtype=int)\n",
        "arr[4] = 1\n",
        "arr"
      ]
    },
    {
      "cell_type": "markdown",
      "metadata": {
        "id": "h8MO32hSZg20"
      },
      "source": [
        "#### 7.  Create a vector with values ranging from 10 to 49 (★☆☆) \n",
        "(**hint**: np.arange)"
      ]
    },
    {
      "cell_type": "code",
      "execution_count": 219,
      "metadata": {
        "id": "Iuy8_xOaZg21",
        "colab": {
          "base_uri": "https://localhost:8080/"
        },
        "outputId": "3e4f4d4a-1f1c-4b10-9d8a-d89ef8445ed3"
      },
      "outputs": [
        {
          "output_type": "execute_result",
          "data": {
            "text/plain": [
              "array([10, 11, 12, 13, 14, 15, 16, 17, 18, 19, 20, 21, 22, 23, 24, 25, 26, 27, 28, 29, 30, 31, 32, 33, 34, 35, 36, 37, 38, 39, 40, 41, 42, 43, 44, 45, 46, 47, 48])"
            ]
          },
          "metadata": {},
          "execution_count": 219
        }
      ],
      "source": [
        "np.arange(10, 49)"
      ]
    },
    {
      "cell_type": "markdown",
      "metadata": {
        "id": "7CyHnWnKZg21"
      },
      "source": [
        "#### 8.  Reverse a vector (first element becomes last) (★☆☆) \n",
        "(**hint**: array\\[::-1\\])"
      ]
    },
    {
      "cell_type": "code",
      "execution_count": 220,
      "metadata": {
        "id": "H6zIQl61Zg21",
        "colab": {
          "base_uri": "https://localhost:8080/"
        },
        "outputId": "0350f717-2074-41c5-8944-7a6879269749"
      },
      "outputs": [
        {
          "output_type": "execute_result",
          "data": {
            "text/plain": [
              "array([48, 47, 46, 45, 44, 43, 42, 41, 40, 39, 38, 37, 36, 35, 34, 33, 32, 31, 30, 29, 28, 27, 26, 25, 24, 23, 22, 21, 20, 19, 18, 17, 16, 15, 14, 13, 12, 11, 10])"
            ]
          },
          "metadata": {},
          "execution_count": 220
        }
      ],
      "source": [
        "arr = np.arange(10, 49)\n",
        "arr[::-1]"
      ]
    },
    {
      "cell_type": "markdown",
      "metadata": {
        "id": "DvmzsThhZg21"
      },
      "source": [
        "#### 9.  Create a 3x3 matrix with values ranging from 0 to 8 (★☆☆) \n",
        "(**hint**: reshape)"
      ]
    },
    {
      "cell_type": "code",
      "execution_count": 221,
      "metadata": {
        "id": "OqS1wFNlZg22",
        "colab": {
          "base_uri": "https://localhost:8080/"
        },
        "outputId": "8297bb70-ad5e-468c-f1fe-f744a4ddaa16"
      },
      "outputs": [
        {
          "output_type": "execute_result",
          "data": {
            "text/plain": [
              "array([[0, 1, 2],\n",
              "       [3, 4, 5],\n",
              "       [6, 7, 8]])"
            ]
          },
          "metadata": {},
          "execution_count": 221
        }
      ],
      "source": [
        "np.arange(0, 9).reshape(3, 3)"
      ]
    },
    {
      "cell_type": "markdown",
      "metadata": {
        "id": "5P1-NBZDZg22"
      },
      "source": [
        "#### 10. Find indices of non-zero elements from \\[1,2,0,0,4,0\\] (★☆☆) \n",
        "(**hint**: np.nonzero)"
      ]
    },
    {
      "cell_type": "code",
      "execution_count": 222,
      "metadata": {
        "id": "5X4MhuLrZg22",
        "colab": {
          "base_uri": "https://localhost:8080/"
        },
        "outputId": "d97cbbc5-cda9-4086-8ccd-7d5b73cc4936"
      },
      "outputs": [
        {
          "output_type": "execute_result",
          "data": {
            "text/plain": [
              "(array([0, 1, 4]),)"
            ]
          },
          "metadata": {},
          "execution_count": 222
        }
      ],
      "source": [
        "np.nonzero([1,2,0,0,4,0])"
      ]
    },
    {
      "cell_type": "markdown",
      "metadata": {
        "id": "yntsC5_BZg22"
      },
      "source": [
        "#### 11. Create a 3x3 identity matrix (★☆☆) \n",
        "(**hint**: np.eye)"
      ]
    },
    {
      "cell_type": "code",
      "execution_count": 223,
      "metadata": {
        "id": "TKy4Ua43Zg22",
        "colab": {
          "base_uri": "https://localhost:8080/"
        },
        "outputId": "98942294-c494-4d8d-f7e9-dc9920633de5"
      },
      "outputs": [
        {
          "output_type": "execute_result",
          "data": {
            "text/plain": [
              "array([[1, 0, 0],\n",
              "       [0, 1, 0],\n",
              "       [0, 0, 1]])"
            ]
          },
          "metadata": {},
          "execution_count": 223
        }
      ],
      "source": [
        "np.eye(3, 3, dtype=int)"
      ]
    },
    {
      "cell_type": "markdown",
      "metadata": {
        "id": "Q3dmP2FPZg23"
      },
      "source": [
        "#### 12. Create a 3x3x3 array with random values (★☆☆) \n",
        "(**hint**: np.random.random)"
      ]
    },
    {
      "cell_type": "code",
      "execution_count": 224,
      "metadata": {
        "collapsed": true,
        "id": "dpx5RIcuZg23",
        "colab": {
          "base_uri": "https://localhost:8080/"
        },
        "outputId": "c0bb4e96-c992-4143-e37c-74a290bd49ec"
      },
      "outputs": [
        {
          "output_type": "execute_result",
          "data": {
            "text/plain": [
              "array([[[0.87875285, 0.37101903, 0.25061039],\n",
              "        [0.28140449, 0.70537888, 0.44799571],\n",
              "        [0.48096291, 0.81829896, 0.54410872]],\n",
              "\n",
              "       [[0.72806118, 0.04669895, 0.59179774],\n",
              "        [0.46394953, 0.49663447, 0.50194437],\n",
              "        [0.89327815, 0.93217621, 0.26121436]],\n",
              "\n",
              "       [[0.82372365, 0.02548257, 0.45309352],\n",
              "        [0.12852735, 0.77725577, 0.21358963],\n",
              "        [0.51610067, 0.70688535, 0.77267013]]])"
            ]
          },
          "metadata": {},
          "execution_count": 224
        }
      ],
      "source": [
        "np.random.random([3, 3, 3])"
      ]
    },
    {
      "cell_type": "markdown",
      "metadata": {
        "id": "9AAAvBaxZg23"
      },
      "source": [
        "#### 13. Create a 10x10 array with random values and find the minimum and maximum values (★☆☆) \n",
        "(**hint**: min, max)"
      ]
    },
    {
      "cell_type": "code",
      "execution_count": 225,
      "metadata": {
        "id": "igFOccVpZg23"
      },
      "outputs": [],
      "source": [
        "arr = np.random.random([10, 10])"
      ]
    },
    {
      "cell_type": "code",
      "source": [
        "arr"
      ],
      "metadata": {
        "colab": {
          "base_uri": "https://localhost:8080/"
        },
        "id": "uYDW0edMZmeG",
        "outputId": "797ab2b4-e3e7-4832-9fe3-3d8a340bb28d"
      },
      "execution_count": 226,
      "outputs": [
        {
          "output_type": "execute_result",
          "data": {
            "text/plain": [
              "array([[0.69048364, 0.83453809, 0.04416355, 0.28437543, 0.56684114, 0.0137021 , 0.77032046, 0.96196182, 0.57467953, 0.21334986],\n",
              "       [0.88482089, 0.46953541, 0.62585758, 0.32123976, 0.7757713 , 0.91753125, 0.04736128, 0.53319826, 0.13149111, 0.09693665],\n",
              "       [0.97781932, 0.71613547, 0.82803832, 0.79662741, 0.60240838, 0.81262404, 0.45910706, 0.75435413, 0.40215319, 0.44070751],\n",
              "       [0.6360938 , 0.87084661, 0.52136128, 0.52884946, 0.43493524, 0.32842071, 0.33173166, 0.60417545, 0.70649826, 0.78380913],\n",
              "       [0.55710862, 0.12509523, 0.96425469, 0.6570938 , 0.35492597, 0.57482932, 0.66815812, 0.84020499, 0.42739896, 0.6147774 ],\n",
              "       [0.75413352, 0.50319043, 0.35471659, 0.57273055, 0.23850415, 0.01883415, 0.82059261, 0.04347432, 0.23026578, 0.71227563],\n",
              "       [0.44065553, 0.25374577, 0.0556275 , 0.92691608, 0.82782462, 0.47418738, 0.37501355, 0.9166262 , 0.1549409 , 0.15123809],\n",
              "       [0.5470318 , 0.90175976, 0.42631617, 0.05993067, 0.89862726, 0.73027818, 0.45773455, 0.15795634, 0.78303836, 0.79501568],\n",
              "       [0.03925   , 0.05661669, 0.27015171, 0.27655622, 0.07121409, 0.70299676, 0.25266249, 0.20403255, 0.220079  , 0.73541344],\n",
              "       [0.734775  , 0.42430277, 0.31500282, 0.91123324, 0.7768574 , 0.7665298 , 0.36551877, 0.60741947, 0.60999556, 0.76009354]])"
            ]
          },
          "metadata": {},
          "execution_count": 226
        }
      ]
    },
    {
      "cell_type": "code",
      "source": [
        "np.max(arr)"
      ],
      "metadata": {
        "colab": {
          "base_uri": "https://localhost:8080/"
        },
        "id": "QcNlqitBZcMi",
        "outputId": "03c0ec74-7d52-4572-c9b7-b13989544815"
      },
      "execution_count": 227,
      "outputs": [
        {
          "output_type": "execute_result",
          "data": {
            "text/plain": [
              "0.9778193228746785"
            ]
          },
          "metadata": {},
          "execution_count": 227
        }
      ]
    },
    {
      "cell_type": "code",
      "source": [
        "np.min(arr)"
      ],
      "metadata": {
        "colab": {
          "base_uri": "https://localhost:8080/"
        },
        "id": "a4PPUnGEZjHP",
        "outputId": "4dd357e8-540a-4c1a-ce38-be371918fd8d"
      },
      "execution_count": 228,
      "outputs": [
        {
          "output_type": "execute_result",
          "data": {
            "text/plain": [
              "0.013702095815957382"
            ]
          },
          "metadata": {},
          "execution_count": 228
        }
      ]
    },
    {
      "cell_type": "markdown",
      "metadata": {
        "id": "zqAypotWZg23"
      },
      "source": [
        "#### 14. Create a random vector of size 30 and find the mean value (★☆☆) \n",
        "(**hint**: mean)"
      ]
    },
    {
      "cell_type": "code",
      "execution_count": 229,
      "metadata": {
        "id": "LY7JXG1iZg23",
        "colab": {
          "base_uri": "https://localhost:8080/"
        },
        "outputId": "be35a4c3-4589-4331-90e2-a44d33dcefdb"
      },
      "outputs": [
        {
          "output_type": "execute_result",
          "data": {
            "text/plain": [
              "0.4449795285970659"
            ]
          },
          "metadata": {},
          "execution_count": 229
        }
      ],
      "source": [
        "arr = np.random.random(30)\n",
        "np.mean(arr)"
      ]
    },
    {
      "cell_type": "markdown",
      "metadata": {
        "id": "BpSem892Zg23"
      },
      "source": [
        "#### 15. Create a 2d array with 1 on the border and 0 inside (★☆☆) \n",
        "(**hint**: array\\[1:-1, 1:-1\\])"
      ]
    },
    {
      "cell_type": "code",
      "execution_count": 230,
      "metadata": {
        "id": "85oZOiXkZg24",
        "colab": {
          "base_uri": "https://localhost:8080/"
        },
        "outputId": "fd37d9ce-010b-4ad9-923e-1a2db06661ee"
      },
      "outputs": [
        {
          "output_type": "stream",
          "name": "stdout",
          "text": [
            "[[1. 1. 1. 1. 1.]\n",
            " [1. 0. 0. 0. 1.]\n",
            " [1. 0. 0. 0. 1.]\n",
            " [1. 0. 0. 0. 1.]\n",
            " [1. 1. 1. 1. 1.]]\n"
          ]
        }
      ],
      "source": [
        "arr = np.ones([5, 5])\n",
        "arr[1:-1, 1:-1] = 0\n",
        "print(arr)"
      ]
    },
    {
      "cell_type": "markdown",
      "metadata": {
        "id": "SidnrkhXZg24"
      },
      "source": [
        "#### 16. How to add a border (filled with 0's) around an existing array? (★☆☆) \n",
        "(**hint**: np.pad)"
      ]
    },
    {
      "cell_type": "code",
      "execution_count": 231,
      "metadata": {
        "id": "QTmU_ednZg24",
        "colab": {
          "base_uri": "https://localhost:8080/"
        },
        "outputId": "7d985b88-471f-4f8f-b1a9-c5beb2ed8352"
      },
      "outputs": [
        {
          "output_type": "stream",
          "name": "stdout",
          "text": [
            "[[0. 0. 0. 0. 0. 0. 0.]\n",
            " [0. 1. 1. 1. 1. 1. 0.]\n",
            " [0. 1. 1. 1. 1. 1. 0.]\n",
            " [0. 1. 1. 1. 1. 1. 0.]\n",
            " [0. 1. 1. 1. 1. 1. 0.]\n",
            " [0. 1. 1. 1. 1. 1. 0.]\n",
            " [0. 0. 0. 0. 0. 0. 0.]]\n"
          ]
        }
      ],
      "source": [
        "arr = np.ones([5, 5])\n",
        "arr = np.pad(arr, pad_width=1, mode='constant', constant_values=0)\n",
        "print(arr)"
      ]
    },
    {
      "cell_type": "markdown",
      "metadata": {
        "id": "nlQHkOBUZg24"
      },
      "source": [
        "#### 17. What is the result of the following expression? (★☆☆) \n",
        "(**hint**: NaN = not a number, inf = infinity)"
      ]
    },
    {
      "cell_type": "markdown",
      "metadata": {
        "id": "bJs6Ih6IZg24"
      },
      "source": [
        "```python\n",
        "0 * np.nan :: nan\n",
        "np.nan == np.nan : False\n",
        "np.inf > np.nan :: False\n",
        "np.nan - np.nan :: nan\n",
        "0.3 == 3 * 0.1 :: False\n",
        "```"
      ]
    },
    {
      "cell_type": "markdown",
      "metadata": {
        "id": "qGwPsn-PZg25"
      },
      "source": [
        "#### 18. Create a 5x5 matrix with values 1,2,3,4 just below the diagonal (★☆☆) \n",
        "(**hint**: np.diag)"
      ]
    },
    {
      "cell_type": "code",
      "execution_count": 232,
      "metadata": {
        "id": "dEg9EGtpZg25",
        "colab": {
          "base_uri": "https://localhost:8080/"
        },
        "outputId": "739d3778-89bb-480b-af36-5e779f6568d2"
      },
      "outputs": [
        {
          "output_type": "stream",
          "name": "stdout",
          "text": [
            "[[0 0 0 0 0]\n",
            " [1 0 0 0 0]\n",
            " [0 2 0 0 0]\n",
            " [0 0 3 0 0]\n",
            " [0 0 0 4 0]]\n"
          ]
        }
      ],
      "source": [
        "print(np.diag([1, 2, 3, 4], k=-1))"
      ]
    },
    {
      "cell_type": "markdown",
      "metadata": {
        "id": "5YdNUr8TZg25"
      },
      "source": [
        "#### 19. Create a 8x8 matrix and fill it with a checkerboard pattern (★☆☆) \n",
        "(**hint**: array\\[::2\\])"
      ]
    },
    {
      "cell_type": "code",
      "execution_count": 233,
      "metadata": {
        "id": "RMxC2jKfZg25",
        "colab": {
          "base_uri": "https://localhost:8080/"
        },
        "outputId": "e6c73ccf-60f1-45ff-85f0-eca3a7986d62"
      },
      "outputs": [
        {
          "output_type": "stream",
          "name": "stdout",
          "text": [
            "[[0 1 0 1 0 1 0 1]\n",
            " [1 0 1 0 1 0 1 0]\n",
            " [0 1 0 1 0 1 0 1]\n",
            " [1 0 1 0 1 0 1 0]\n",
            " [0 1 0 1 0 1 0 1]\n",
            " [1 0 1 0 1 0 1 0]\n",
            " [0 1 0 1 0 1 0 1]\n",
            " [1 0 1 0 1 0 1 0]]\n"
          ]
        }
      ],
      "source": [
        "x = np.zeros((8,8),dtype=int)\n",
        "x[1::2,::2] = 1\n",
        "x[::2,1::2] = 1\n",
        "print(x)"
      ]
    },
    {
      "cell_type": "markdown",
      "metadata": {
        "id": "xjyZkI47Zg25"
      },
      "source": [
        "#### 20. Consider a (6,7,8) shape array, what is the index (x,y,z) of the 100th element? \n",
        "(**hint**: np.unravel_index)"
      ]
    },
    {
      "cell_type": "code",
      "execution_count": 234,
      "metadata": {
        "id": "8Gctsf5cZg26",
        "colab": {
          "base_uri": "https://localhost:8080/"
        },
        "outputId": "43b95b90-3481-4652-ca98-34a5cbff929a"
      },
      "outputs": [
        {
          "output_type": "stream",
          "name": "stdout",
          "text": [
            "(1, 5, 3)\n"
          ]
        }
      ],
      "source": [
        "print(np.unravel_index(99,(6,7,8)))"
      ]
    },
    {
      "cell_type": "markdown",
      "metadata": {
        "id": "iAtYHXjQZg26"
      },
      "source": [
        "#### 21. Create a checkerboard 8x8 matrix using the tile function (★☆☆) \n",
        "(**hint**: np.tile)"
      ]
    },
    {
      "cell_type": "code",
      "execution_count": 235,
      "metadata": {
        "id": "ydbxuyKpZg26",
        "colab": {
          "base_uri": "https://localhost:8080/"
        },
        "outputId": "72c06e8d-977a-481e-b720-ae0ce4c5b4a4"
      },
      "outputs": [
        {
          "output_type": "stream",
          "name": "stdout",
          "text": [
            "[[0 1 0 1 0 1 0 1]\n",
            " [1 0 1 0 1 0 1 0]\n",
            " [0 1 0 1 0 1 0 1]\n",
            " [1 0 1 0 1 0 1 0]\n",
            " [0 1 0 1 0 1 0 1]\n",
            " [1 0 1 0 1 0 1 0]\n",
            " [0 1 0 1 0 1 0 1]\n",
            " [1 0 1 0 1 0 1 0]]\n"
          ]
        }
      ],
      "source": [
        "z=np.tile(np.array([[0,1],[1,0]]),(4,4))\n",
        "print(z)"
      ]
    },
    {
      "cell_type": "markdown",
      "metadata": {
        "id": "5yQm5m9PZg26"
      },
      "source": [
        "#### 22. Normalize a 5x5 random matrix (★☆☆) \n",
        "(**hint**: (x - min) / (max - min))"
      ]
    },
    {
      "cell_type": "code",
      "execution_count": 236,
      "metadata": {
        "id": "PuAvtQGzZg26",
        "colab": {
          "base_uri": "https://localhost:8080/"
        },
        "outputId": "9a2dca3a-5ec9-4e57-ec0e-845a264f1ef2"
      },
      "outputs": [
        {
          "output_type": "stream",
          "name": "stdout",
          "text": [
            "[[0.44944235 0.86118064 0.         0.99317904 0.89138649]\n",
            " [0.32747643 0.23764213 1.         0.44286116 0.99753708]\n",
            " [0.12203885 0.26674358 0.14872776 0.14582051 0.17467386]\n",
            " [0.2913609  0.88636577 0.35922303 0.94717153 0.88175401]\n",
            " [0.52174697 0.88682807 0.38718062 0.15314386 0.33204019]]\n"
          ]
        }
      ],
      "source": [
        "z=np.random.random([5,5])\n",
        "z=(z-np.min(z))/(np.max(z) - np.min(z))\n",
        "print(z)"
      ]
    },
    {
      "cell_type": "markdown",
      "metadata": {
        "id": "Ju6OR6qLZg27"
      },
      "source": [
        "#### 23. Create a custom dtype that describes a color as four unsigned bytes (RGBA) (★☆☆) \n",
        "(**hint**: np.dtype)"
      ]
    },
    {
      "cell_type": "code",
      "execution_count": 237,
      "metadata": {
        "collapsed": true,
        "id": "8TJE67v9Zg27",
        "colab": {
          "base_uri": "https://localhost:8080/"
        },
        "outputId": "357a5894-e1c2-46a1-ff1c-c29c1e365e67"
      },
      "outputs": [
        {
          "output_type": "stream",
          "name": "stdout",
          "text": [
            "1\n"
          ]
        }
      ],
      "source": [
        "RGBA = np.dtype([('red',np.uint8),('green',np.uint8),('blue',np.uint8),('alpha',np.uint8)])\n",
        "color = np.array((1,2,4,3),dtype = RGBA)\n",
        "print(color['red'])"
      ]
    },
    {
      "cell_type": "markdown",
      "metadata": {
        "id": "kwyj0wrhZg27"
      },
      "source": [
        "#### 24. Multiply a 5x3 matrix by a 3x2 matrix (real matrix product) (★☆☆) \n",
        "(**hint**: np.dot | @)"
      ]
    },
    {
      "cell_type": "code",
      "execution_count": 238,
      "metadata": {
        "id": "mzIQ6T2QZg27",
        "colab": {
          "base_uri": "https://localhost:8080/"
        },
        "outputId": "435253df-b5e1-40cb-e991-d7352fa39498"
      },
      "outputs": [
        {
          "output_type": "stream",
          "name": "stdout",
          "text": [
            "[[1.09141251 0.69375373]\n",
            " [0.63981965 0.50400043]\n",
            " [1.01642834 0.628897  ]\n",
            " [1.32576226 0.95139582]\n",
            " [0.7730927  0.56474996]]\n"
          ]
        }
      ],
      "source": [
        "z=np.dot(np.random.rand(5,3),np.random.rand(3,2))\n",
        "print(z)"
      ]
    },
    {
      "cell_type": "markdown",
      "metadata": {
        "id": "J8e6xQZoZg27"
      },
      "source": [
        "#### 25. Given a 1D array, negate all elements which are between 3 and 8, in place. (★☆☆) \n",
        "(**hint**: >, <=)"
      ]
    },
    {
      "cell_type": "code",
      "execution_count": 239,
      "metadata": {
        "id": "XQeHeBgTZg27",
        "colab": {
          "base_uri": "https://localhost:8080/"
        },
        "outputId": "adcede97-dca7-4865-aed6-08bd3552854e"
      },
      "outputs": [
        {
          "output_type": "stream",
          "name": "stdout",
          "text": [
            "[ 0  1  2 -3 -4 -5 -6 -7 -8  9 10 11 12 13 14 15]\n"
          ]
        }
      ],
      "source": [
        "arr = np.arange(16)\n",
        "arr[(arr>=3) & (arr<=8)]*=(-1)\n",
        "print(arr)"
      ]
    },
    {
      "cell_type": "markdown",
      "metadata": {
        "id": "N7pTOuL3Zg27"
      },
      "source": [
        "#### 26. What is the output of the following script? (★☆☆) \n",
        "(**hint**: np.sum)"
      ]
    },
    {
      "cell_type": "markdown",
      "metadata": {
        "id": "DwO-VDT1Zg28"
      },
      "source": [
        "```python\n",
        "# Author: Jake VanderPlas\n",
        "\n",
        "print(sum(range(5),-1))\n",
        "from numpy import *\n",
        "print(sum(range(5),-1))\n",
        "```"
      ]
    },
    {
      "cell_type": "markdown",
      "source": [
        "10\n",
        "\n",
        "10"
      ],
      "metadata": {
        "id": "3c-3PFzAn-yk"
      }
    },
    {
      "cell_type": "markdown",
      "metadata": {
        "id": "v6W_y2sGZg28"
      },
      "source": [
        "#### 27. Consider an integer vector Z, which of these expressions are legal? (★☆☆)"
      ]
    },
    {
      "cell_type": "markdown",
      "metadata": {
        "id": "piV61HZYZg28"
      },
      "source": [
        "```python\n",
        "Z**Z\n",
        "2 << Z >> 2\n",
        "Z <- Z\n",
        "1j*Z\n",
        "Z/1/1\n",
        "Z<Z>Z\n",
        "```"
      ]
    },
    {
      "cell_type": "markdown",
      "source": [
        "Following expressions are legal -\n",
        "\n",
        "Z**Z\n",
        "\n",
        "2 << Z >> 2\n",
        "\n",
        "Z <- Z\n",
        "\n",
        "1j*Z\n",
        "\n",
        "Z/1/1"
      ],
      "metadata": {
        "id": "ipTga1ngoOMg"
      }
    },
    {
      "cell_type": "markdown",
      "metadata": {
        "id": "vT55hAPtZg28"
      },
      "source": [
        "#### 28. What are the result of the following expressions?"
      ]
    },
    {
      "cell_type": "markdown",
      "metadata": {
        "id": "Ro1GDw_xZg28"
      },
      "source": [
        "```python\n",
        "np.array(0) / np.array(0)\n",
        "np.array(0) // np.array(0)\n",
        "np.array([np.nan]).astype(int).astype(float)\n",
        "```"
      ]
    },
    {
      "cell_type": "markdown",
      "source": [
        "nan\n",
        "\n",
        "0\n",
        "\n",
        "array([-9.22337204e+18])"
      ],
      "metadata": {
        "id": "y5wrUp1rpdJN"
      }
    },
    {
      "cell_type": "markdown",
      "metadata": {
        "id": "qkh6ZjlsZg29"
      },
      "source": [
        "#### 29. How to round away from zero a float array ? (★☆☆) \n",
        "(**hint**: np.uniform, np.copysign, np.ceil, np.abs)"
      ]
    },
    {
      "cell_type": "code",
      "execution_count": 240,
      "metadata": {
        "id": "WxIzmSbYZg29",
        "colab": {
          "base_uri": "https://localhost:8080/"
        },
        "outputId": "f26c7fde-a1c3-407c-b442-f214cceaf805"
      },
      "outputs": [
        {
          "output_type": "stream",
          "name": "stdout",
          "text": [
            "[[0.05 0.31 0.87 0.89 0.37]\n",
            " [0.12 0.14 0.35 0.16 0.56]\n",
            " [0.56 0.39 0.18 0.69 0.97]\n",
            " [0.58 0.25 0.65 0.07 0.51]\n",
            " [0.44 0.89 0.   0.5  0.68]]\n"
          ]
        }
      ],
      "source": [
        "arr = np.random.random((5,5))\n",
        "arr = np.round(arr,2)\n",
        "print(arr)"
      ]
    },
    {
      "cell_type": "markdown",
      "metadata": {
        "id": "v2IDXh0PZg29"
      },
      "source": [
        "#### 30. How to find common values between two arrays? (★☆☆) \n",
        "(**hint**: np.intersect1d)"
      ]
    },
    {
      "cell_type": "code",
      "execution_count": 241,
      "metadata": {
        "id": "hMCwUHUZZg29",
        "colab": {
          "base_uri": "https://localhost:8080/"
        },
        "outputId": "9a472c0a-5945-434d-965b-bd1f521d63c9"
      },
      "outputs": [
        {
          "output_type": "execute_result",
          "data": {
            "text/plain": [
              "array([0, 1, 2, 3, 4, 5])"
            ]
          },
          "metadata": {},
          "execution_count": 241
        }
      ],
      "source": [
        "arr_1 = np.arange(9).reshape(3,3)\n",
        "arr_2 = np.array([[0,1,2],[3,4,5],[17,18,19]])\n",
        "np.intersect1d(arr_1, arr_2)"
      ]
    },
    {
      "cell_type": "markdown",
      "metadata": {
        "id": "_5IqQAwGZg29"
      },
      "source": [
        "#### 31. How to ignore all numpy warnings (not recommended)? (★☆☆) \n",
        "(**hint**: np.seterr, np.errstate)"
      ]
    },
    {
      "cell_type": "code",
      "execution_count": 242,
      "metadata": {
        "id": "AHXbhsA3Zg29",
        "colab": {
          "base_uri": "https://localhost:8080/"
        },
        "outputId": "82fc8c5f-db0c-45a8-9f6f-5b3b14638462"
      },
      "outputs": [
        {
          "output_type": "execute_result",
          "data": {
            "text/plain": [
              "array([inf])"
            ]
          },
          "metadata": {},
          "execution_count": 242
        }
      ],
      "source": [
        "defaults = np.seterr(all=\"ignore\")\n",
        "x = np.ones(1) / 0\n",
        "x"
      ]
    },
    {
      "cell_type": "code",
      "source": [
        "with np.errstate(divide='ignore'):\n",
        "    x = np.ones(1) / 0\n",
        "    print(x)"
      ],
      "metadata": {
        "colab": {
          "base_uri": "https://localhost:8080/"
        },
        "id": "14xzgaCi4B8E",
        "outputId": "0c7142bb-6c6f-45f9-df22-0f31930d980a"
      },
      "execution_count": 243,
      "outputs": [
        {
          "output_type": "stream",
          "name": "stdout",
          "text": [
            "[inf]\n"
          ]
        }
      ]
    },
    {
      "cell_type": "markdown",
      "metadata": {
        "id": "E-yUlE33Zg29"
      },
      "source": [
        "#### 32. Is the following expressions true? (★☆☆) \n",
        "(**hint**: imaginary number)"
      ]
    },
    {
      "cell_type": "markdown",
      "metadata": {
        "id": "TUpB-ls9Zg29"
      },
      "source": [
        "```python\n",
        "np.sqrt(-1) == np.emath.sqrt(-1)\n",
        "```"
      ]
    },
    {
      "cell_type": "code",
      "execution_count": 244,
      "metadata": {
        "id": "Ey24qaEPZg2-",
        "colab": {
          "base_uri": "https://localhost:8080/"
        },
        "outputId": "d4a302f1-00fa-4806-c1db-2d6311822720"
      },
      "outputs": [
        {
          "output_type": "execute_result",
          "data": {
            "text/plain": [
              "False"
            ]
          },
          "metadata": {},
          "execution_count": 244
        }
      ],
      "source": [
        "np.sqrt(-1) == np.emath.sqrt(-1)"
      ]
    },
    {
      "cell_type": "markdown",
      "metadata": {
        "id": "XPwXAZyrZg2-"
      },
      "source": [
        "#### 33. How to get the dates of yesterday, today and tomorrow? (★☆☆) \n",
        "(**hint**: np.datetime64, np.timedelta64)"
      ]
    },
    {
      "cell_type": "code",
      "execution_count": 245,
      "metadata": {
        "collapsed": true,
        "id": "_b_2SkavZg2-",
        "colab": {
          "base_uri": "https://localhost:8080/"
        },
        "outputId": "9ec53e42-7f4d-4d18-984c-01478c488546"
      },
      "outputs": [
        {
          "output_type": "stream",
          "name": "stdout",
          "text": [
            "2023-01-03\n"
          ]
        }
      ],
      "source": [
        "print(np.datetime64('today', 'D')) #Today date"
      ]
    },
    {
      "cell_type": "code",
      "source": [
        "print(np.datetime64('today', 'D') - np.timedelta64(1, 'D')) # Yesterday date"
      ],
      "metadata": {
        "colab": {
          "base_uri": "https://localhost:8080/"
        },
        "id": "_yWOcngh5HQ3",
        "outputId": "def80da2-df65-42f8-f9ab-b1f13c102480"
      },
      "execution_count": 246,
      "outputs": [
        {
          "output_type": "stream",
          "name": "stdout",
          "text": [
            "2023-01-02\n"
          ]
        }
      ]
    },
    {
      "cell_type": "code",
      "source": [
        "print(np.datetime64('today', 'D') + np.timedelta64(1, 'D')) # Tomorrow date"
      ],
      "metadata": {
        "colab": {
          "base_uri": "https://localhost:8080/"
        },
        "id": "LJew-Xii5ejB",
        "outputId": "b8128c4c-beb2-4e9f-a481-5c26290ea73d"
      },
      "execution_count": 247,
      "outputs": [
        {
          "output_type": "stream",
          "name": "stdout",
          "text": [
            "2023-01-04\n"
          ]
        }
      ]
    },
    {
      "cell_type": "markdown",
      "metadata": {
        "id": "4y97Fdj8Zg2_"
      },
      "source": [
        "#### 34. How to get all the dates corresponding to the month of July 2016? (★★☆) \n",
        "(**hint**: np.arange(dtype=datetime64\\['D'\\]))"
      ]
    },
    {
      "cell_type": "code",
      "execution_count": 248,
      "metadata": {
        "id": "GduEaBlbZg2_",
        "colab": {
          "base_uri": "https://localhost:8080/"
        },
        "outputId": "513f7e73-6fe7-4956-dfa1-037235d4ba74"
      },
      "outputs": [
        {
          "output_type": "stream",
          "name": "stdout",
          "text": [
            "['2016-07-01' '2016-07-02' '2016-07-03' '2016-07-04' '2016-07-05' '2016-07-06' '2016-07-07' '2016-07-08' '2016-07-09' '2016-07-10' '2016-07-11' '2016-07-12' '2016-07-13' '2016-07-14' '2016-07-15' '2016-07-16' '2016-07-17' '2016-07-18' '2016-07-19' '2016-07-20' '2016-07-21' '2016-07-22' '2016-07-23' '2016-07-24' '2016-07-25' '2016-07-26' '2016-07-27' '2016-07-28' '2016-07-29' '2016-07-30' '2016-07-31']\n"
          ]
        }
      ],
      "source": [
        "print(np.arange('2016-07', '2016-08', dtype='datetime64[D]'))"
      ]
    },
    {
      "cell_type": "markdown",
      "metadata": {
        "id": "BZTnJS2eZg2_"
      },
      "source": [
        "#### 35. How to compute ((A+B)\\*(-A/2)) in place (without copy)? (★★☆) \n",
        "(**hint**: np.add(out=), np.negative(out=), np.multiply(out=), np.divide(out=))"
      ]
    },
    {
      "cell_type": "code",
      "execution_count": 249,
      "metadata": {
        "id": "XQBzHILBZg2_",
        "colab": {
          "base_uri": "https://localhost:8080/"
        },
        "outputId": "d32e8ca0-d3f6-4caa-f43f-da9543c9dff9"
      },
      "outputs": [
        {
          "output_type": "execute_result",
          "data": {
            "text/plain": [
              "-4.5"
            ]
          },
          "metadata": {},
          "execution_count": 249
        }
      ],
      "source": [
        "A = np.ones(3)*1\n",
        "B = np.ones(3)*2\n",
        "\n",
        "np.add(A,B,out=B)\n",
        "np.divide(A,2,out=A)\n",
        "np.negative(A,out=A)\n",
        "np.dot(A,B)"
      ]
    },
    {
      "cell_type": "markdown",
      "metadata": {
        "id": "yheLqd_DZg3A"
      },
      "source": [
        "#### 36. Extract the integer part of a random array using 5 different methods (★★☆) \n",
        "(**hint**: %, np.floor, np.ceil, astype, np.trunc)"
      ]
    },
    {
      "cell_type": "code",
      "execution_count": 250,
      "metadata": {
        "id": "Yy_2DvdRZg3A",
        "colab": {
          "base_uri": "https://localhost:8080/"
        },
        "outputId": "fdf63fb2-c886-4731-a15f-f22bff37f1a1"
      },
      "outputs": [
        {
          "output_type": "stream",
          "name": "stdout",
          "text": [
            "[6. 0. 5. 9. 8. 7. 6. 6. 5. 5.]\n",
            "[6. 0. 5. 9. 8. 7. 6. 6. 5. 5.]\n",
            "[6. 0. 5. 9. 8. 7. 6. 6. 5. 5.]\n",
            "[6 0 5 9 8 7 6 6 5 5]\n",
            "[6. 0. 5. 9. 8. 7. 6. 6. 5. 5.]\n"
          ]
        }
      ],
      "source": [
        "Z = np.random.uniform(0,10,10)\n",
        "\n",
        "print (Z - Z%1)\n",
        "print (np.floor(Z))\n",
        "print (np.ceil(Z)-1)\n",
        "print (Z.astype(int))\n",
        "print(np.trunc(Z))"
      ]
    },
    {
      "cell_type": "markdown",
      "metadata": {
        "id": "S911LIMeZg3A"
      },
      "source": [
        "#### 37. Create a 5x5 matrix with row values ranging from 0 to 4 (★★☆) \n",
        "(**hint**: np.arange)"
      ]
    },
    {
      "cell_type": "code",
      "execution_count": 251,
      "metadata": {
        "id": "A7beBcQ4Zg3A",
        "colab": {
          "base_uri": "https://localhost:8080/"
        },
        "outputId": "71a2a73c-44e4-4afc-cff7-d76b7be246db"
      },
      "outputs": [
        {
          "output_type": "stream",
          "name": "stdout",
          "text": [
            "[[0. 1. 2. 3. 4.]\n",
            " [0. 1. 2. 3. 4.]\n",
            " [0. 1. 2. 3. 4.]\n",
            " [0. 1. 2. 3. 4.]\n",
            " [0. 1. 2. 3. 4.]]\n"
          ]
        }
      ],
      "source": [
        "Z = np.zeros((5,5))\n",
        "Z += np.arange(5)\n",
        "print(Z)"
      ]
    },
    {
      "cell_type": "markdown",
      "metadata": {
        "id": "L_zKC2-tZg3A"
      },
      "source": [
        "#### 38. Consider a generator function that generates 10 integers and use it to build an array (★☆☆) \n",
        "(**hint**: np.fromiter)"
      ]
    },
    {
      "cell_type": "code",
      "execution_count": 252,
      "metadata": {
        "id": "CC6h5tqaZg3A",
        "colab": {
          "base_uri": "https://localhost:8080/"
        },
        "outputId": "334cf243-d3db-4c44-cd66-fac1768af583"
      },
      "outputs": [
        {
          "output_type": "stream",
          "name": "stdout",
          "text": [
            "[0. 1. 2. 3. 4. 5. 6. 7. 8. 9.]\n"
          ]
        }
      ],
      "source": [
        "def generate():\n",
        "    for x in range(10):\n",
        "        yield x\n",
        "Z = np.fromiter(generate(),dtype=float,count=-1)\n",
        "print(Z)"
      ]
    },
    {
      "cell_type": "markdown",
      "metadata": {
        "id": "x1_GicIvZg3B"
      },
      "source": [
        "#### 39. Create a vector of size 10 with values ranging from 0 to 1, both excluded (★★☆) \n",
        "(**hint**: np.linspace)"
      ]
    },
    {
      "cell_type": "code",
      "execution_count": 253,
      "metadata": {
        "id": "D0i68naFZg3B",
        "colab": {
          "base_uri": "https://localhost:8080/"
        },
        "outputId": "57b8518c-4efc-4d88-b9ed-8f74b4faec4d"
      },
      "outputs": [
        {
          "output_type": "stream",
          "name": "stdout",
          "text": [
            "[0.09090909 0.18181818 0.27272727 0.36363636 0.45454545 0.54545455 0.63636364 0.72727273 0.81818182 0.90909091]\n"
          ]
        }
      ],
      "source": [
        "Z = np.linspace(0,1,11,endpoint=False)[1:]\n",
        "print(Z)"
      ]
    },
    {
      "cell_type": "markdown",
      "metadata": {
        "id": "gEWREj_RZg3B"
      },
      "source": [
        "#### 40. Create a random vector of size 10 and sort it (★★☆) \n",
        "(**hint**: sort)"
      ]
    },
    {
      "cell_type": "code",
      "execution_count": 254,
      "metadata": {
        "id": "qkn1CIoIZg3B",
        "colab": {
          "base_uri": "https://localhost:8080/"
        },
        "outputId": "0c3d1602-8a41-408d-fde1-ea4ba9ededf4"
      },
      "outputs": [
        {
          "output_type": "stream",
          "name": "stdout",
          "text": [
            "[0.11657012 0.15231323 0.15656792 0.25642949 0.26935306 0.33069131 0.60289724 0.63025758 0.84287931 0.87995484]\n"
          ]
        }
      ],
      "source": [
        "Z = np.random.random(10)\n",
        "Z.sort()\n",
        "print(Z)"
      ]
    },
    {
      "cell_type": "markdown",
      "metadata": {
        "id": "bhAFcsrBZg3B"
      },
      "source": [
        "#### 41. How to sum a small array faster than np.sum? (★★☆) \n",
        "(**hint**: np.add.reduce)"
      ]
    },
    {
      "cell_type": "code",
      "execution_count": 255,
      "metadata": {
        "id": "RwN6CXZqZg3B",
        "colab": {
          "base_uri": "https://localhost:8080/"
        },
        "outputId": "f10104a7-f7c7-4799-8080-a5f95f5ef3c3"
      },
      "outputs": [
        {
          "output_type": "execute_result",
          "data": {
            "text/plain": [
              "45"
            ]
          },
          "metadata": {},
          "execution_count": 255
        }
      ],
      "source": [
        "Z = np.arange(10)\n",
        "np.add.reduce(Z)"
      ]
    },
    {
      "cell_type": "markdown",
      "metadata": {
        "id": "V_yrCOIJZg3B"
      },
      "source": [
        "#### 42. Consider two random array A and B, check if they are equal (★★☆) \n",
        "(**hint**: np.allclose, np.array\\_equal)"
      ]
    },
    {
      "cell_type": "code",
      "execution_count": 256,
      "metadata": {
        "id": "8DZ7GSEGZg3C"
      },
      "outputs": [],
      "source": [
        "A = np.random.randint(0,2,5)\n",
        "B = np.random.randint(0,2,5)"
      ]
    },
    {
      "cell_type": "code",
      "source": [
        "A"
      ],
      "metadata": {
        "colab": {
          "base_uri": "https://localhost:8080/"
        },
        "id": "z00asB8V7n8Z",
        "outputId": "c53aff70-72bd-421f-cb92-4dedf6b56b06"
      },
      "execution_count": 257,
      "outputs": [
        {
          "output_type": "execute_result",
          "data": {
            "text/plain": [
              "array([1, 1, 1, 0, 1])"
            ]
          },
          "metadata": {},
          "execution_count": 257
        }
      ]
    },
    {
      "cell_type": "code",
      "source": [
        "B"
      ],
      "metadata": {
        "colab": {
          "base_uri": "https://localhost:8080/"
        },
        "id": "iaHogFid7p4w",
        "outputId": "48fc3415-717a-4db4-e07c-63da9373b1a1"
      },
      "execution_count": 258,
      "outputs": [
        {
          "output_type": "execute_result",
          "data": {
            "text/plain": [
              "array([1, 0, 0, 0, 0])"
            ]
          },
          "metadata": {},
          "execution_count": 258
        }
      ]
    },
    {
      "cell_type": "code",
      "source": [
        "print(np.allclose(A,B))"
      ],
      "metadata": {
        "colab": {
          "base_uri": "https://localhost:8080/"
        },
        "id": "l_5Cc0so7sFz",
        "outputId": "85dcc78e-d611-40f8-84f3-de93da5ca912"
      },
      "execution_count": 259,
      "outputs": [
        {
          "output_type": "stream",
          "name": "stdout",
          "text": [
            "False\n"
          ]
        }
      ]
    },
    {
      "cell_type": "code",
      "source": [
        "print(np.array_equal(A,B))"
      ],
      "metadata": {
        "colab": {
          "base_uri": "https://localhost:8080/"
        },
        "id": "tWYJYkQH7yiB",
        "outputId": "8e7021ef-624c-4404-f23a-3e0dc3406c3d"
      },
      "execution_count": 260,
      "outputs": [
        {
          "output_type": "stream",
          "name": "stdout",
          "text": [
            "False\n"
          ]
        }
      ]
    },
    {
      "cell_type": "markdown",
      "metadata": {
        "id": "hljgVeuOZg3C"
      },
      "source": [
        "#### 43. Make an array immutable (read-only) (★★☆) \n",
        "(**hint**: flags.writeable)"
      ]
    },
    {
      "cell_type": "code",
      "execution_count": 261,
      "metadata": {
        "id": "qCWZqRGMZg3C",
        "colab": {
          "base_uri": "https://localhost:8080/",
          "height": 201
        },
        "outputId": "de371be1-8713-4989-bce3-8f6fa8f936ac"
      },
      "outputs": [
        {
          "output_type": "error",
          "ename": "ValueError",
          "evalue": "ignored",
          "traceback": [
            "\u001b[0;31m---------------------------------------------------------------------------\u001b[0m",
            "\u001b[0;31mValueError\u001b[0m                                Traceback (most recent call last)",
            "\u001b[0;32m<ipython-input-261-dcc5e7f145b5>\u001b[0m in \u001b[0;36m<module>\u001b[0;34m\u001b[0m\n\u001b[1;32m      1\u001b[0m \u001b[0mZ\u001b[0m \u001b[0;34m=\u001b[0m \u001b[0mnp\u001b[0m\u001b[0;34m.\u001b[0m\u001b[0mzeros\u001b[0m\u001b[0;34m(\u001b[0m\u001b[0;36m10\u001b[0m\u001b[0;34m)\u001b[0m\u001b[0;34m\u001b[0m\u001b[0;34m\u001b[0m\u001b[0m\n\u001b[1;32m      2\u001b[0m \u001b[0mZ\u001b[0m\u001b[0;34m.\u001b[0m\u001b[0mflags\u001b[0m\u001b[0;34m.\u001b[0m\u001b[0mwriteable\u001b[0m \u001b[0;34m=\u001b[0m \u001b[0;32mFalse\u001b[0m\u001b[0;34m\u001b[0m\u001b[0;34m\u001b[0m\u001b[0m\n\u001b[0;32m----> 3\u001b[0;31m \u001b[0mZ\u001b[0m\u001b[0;34m[\u001b[0m\u001b[0;36m0\u001b[0m\u001b[0;34m]\u001b[0m \u001b[0;34m=\u001b[0m \u001b[0;36m1\u001b[0m\u001b[0;34m\u001b[0m\u001b[0;34m\u001b[0m\u001b[0m\n\u001b[0m",
            "\u001b[0;31mValueError\u001b[0m: assignment destination is read-only"
          ]
        }
      ],
      "source": [
        "Z = np.zeros(10)\n",
        "Z.flags.writeable = False\n",
        "Z[0] = 1"
      ]
    },
    {
      "cell_type": "markdown",
      "metadata": {
        "id": "aICwAnjuZg3C"
      },
      "source": [
        "#### 44. Consider a random 10x2 matrix representing cartesian coordinates, convert them to polar coordinates (★★☆) \n",
        "(**hint**: np.sqrt, np.arctan2)"
      ]
    },
    {
      "cell_type": "code",
      "execution_count": 262,
      "metadata": {
        "id": "6X3nMx63Zg3C",
        "colab": {
          "base_uri": "https://localhost:8080/"
        },
        "outputId": "72c14c5a-6912-4afb-921f-a3b19691d6de"
      },
      "outputs": [
        {
          "output_type": "stream",
          "name": "stdout",
          "text": [
            "[[ 5.          0.92729522]\n",
            " [ 6.70820393  1.10714872]\n",
            " [ 4.12310563  1.32581766]\n",
            " [ 5.          0.92729522]\n",
            " [ 1.          0.        ]\n",
            " [ 7.28010989  1.29249667]\n",
            " [ 8.24621125  0.24497866]\n",
            " [ 4.47213595  1.10714872]\n",
            " [11.3137085   0.78539816]\n",
            " [ 7.81024968  0.87605805]]\n"
          ]
        }
      ],
      "source": [
        "z= np.random.randint(0,9,(10,2))\n",
        "x,y = z[:,0], z[:,1]\n",
        "r = np.sqrt(x**2+y**2)\n",
        "t = np.arctan2(y,x)\n",
        "poles = np.c_[r,t]\n",
        "print(poles)"
      ]
    },
    {
      "cell_type": "markdown",
      "metadata": {
        "id": "D09S3YnNZg3C"
      },
      "source": [
        "#### 45. Create random vector of size 10 and replace the maximum value by 0 (★★☆) \n",
        "(**hint**: argmax)"
      ]
    },
    {
      "cell_type": "code",
      "execution_count": 263,
      "metadata": {
        "id": "67D0hgKVZg3C",
        "colab": {
          "base_uri": "https://localhost:8080/"
        },
        "outputId": "1a9e9523-5978-446e-a77f-ce79cbbd50b3"
      },
      "outputs": [
        {
          "output_type": "stream",
          "name": "stdout",
          "text": [
            "[0.43792261 0.2309609  0.31621581 0.43645991 0.70364406 0.20591277 0.42544374 0.0620684  0.2098865  0.69189441]\n",
            "************************************************************\n",
            "[0.43792261 0.2309609  0.31621581 0.43645991 0.         0.20591277 0.42544374 0.0620684  0.2098865  0.69189441]\n"
          ]
        }
      ],
      "source": [
        "arr = np.random.random(10)\n",
        "print(arr)\n",
        "print('*'*60)\n",
        "arr[arr.argmax()] = 0\n",
        "print(arr)"
      ]
    },
    {
      "cell_type": "markdown",
      "metadata": {
        "id": "5MYiN9yJZg3C"
      },
      "source": [
        "#### 46. Create a structured array with `x` and `y` coordinates covering the \\[0,1\\]x\\[0,1\\] area (★★☆) \n",
        "(**hint**: np.meshgrid)"
      ]
    },
    {
      "cell_type": "code",
      "execution_count": 264,
      "metadata": {
        "id": "62HcWhtvZg3C",
        "colab": {
          "base_uri": "https://localhost:8080/"
        },
        "outputId": "7e41883f-0880-4959-86d4-a1e2337a7a16"
      },
      "outputs": [
        {
          "output_type": "stream",
          "name": "stdout",
          "text": [
            "[[(0.        , 0.        ) (0.11111111, 0.        ) (0.22222222, 0.        ) (0.33333333, 0.        ) (0.44444444, 0.        ) (0.55555556, 0.        ) (0.66666667, 0.        ) (0.77777778, 0.        ) (0.88888889, 0.        ) (1.        , 0.        )]\n",
            " [(0.        , 0.11111111) (0.11111111, 0.11111111) (0.22222222, 0.11111111) (0.33333333, 0.11111111) (0.44444444, 0.11111111) (0.55555556, 0.11111111) (0.66666667, 0.11111111) (0.77777778, 0.11111111) (0.88888889, 0.11111111) (1.        , 0.11111111)]\n",
            " [(0.        , 0.22222222) (0.11111111, 0.22222222) (0.22222222, 0.22222222) (0.33333333, 0.22222222) (0.44444444, 0.22222222) (0.55555556, 0.22222222) (0.66666667, 0.22222222) (0.77777778, 0.22222222) (0.88888889, 0.22222222) (1.        , 0.22222222)]\n",
            " [(0.        , 0.33333333) (0.11111111, 0.33333333) (0.22222222, 0.33333333) (0.33333333, 0.33333333) (0.44444444, 0.33333333) (0.55555556, 0.33333333) (0.66666667, 0.33333333) (0.77777778, 0.33333333) (0.88888889, 0.33333333) (1.        , 0.33333333)]\n",
            " [(0.        , 0.44444444) (0.11111111, 0.44444444) (0.22222222, 0.44444444) (0.33333333, 0.44444444) (0.44444444, 0.44444444) (0.55555556, 0.44444444) (0.66666667, 0.44444444) (0.77777778, 0.44444444) (0.88888889, 0.44444444) (1.        , 0.44444444)]\n",
            " [(0.        , 0.55555556) (0.11111111, 0.55555556) (0.22222222, 0.55555556) (0.33333333, 0.55555556) (0.44444444, 0.55555556) (0.55555556, 0.55555556) (0.66666667, 0.55555556) (0.77777778, 0.55555556) (0.88888889, 0.55555556) (1.        , 0.55555556)]\n",
            " [(0.        , 0.66666667) (0.11111111, 0.66666667) (0.22222222, 0.66666667) (0.33333333, 0.66666667) (0.44444444, 0.66666667) (0.55555556, 0.66666667) (0.66666667, 0.66666667) (0.77777778, 0.66666667) (0.88888889, 0.66666667) (1.        , 0.66666667)]\n",
            " [(0.        , 0.77777778) (0.11111111, 0.77777778) (0.22222222, 0.77777778) (0.33333333, 0.77777778) (0.44444444, 0.77777778) (0.55555556, 0.77777778) (0.66666667, 0.77777778) (0.77777778, 0.77777778) (0.88888889, 0.77777778) (1.        , 0.77777778)]\n",
            " [(0.        , 0.88888889) (0.11111111, 0.88888889) (0.22222222, 0.88888889) (0.33333333, 0.88888889) (0.44444444, 0.88888889) (0.55555556, 0.88888889) (0.66666667, 0.88888889) (0.77777778, 0.88888889) (0.88888889, 0.88888889) (1.        , 0.88888889)]\n",
            " [(0.        , 1.        ) (0.11111111, 1.        ) (0.22222222, 1.        ) (0.33333333, 1.        ) (0.44444444, 1.        ) (0.55555556, 1.        ) (0.66666667, 1.        ) (0.77777778, 1.        ) (0.88888889, 1.        ) (1.        , 1.        )]]\n"
          ]
        }
      ],
      "source": [
        "Z = np.zeros((10,10), [('x',float),('y',float)])\n",
        "Z['x'], Z['y'] = np.meshgrid(np.linspace(0,1,10),\n",
        "                             np.linspace(0,1,10))\n",
        "print(Z)"
      ]
    },
    {
      "cell_type": "markdown",
      "metadata": {
        "id": "q7obGTjVZg3C"
      },
      "source": [
        "####  47. Given two arrays, X and Y, construct the Cauchy matrix C (Cij =1/(xi - yj)) \n",
        "(**hint**: np.subtract.outer)"
      ]
    },
    {
      "cell_type": "code",
      "execution_count": 265,
      "metadata": {
        "id": "_5dURWRDZg3D",
        "colab": {
          "base_uri": "https://localhost:8080/"
        },
        "outputId": "f33d62c5-b29b-4f6d-8ae7-2cd33fb7361a"
      },
      "outputs": [
        {
          "output_type": "execute_result",
          "data": {
            "text/plain": [
              "(array([[-1.        , -0.33333333, -1.        , -1.        ,  0.33333333, -0.25      ,  1.        , -1.        , -0.2       , -0.33333333],\n",
              "        [-1.        , -0.33333333, -1.        , -1.        ,  0.33333333, -0.25      ,  1.        , -1.        , -0.2       , -0.33333333],\n",
              "        [-0.33333333, -0.2       , -0.33333333, -0.33333333,  1.        , -0.16666667, -1.        , -0.33333333, -0.14285714, -0.2       ],\n",
              "        [-1.        , -0.33333333, -1.        , -1.        ,  0.33333333, -0.25      ,  1.        , -1.        , -0.2       , -0.33333333],\n",
              "        [-0.33333333, -0.2       , -0.33333333, -0.33333333,  1.        , -0.16666667, -1.        , -0.33333333, -0.14285714, -0.2       ],\n",
              "        [-0.5       , -0.25      , -0.5       , -0.5       ,  0.5       , -0.2       ,         inf, -0.5       , -0.16666667, -0.25      ],\n",
              "        [ 0.25      ,  0.5       ,  0.25      ,  0.25      ,  0.125     ,  1.        ,  0.16666667,  0.25      ,         inf,  0.5       ],\n",
              "        [-0.5       , -0.25      , -0.5       , -0.5       ,  0.5       , -0.2       ,         inf, -0.5       , -0.16666667, -0.25      ],\n",
              "        [ 0.25      ,  0.5       ,  0.25      ,  0.25      ,  0.125     ,  1.        ,  0.16666667,  0.25      ,         inf,  0.5       ],\n",
              "        [ 1.        , -1.        ,  1.        ,  1.        ,  0.2       , -0.5       ,  0.33333333,  1.        , -0.33333333, -1.        ]]),\n",
              " array([[-1.        , -0.33333333, -1.        , -1.        ,  0.33333333, -0.25      ,  1.        , -1.        , -0.2       , -0.33333333],\n",
              "        [-1.        , -0.33333333, -1.        , -1.        ,  0.33333333, -0.25      ,  1.        , -1.        , -0.2       , -0.33333333],\n",
              "        [-0.33333333, -0.2       , -0.33333333, -0.33333333,  1.        , -0.16666667, -1.        , -0.33333333, -0.14285714, -0.2       ],\n",
              "        [-1.        , -0.33333333, -1.        , -1.        ,  0.33333333, -0.25      ,  1.        , -1.        , -0.2       , -0.33333333],\n",
              "        [-0.33333333, -0.2       , -0.33333333, -0.33333333,  1.        , -0.16666667, -1.        , -0.33333333, -0.14285714, -0.2       ],\n",
              "        [-0.5       , -0.25      , -0.5       , -0.5       ,  0.5       , -0.2       ,         inf, -0.5       , -0.16666667, -0.25      ],\n",
              "        [ 0.25      ,  0.5       ,  0.25      ,  0.25      ,  0.125     ,  1.        ,  0.16666667,  0.25      ,         inf,  0.5       ],\n",
              "        [-0.5       , -0.25      , -0.5       , -0.5       ,  0.5       , -0.2       ,         inf, -0.5       , -0.16666667, -0.25      ],\n",
              "        [ 0.25      ,  0.5       ,  0.25      ,  0.25      ,  0.125     ,  1.        ,  0.16666667,  0.25      ,         inf,  0.5       ],\n",
              "        [ 1.        , -1.        ,  1.        ,  1.        ,  0.2       , -0.5       ,  0.33333333,  1.        , -0.33333333, -1.        ]]))"
            ]
          },
          "metadata": {},
          "execution_count": 265
        }
      ],
      "source": [
        "Y = np.random.randint(0,11,10)\n",
        "X = np.random.randint(11,22,10)\n",
        "Y = np.tile(Y,(10,1))\n",
        "X  = np.tile(X,(10,1)).T\n",
        "\n",
        "C = 1.0/np.subtract.outer(x, y), 1.0/(x[:,None]-y)\n",
        "C"
      ]
    },
    {
      "cell_type": "markdown",
      "metadata": {
        "id": "bItraLMmZg3D"
      },
      "source": [
        "#### 48. Print the minimum and maximum representable value for each numpy scalar type (★★☆) \n",
        "(**hint**: np.iinfo, np.finfo, eps)"
      ]
    },
    {
      "cell_type": "code",
      "execution_count": 266,
      "metadata": {
        "id": "CI9sNpVYZg3D",
        "colab": {
          "base_uri": "https://localhost:8080/"
        },
        "outputId": "7180a438-b335-4d5e-f133-d304bc350dff"
      },
      "outputs": [
        {
          "output_type": "stream",
          "name": "stdout",
          "text": [
            "-128\n",
            "127\n",
            "-2147483648\n",
            "2147483647\n",
            "-9223372036854775808\n",
            "9223372036854775807\n",
            "-3.4028235e+38\n",
            "3.4028235e+38\n",
            "1.1920929e-07\n",
            "-1.7976931348623157e+308\n",
            "1.7976931348623157e+308\n",
            "2.220446049250313e-16\n"
          ]
        }
      ],
      "source": [
        "for dtype in [np.int8, np.int32, np.int64]:\n",
        "    print(np.iinfo(dtype).min)\n",
        "    print(np.iinfo(dtype).max)\n",
        "for dtype in [np.float32, np.float64]:\n",
        "    print(np.finfo(dtype).min)\n",
        "    print(np.finfo(dtype).max)\n",
        "    print(np.finfo(dtype).eps)"
      ]
    },
    {
      "cell_type": "markdown",
      "metadata": {
        "id": "7lCWcqHWZg3D"
      },
      "source": [
        "#### 49. How to print all the values of an array? (★★☆) \n",
        "(**hint**: np.set\\_printoptions)"
      ]
    },
    {
      "cell_type": "code",
      "execution_count": 267,
      "metadata": {
        "id": "o2ZT-ARxZg3D",
        "colab": {
          "base_uri": "https://localhost:8080/"
        },
        "outputId": "f367a4cb-7845-4885-c565-f3d1193c9167"
      },
      "outputs": [
        {
          "output_type": "stream",
          "name": "stdout",
          "text": [
            "[[0. 0. 0. 0.]\n",
            " [0. 0. 0. 0.]\n",
            " [0. 0. 0. 0.]\n",
            " [0. 0. 0. 0.]]\n"
          ]
        }
      ],
      "source": [
        "np.set_printoptions(threshold=np.inf, linewidth=np.nan)\n",
        "x = np.zeros((4, 4))\n",
        "print(x)"
      ]
    },
    {
      "cell_type": "markdown",
      "metadata": {
        "id": "8GhE7NPvZg3D"
      },
      "source": [
        "#### 50. How to find the closest value (to a given scalar) in a vector? (★★☆) \n",
        "(**hint**: argmin)"
      ]
    },
    {
      "cell_type": "code",
      "execution_count": 268,
      "metadata": {
        "id": "WN-Vq_0lZg3D",
        "colab": {
          "base_uri": "https://localhost:8080/"
        },
        "outputId": "8116ea05-f2aa-4f64-8b48-f03753b1bf27"
      },
      "outputs": [
        {
          "output_type": "stream",
          "name": "stdout",
          "text": [
            "[2.98327277 4.58242461 1.59287592 1.98238693 5.81619874 9.3451175  1.38646475 7.07357902 5.67472783 1.90876264]\n",
            "************************************************************\n",
            "4.582424609821098\n"
          ]
        }
      ],
      "source": [
        "arr = np.random.uniform(0,10,10)\n",
        "scal = 5\n",
        "arr_1 = np.abs(arr - 5)\n",
        "ind = arr_1.argmin()\n",
        "print(arr)\n",
        "print('*'*60)\n",
        "print(arr[ind])"
      ]
    },
    {
      "cell_type": "markdown",
      "metadata": {
        "id": "maA_knm9Zg3D"
      },
      "source": [
        "#### 51. Create a structured array representing a position (x,y) and a color (r,g,b) (★★☆) \n",
        "(**hint**: dtype)"
      ]
    },
    {
      "cell_type": "code",
      "execution_count": 269,
      "metadata": {
        "id": "1Nvo-aDHZg3D",
        "colab": {
          "base_uri": "https://localhost:8080/"
        },
        "outputId": "1f479a12-65e5-4228-f7aa-9ca80726a042"
      },
      "outputs": [
        {
          "output_type": "stream",
          "name": "stdout",
          "text": [
            "[((0., 0.), (0., 0., 0.)) ((0., 0.), (0., 0., 0.)) ((0., 0.), (0., 0., 0.)) ((0., 0.), (0., 0., 0.)) ((0., 0.), (0., 0., 0.)) ((0., 0.), (0., 0., 0.)) ((0., 0.), (0., 0., 0.)) ((0., 0.), (0., 0., 0.)) ((0., 0.), (0., 0., 0.)) ((0., 0.), (0., 0., 0.))]\n"
          ]
        }
      ],
      "source": [
        "Z = np.zeros(10, [ ('position', [ ('x', float),\n",
        "                                  ('y', float)]),\n",
        "                   ('color',    [ ('r', float),\n",
        "                                  ('g', float),\n",
        "                                  ('b', float)])])\n",
        "print(Z)"
      ]
    },
    {
      "cell_type": "markdown",
      "metadata": {
        "id": "94UGPodoZg3E"
      },
      "source": [
        "#### 52. Consider a random vector with shape (100,2) representing coordinates, find point by point distances (★★☆) \n",
        "(**hint**: np.atleast\\_2d, T, np.sqrt)"
      ]
    },
    {
      "cell_type": "code",
      "execution_count": 270,
      "metadata": {
        "id": "nmSt2LPqZg3E",
        "colab": {
          "base_uri": "https://localhost:8080/"
        },
        "outputId": "3b7e556a-c580-4c31-d12a-7df04719a884"
      },
      "outputs": [
        {
          "output_type": "stream",
          "name": "stdout",
          "text": [
            "[[0.         0.41598685 0.43697734 0.87243619 0.88116443 0.55852841 0.8213325  0.21977335 0.35067283 0.21741337 0.51428606 0.42353919 0.99106906 0.24792191 0.49004894 0.84682691 0.28038745 0.72027954 0.84891276 0.5850367  0.98545601 0.55194411 0.20451135 0.83315863 0.46555351 0.53734093 0.42555315 0.54965397 0.74510963 0.52483072 0.56612152 0.68042843 0.74471334 0.41979303 0.55602792 0.64795317 0.54488467 0.29434296 0.56152662 0.81211314 0.49887276 0.9724433  0.54200828 0.42470728 0.09202702 0.66219091 0.38486997 0.70171631 0.0991324  0.70751422 0.36252127 0.1842833  0.52923042 0.04264961 0.83244731 0.7427272  0.48793392 0.82973668 0.51655706 0.81974553 0.15905741 0.27260865 0.92544224 0.25936784 0.3472301  0.51601991 0.72005073 0.27738962 0.04132289 0.67326299 0.42612728 0.36769829 0.56761614 0.72768837 0.5940259  0.44379328 0.38835475 0.26994725 0.6122604  0.74700971 0.89732346 0.45567343 0.09977796 0.44261819 0.40693805 0.71931158 0.5527519  0.73196647 0.55635991 0.4954254  0.39733009 0.74183709 0.79953763 0.33915412 0.9139037  0.74957442 0.06963873 0.81618082 0.49404116 0.35087772]\n",
            " [0.41598685 0.         0.64838221 0.90212293 1.1207879  0.94646607 0.84343715 0.52868499 0.37383246 0.60959141 0.74867632 0.16906978 1.27660028 0.22335942 0.33121496 1.07584202 0.6902522  0.81324328 0.98905631 0.99736633 0.94834724 0.68952298 0.212068   0.9718521  0.88021144 0.85643859 0.83949187 0.90834137 0.9298325  0.93993833 0.97992627 0.72223668 1.06404086 0.76998727 0.77102179 1.02910283 0.86572113 0.7043131  0.8526143  1.00097324 0.89031212 1.29259663 0.62291148 0.83701957 0.33890096 0.82197922 0.80048094 1.06633663 0.51339772 0.90793922 0.14943856 0.59273147 0.46396471 0.379297   1.10781397 1.07405818 0.49100034 0.98453399 0.87082938 1.06793307 0.52421975 0.67458806 1.00531265 0.66045124 0.76166891 0.52905659 0.7630434  0.14898724 0.45701919 0.85301852 0.71603503 0.72896394 0.83883055 0.90673873 0.67805666 0.78160498 0.02901225 0.60096536 0.51093452 0.88295372 0.87099434 0.86573508 0.32861521 0.85483003 0.69751476 0.7759123  0.94888752 0.98552198 0.96977835 0.42835873 0.5277172  0.95403698 1.01070549 0.20063013 1.18115342 0.6959287  0.37754399 0.98665419 0.90864982 0.50054806]\n",
            " [0.43697734 0.64838221 0.         0.47843761 0.47582387 0.45887098 0.43916319 0.22333796 0.28934086 0.33267317 0.10055904 0.52818674 0.62930396 0.43249655 0.44501187 0.43362587 0.41014602 0.30603241 0.41251204 0.60652984 0.62447478 0.13939185 0.50087659 0.39707098 0.62375636 0.25883188 0.51360394 0.36127283 0.3104239  0.5967445  0.60796806 0.31182572 0.43888431 0.26030312 0.12693027 0.50384927 0.2681995  0.41550672 0.2248637  0.37961163 0.43099601 0.65796453 0.19185977 0.496534   0.41376116 0.22619597 0.51635419 0.49940331 0.45305932 0.27654752 0.50765243 0.38431263 0.35396742 0.42414611 0.46026141 0.45942877 0.27241998 0.39275982 0.32621262 0.42058779 0.30282857 0.36998362 0.50169758 0.36380114 0.55051477 0.26371604 0.3405774  0.51633909 0.43763413 0.2367091  0.1321379  0.26948238 0.1985199  0.29172402 0.21528327 0.24140509 0.62212452 0.21212294 0.41921422 0.31318477 0.53989026 0.4974142  0.41980122 0.50654518 0.12804596 0.32946857 0.48746448 0.33717329 0.7044065  0.35112568 0.13661705 0.31684218 0.37529462 0.45425484 0.53277134 0.4483704  0.39233786 0.38008393 0.56693177 0.14926768]\n",
            " [0.87243619 0.90212293 0.47843761 0.         0.5167724  0.87565019 0.05870652 0.68640257 0.56587487 0.80991858 0.46990187 0.73528377 0.71666969 0.75376915 0.57677523 0.47221983 0.88823871 0.17763768 0.24690449 1.04706884 0.16969237 0.3395282  0.85133828 0.23978085 1.09531882 0.64041511 0.98097054 0.7589805  0.33620602 1.05325854 1.0549446  0.19410028 0.69702437 0.71026659 0.42566422 0.88496711 0.64585226 0.8930951  0.57334349 0.35606649 0.86776717 0.82201139 0.33048653 0.9624696  0.81764019 0.30039393 0.98986574 0.84017433 0.91334314 0.37054703 0.75758435 0.8592387  0.43837491 0.84644435 0.59801501 0.73617341 0.42154337 0.27726178 0.7361387  0.51435905 0.76789046 0.8481205  0.13817543 0.84220245 1.02839071 0.38411326 0.15296983 0.82601985 0.88517747 0.33207906 0.58428174 0.73562335 0.52854474 0.32373145 0.27938207 0.68057655 0.88595891 0.6894983  0.407002   0.23363454 0.1193129  0.95685445 0.81943615 0.96992483 0.5901537  0.15381035 0.91349407 0.50163497 1.17051005 0.47381829 0.47512562 0.39979081 0.40891825 0.71479284 0.61408691 0.23401446 0.81164488 0.31196723 1.02643049 0.52158611]\n",
            " [0.88116443 1.1207879  0.47582387 0.5167724  0.         0.55363887 0.53238615 0.66309076 0.75090991 0.7063298  0.37877983 0.98770765 0.20191769 0.90804145 0.8727598  0.05025542 0.73205753 0.41326344 0.27035096 0.72953609 0.67750425 0.44674589 0.97521676 0.27707365 0.85666122 0.3760103  0.74303886 0.44950931 0.21750711 0.77032913 0.74931913 0.5235439  0.26396186 0.50526634 0.35028541 0.51217919 0.37282341 0.72835273 0.32796219 0.16563152 0.58119955 0.3083078  0.53459345 0.72301598 0.87836426 0.32458617 0.77693131 0.4346251  0.86456338 0.22065431 0.97608258 0.76353046 0.74459051 0.87892662 0.11146183 0.30361851 0.67526312 0.23980406 0.45373263 0.06299242 0.72539183 0.70104453 0.41066692 0.70425535 0.84500855 0.64578961 0.50842463 0.99197903 0.86956157 0.28288896 0.45542247 0.55794119 0.31406501 0.24110074 0.49559803 0.47073463 1.09536549 0.61344854 0.7717563  0.31521206 0.635146   0.69889834 0.88570089 0.72081829 0.4743844  0.48313356 0.5964382  0.14961774 0.90035863 0.7606635  0.59398236 0.1716449  0.12423267 0.92275218 0.09733763 0.67943102 0.85106816 0.20719354 0.75586619 0.62066229]\n",
            " [0.55852841 0.94646607 0.45887098 0.87565019 0.55363887 0.         0.85325401 0.42711892 0.68249156 0.34267583 0.41627373 0.88801593 0.55480774 0.73132512 0.86109378 0.55021142 0.2909009  0.70096935 0.70158683 0.18006035 1.04048391 0.57540187 0.74138023 0.69430985 0.31370529 0.23535245 0.21442797 0.11818961 0.57077885 0.21737769 0.19673557 0.75019845 0.30309976 0.20485075 0.45413324 0.09257636 0.23041218 0.27902953 0.30331492 0.59996866 0.06058662 0.48076052 0.64855505 0.19747426 0.61311585 0.57529658 0.2615491  0.16915339 0.48647103 0.52586054 0.84341703 0.37700824 0.80115724 0.58286316 0.45311801 0.27447277 0.72148445 0.66675343 0.1402751  0.49748237 0.42274695 0.28733729 0.8412563  0.2998506  0.33993208 0.71923665 0.76844166 0.79752896 0.52521075 0.54704641 0.32674096 0.22575833 0.34760951 0.57190401 0.66028918 0.21762702 0.91745947 0.35645805 0.8735793  0.65079233 0.96438026 0.16356851 0.62340551 0.18793728 0.33300432 0.7502447  0.04294385 0.43745342 0.34716039 0.7898291  0.57204327 0.52093566 0.55372591 0.797784   0.52649902 0.90159954 0.57442517 0.63323261 0.20659813 0.55521263]\n",
            " [0.8213325  0.84343715 0.43916319 0.05870652 0.53238615 0.85325401 0.         0.64062017 0.50927964 0.76784418 0.44111946 0.67657925 0.73404943 0.69671607 0.51818774 0.48548483 0.84914514 0.15319736 0.26807195 1.02127874 0.18822858 0.29983591 0.79476755 0.25771091 1.06073429 0.61920964 0.94784378 0.7381342  0.33680726 1.02363264 1.02772733 0.14091916 0.69316554 0.6800735  0.3995942  0.86840795 0.62531928 0.85466337 0.55382055 0.36781756 0.84165194 0.83270893 0.27982513 0.9297806  0.76416296 0.2822159  0.95423342 0.82879428 0.86548995 0.36551618 0.69904095 0.81563543 0.37966873 0.79422438 0.60539325 0.73105473 0.36405008 0.2937016  0.71306969 0.52306756 0.72181769 0.80897361 0.18545561 0.80238242 0.98957537 0.32690644 0.10214993 0.76826941 0.83545047 0.31920055 0.5517533  0.70196264 0.50884184 0.32083854 0.23199919 0.65193808 0.82733952 0.6479696  0.349437   0.23009502 0.11324512 0.92609258 0.76565046 0.93806647 0.55601701 0.10969563 0.88978625 0.50046073 1.13820185 0.41515547 0.42466301 0.40043953 0.41776374 0.65651004 0.62901067 0.18143323 0.75941609 0.32520913 0.99589012 0.47104302]\n",
            " [0.21977335 0.52868499 0.22333796 0.68640257 0.66309076 0.42711892 0.64062017 0.         0.27227    0.14311969 0.29471139 0.46102322 0.7829492  0.30776939 0.45065309 0.62768749 0.24063926 0.52197928 0.63524345 0.51759889 0.81770604 0.35116774 0.3377136  0.6200308  0.47078619 0.33698284 0.38184223 0.3796717  0.52695228 0.48127826 0.50855001 0.50280614 0.54759366 0.24131402 0.33737461 0.50417918 0.34563665 0.25131066 0.34976631 0.59308435 0.37603951 0.77778758 0.3645925  0.37069545 0.22160229 0.44939121 0.36453457 0.53767573 0.23038776 0.48840878 0.416814   0.1791402  0.42751945 0.21605387 0.62015436 0.55232186 0.36100488 0.61410446 0.34215843 0.60228568 0.08156133 0.20514814 0.72275708 0.19315677 0.37306388 0.37644394 0.53862533 0.38077098 0.21543318 0.45675494 0.21065116 0.20294317 0.35101151 0.51036048 0.40862152 0.25420485 0.49984571 0.07247008 0.51042471 0.53649469 0.73007538 0.38730764 0.2303333  0.38599702 0.19105272 0.53301848 0.43724804 0.51451528 0.56109793 0.40451165 0.22694694 0.52210473 0.57976643 0.37066522 0.70046219 0.60517989 0.19000384 0.59873619 0.44835365 0.1861728 ]\n",
            " [0.35067283 0.37383246 0.28934086 0.56587487 0.75090991 0.68249156 0.50927964 0.27227    0.         0.40983956 0.3889103  0.23929363 0.91615729 0.18867843 0.17967    0.70478078 0.50861809 0.44941044 0.61857106 0.78859959 0.65309982 0.31576768 0.28549734 0.6013794  0.73743515 0.53072079 0.65368797 0.61114866 0.55608943 0.75352409 0.78044245 0.3736627  0.72536474 0.48065692 0.4041755  0.74870961 0.54038984 0.52036048 0.50998641 0.62717653 0.6374974  0.94705936 0.25513596 0.64290277 0.27300384 0.44820647 0.63358619 0.76378464 0.42583891 0.53529892 0.22606559 0.43042492 0.17857318 0.31384922 0.74725978 0.74270841 0.14786459 0.61214073 0.5728609  0.70055456 0.32543555 0.4756347  0.65036286 0.46286146 0.63178147 0.1830326  0.41569194 0.26591893 0.37831028 0.47940434 0.38733504 0.45820842 0.4874293  0.53293114 0.31195796 0.47907647 0.35054378 0.33264235 0.26203253 0.51170131 0.56663038 0.65929608 0.27156315 0.65826596 0.37220442 0.42322014 0.69895819 0.62132512 0.82915448 0.14577929 0.15756008 0.58214824 0.63811932 0.17335984 0.81663502 0.40640105 0.2813943  0.61311723 0.72058227 0.14224433]\n",
            " [0.21741337 0.60959141 0.33267317 0.80991858 0.7063298  0.34267583 0.76784418 0.14311969 0.40983956 0.         0.37495989 0.57308699 0.79303009 0.40384142 0.58488332 0.67882311 0.09879091 0.63870536 0.72807279 0.39482805 0.94933815 0.47046953 0.40089276 0.71434767 0.3284802  0.33989419 0.24696397 0.33478859 0.60795441 0.34884021 0.38156535 0.63358571 0.5390613  0.21285561 0.42284463 0.43101595 0.34602588 0.11065146 0.37844056 0.66736437 0.28394222 0.76298643 0.49828796 0.23885927 0.27219006 0.54862071 0.2237485  0.48469947 0.16335989 0.5647527  0.52103482 0.05759509 0.57025022 0.2401889  0.64268618 0.53290314 0.50406177 0.70233352 0.30367167 0.64343052 0.09056594 0.0685038  0.83152748 0.0545887  0.23053243 0.51868817 0.66691317 0.46171993 0.1878452  0.54629939 0.26237831 0.15804224 0.39617535 0.59539547 0.53734898 0.24239134 0.58073782 0.12057956 0.65340287 0.63763068 0.86258052 0.26181649 0.28254026 0.25563164 0.24692703 0.65860812 0.34048855 0.55758031 0.41959618 0.54628925 0.36681976 0.58941332 0.64356672 0.48163361 0.72516053 0.74503267 0.23328903 0.68119545 0.31588207 0.32820714]\n",
            " [0.51428606 0.74867632 0.10055904 0.46990187 0.37877983 0.41627373 0.44111946 0.29471139 0.3889103  0.37495989 0.         0.628081   0.52874611 0.53164227 0.53861041 0.33871254 0.43519041 0.29231107 0.35326078 0.58042434 0.62932581 0.16179676 0.59644639 0.33984237 0.62831511 0.19051437 0.51251793 0.30601634 0.23482722 0.58344629 0.5866089  0.33409351 0.34588898 0.24041246 0.04856189 0.44508017 0.19862697 0.43743222 0.13930826 0.29884585 0.40082896 0.56006702 0.2459872  0.49364036 0.50204452 0.17963269 0.52517594 0.42643357 0.51552624 0.19422495 0.60820759 0.43116076 0.43628864 0.50682911 0.35970238 0.3701173  0.35566804 0.3274814  0.27649165 0.32188835 0.36705018 0.39640644 0.46495318 0.39364799 0.57173881 0.33970274 0.35260057 0.61526207 0.50904492 0.17156231 0.11889643 0.26944631 0.1040349  0.22080033 0.24680558 0.21098048 0.72227269 0.26105156 0.49278672 0.26754855 0.55028166 0.48700004 0.50891916 0.50047521 0.13001223 0.33533442 0.45077835 0.23726509 0.70111979 0.43870542 0.23347312 0.22776502 0.28583305 0.55480416 0.43259831 0.48906054 0.47702361 0.3077763  0.55653548 0.24976927]\n",
            " [0.42353919 0.16906978 0.52818674 0.73528377 0.98770765 0.88801593 0.67657925 0.46102322 0.23929363 0.57308699 0.628081   0.         1.15538713 0.17658761 0.1621474  0.94073956 0.66581949 0.65535129 0.83530721 0.9677514  0.77937054 0.54556684 0.241921   0.8181839  0.87945059 0.76150683 0.81779304 0.8311332  0.78706868 0.92012507 0.95455257 0.55930492 0.96134818 0.69507269 0.64303962 0.96269436 0.7711167  0.67935256 0.74616767 0.85726746 0.83682829 1.18504483 0.47036153 0.81132902 0.33221084 0.67696117 0.78657048 0.98742513 0.52110656 0.7698404  0.06339016 0.57239073 0.2969753  0.38114141 0.98652695 0.97665632 0.33229272 0.83371538 0.79272113 0.93869469 0.4825846  0.64148627 0.84220306 0.62738803 0.7634492  0.36948034 0.59934944 0.16829487 0.46338561 0.71160712 0.61768531 0.66287642 0.72561487 0.76331685 0.52326049 0.69962378 0.15840283 0.53172549 0.34191034 0.73087256 0.70195362 0.83481665 0.32385284 0.82839914 0.60094831 0.61362149 0.89782787 0.86034405 0.9718942  0.26275333 0.39650043 0.81758858 0.8723609  0.09150678 1.05541897 0.52686422 0.36432396 0.83908737 0.88743391 0.37961367]\n",
            " [0.99106906 1.27660028 0.62930396 0.71666969 0.20191769 0.55480774 0.73404943 0.7829492  0.91615729 0.79303009 0.52874611 1.15538713 0.         1.05714242 1.05257965 0.25047431 0.79446558 0.61372105 0.46976568 0.7095882  0.87422237 0.62863003 1.11308134 0.47767237 0.86835854 0.45467325 0.76596412 0.48059681 0.41490243 0.76640076 0.73446575 0.72230702 0.26042875 0.58036872 0.51287315 0.48525283 0.44777592 0.78746876 0.43337225 0.36749292 0.59938304 0.13662377 0.720325   0.74739771 1.0043318  0.51635814 0.80868677 0.39698396 0.9563107  0.40918142 1.13695263 0.8470607  0.9308097  0.99643494 0.16905595 0.2812761  0.85740286 0.44078617 0.50017824 0.22678573 0.83201247 0.77091171 0.60387738 0.77753798 0.88420026 0.83085397 0.70908024 1.13987273 0.9723536  0.47240744 0.57337824 0.63542115 0.43929751 0.43745006 0.68661584 0.55109855 1.24980461 0.72214392 0.96442253 0.51613942 0.83554566 0.71643736 1.01278105 0.74045926 0.59299952 0.68376185 0.59374317 0.29572674 0.89224558 0.94339458 0.75894316 0.36088424 0.32294019 1.08354307 0.107932   0.88026585 0.97267555 0.40898803 0.76022883 0.77847854]\n",
            " [0.24792191 0.22335942 0.43249655 0.75376915 0.90804145 0.73132512 0.69671607 0.30776939 0.18867843 0.40384142 0.53164227 0.17658761 1.05714242 0.         0.25954319 0.86481935 0.49337736 0.63635791 0.80053633 0.79821641 0.83309226 0.49281885 0.10101443 0.78344223 0.70347479 0.63308131 0.64536825 0.68702547 0.72710042 0.74757465 0.78363792 0.56220525 0.84091828 0.54875391 0.55789769 0.81119054 0.64236177 0.50713575 0.63032421 0.79844358 0.67713765 1.06979785 0.44181788 0.63998347 0.15609314 0.62348811 0.61226177 0.84498915 0.34476346 0.70087541 0.11852132 0.39832784 0.34086307 0.20532692 0.88887187 0.85070026 0.33297043 0.7913409  0.64922218 0.8530495  0.31440219 0.4715659  0.83862815 0.45734951 0.58709056 0.36981058 0.60423687 0.08400596 0.28723597 0.64990981 0.49298937 0.50998595 0.61822493 0.70502971 0.49887908 0.55907758 0.19514135 0.38023887 0.41404806 0.69333559 0.74825003 0.66522653 0.14817597 0.65734569 0.47435309 0.61188872 0.73710454 0.76888781 0.7957842  0.30258172 0.32345866 0.74505873 0.80281957 0.09183936 0.96389354 0.58127504 0.18776612 0.78889235 0.71513771 0.28916938]\n",
            " [0.49004894 0.33121496 0.44501187 0.57677523 0.8727598  0.86109378 0.51818774 0.45065309 0.17967    0.58488332 0.53861041 0.1621474  1.05257965 0.25954319 0.         0.8239231  0.68324851 0.51130364 0.695226   0.9678466  0.61731085 0.42614176 0.35457261 0.67838896 0.90991034 0.69848343 0.83063026 0.78582396 0.6627226  0.93122411 0.95920122 0.4082662  0.88336313 0.65812196 0.5428956  0.92509586 0.70811191 0.69549824 0.6698711  0.73052881 0.81690621 1.09760943 0.33993082 0.82053314 0.40066811 0.55174652 0.80814346 0.93564948 0.57802893 0.65214844 0.20073017 0.59997369 0.1420373  0.44855377 0.88603624 0.9044273  0.19784904 0.69768787 0.74782576 0.82926293 0.49752957 0.65188334 0.68890162 0.63872831 0.80060332 0.23034081 0.44659653 0.29701938 0.52452446 0.59068805 0.55742506 0.63750088 0.64166361 0.63850952 0.38695582 0.65440876 0.31955414 0.51228678 0.17983133 0.59442093 0.53988875 0.83796034 0.39541728 0.83621188 0.54392054 0.4630623  0.87832497 0.7574766  1.00225892 0.11463937 0.30869834 0.7011153  0.75243703 0.17810728 0.948522   0.36474845 0.42176725 0.70742261 0.89822535 0.31056154]\n",
            " [0.84682691 1.07584202 0.43362587 0.47221983 0.05025542 0.55021142 0.48548483 0.62768749 0.70478078 0.67882311 0.33871254 0.94073956 0.25047431 0.86481935 0.8239231  0.         0.71041125 0.3636025  0.22750745 0.72860221 0.63520382 0.39821915 0.9342097  0.23262866 0.84654259 0.35685622 0.73121412 0.44098872 0.167252   0.76493314 0.7468829  0.47347928 0.27456166 0.48354812 0.30709707 0.51673351 0.35486111 0.70757277 0.30272212 0.11770265 0.57289709 0.35000278 0.48523975 0.71105261 0.84031278 0.27471264 0.76253579 0.44404497 0.8346456  0.1718801  0.93037801 0.73631938 0.69498364 0.84282125 0.13463211 0.31571609 0.6262671  0.19504124 0.44098676 0.05607786 0.69277241 0.67783359 0.37191998 0.6801481  0.82814682 0.59640412 0.45887138 0.9488186  0.83696643 0.23350014 0.42298109 0.53463404 0.28315541 0.19086947 0.44561999 0.44833453 1.05071856 0.58129569 0.72156738 0.26575988 0.58988142 0.6889534  0.84736758 0.71007451 0.44143677 0.4335631  0.59315463 0.12315088 0.89481157 0.71149934 0.54838237 0.1232981  0.0739774  0.87714854 0.14377096 0.62998633 0.81413487 0.16069569 0.74855486 0.57651188]\n",
            " [0.28038745 0.6902522  0.41014602 0.88823871 0.73205753 0.2909009  0.84914514 0.24063926 0.50861809 0.09879091 0.43519041 0.66581949 0.79446558 0.49337736 0.68324851 0.71041125 0.         0.71371266 0.78614533 0.30717481 1.03332376 0.54952741 0.47867102 0.77359593 0.23015066 0.35624909 0.15204869 0.31688663 0.66051765 0.25435461 0.29079408 0.7183384  0.53470628 0.22699282 0.48374635 0.38328243 0.3600807  0.01406801 0.40815796 0.71434187 0.23038187 0.74773692 0.58614969 0.14716881 0.35156216 0.61390979 0.12500317 0.45022634 0.19770961 0.61544296 0.61161705 0.09754928 0.66815871 0.31218236 0.65611976 0.52108889 0.60060213 0.75776629 0.2942939  0.66929014 0.18653135 0.04017154 0.89922638 0.04851537 0.14045496 0.61368988 0.74962824 0.54483416 0.24276795 0.60567119 0.31678682 0.17658843 0.43484811 0.65079484 0.62145287 0.26207761 0.66178516 0.20470903 0.75096479 0.70247936 0.94756439 0.17578503 0.36178352 0.16483699 0.30543563 0.73946419 0.27780927 0.58730573 0.32088195 0.64473493 0.46014662 0.6337293  0.6842645  0.57470893 0.73799227 0.83686564 0.31330459 0.73322201 0.22179164 0.42356277]\n",
            " [0.72027954 0.81324328 0.30603241 0.17763768 0.41326344 0.70096935 0.15319736 0.52197928 0.44941044 0.63870536 0.29231107 0.65535129 0.61372105 0.63635791 0.51130364 0.3636025  0.71371266 0.         0.18535165 0.87062411 0.33951572 0.17081543 0.72779734 0.16905652 0.91814159 0.46644003 0.80349455 0.58534774 0.20067363 0.87573477 0.87797239 0.11392435 0.5454514  0.53264034 0.24862898 0.71521541 0.47240471 0.71804202 0.4007096  0.24934537 0.69112178 0.70031219 0.19454837 0.78493155 0.67547904 0.12933595 0.8131067  0.67654302 0.75175265 0.22067527 0.66408175 0.68993135 0.37041182 0.69859121 0.47092173 0.58224136 0.32321935 0.19408204 0.56095439 0.39224692 0.60337999 0.67372085 0.2062939  0.66841552 0.85342842 0.28587687 0.09539541 0.71531328 0.72862292 0.16841973 0.40688918 0.55837712 0.3557276  0.18049333 0.13751981 0.50311421 0.79301989 0.51815097 0.37482473 0.09831375 0.26606853 0.77922372 0.6787245  0.79230664 0.41324446 0.07008111 0.73802803 0.35695655 0.99290625 0.39746563 0.32810874 0.26147885 0.29082437 0.61537168 0.50613884 0.26660417 0.66420326 0.21386673 0.84881428 0.37322207]\n",
            " [0.84891276 0.98905631 0.41251204 0.24690449 0.27035096 0.70158683 0.26807195 0.63524345 0.61857106 0.72807279 0.35326078 0.83530721 0.46976568 0.80053633 0.695226   0.22750745 0.78614533 0.18535165 0.         0.88066269 0.40773069 0.30900908 0.88614903 0.01720801 0.96411124 0.47302612 0.84635491 0.58379141 0.13161962 0.90162696 0.89374185 0.29715279 0.47501914 0.57473255 0.30522844 0.69145341 0.47560044 0.78732713 0.40486604 0.11664284 0.70774908 0.57730656 0.36621069 0.82648873 0.81798381 0.18673875 0.86657637 0.63300618 0.86325329 0.17769543 0.83962733 0.78392315 0.55510017 0.83370039 0.3580342  0.51603338 0.50341628 0.03636797 0.570119   0.27401144 0.71305762 0.74812243 0.14906181 0.74609898 0.91973179 0.46717092 0.26917108 0.88217929 0.85010026 0.18177348 0.4697781  0.61430343 0.36518495 0.13615013 0.31206662 0.54024789 0.96745689 0.61222467 0.55923428 0.10720077 0.36586174 0.81266707 0.82273556 0.83004459 0.48278736 0.24592069 0.74295413 0.28098943 1.02745091 0.58088279 0.47964664 0.18316506 0.17172934 0.78920593 0.36767757 0.43210916 0.80071414 0.0735125  0.8792714  0.52031394]\n",
            " [0.5850367  0.99736633 0.60652984 1.04706884 0.72953609 0.18006035 1.02127874 0.51759889 0.78859959 0.39482805 0.58042434 0.9677514  0.7095882  0.79821641 0.9678466  0.72860221 0.30717481 0.87062411 0.88066269 0.         1.20935003 0.73384392 0.78562235 0.87297811 0.18979829 0.41039044 0.16037998 0.29693912 0.7494926  0.07693035 0.02916509 0.91055719 0.47172822 0.34679247 0.62206037 0.22497765 0.40656127 0.29312991 0.47910547 0.77997091 0.17962846 0.61603656 0.79837047 0.16047185 0.65873695 0.74773082 0.20711747 0.31273416 0.49439315 0.70419067 0.91576972 0.40464469 0.92838418 0.61873608 0.62558265 0.43789239 0.85229187 0.84607695 0.31284413 0.67507225 0.48520418 0.32670466 1.01878116 0.34090253 0.27362576 0.85592021 0.93226285 0.85192653 0.54566881 0.72211308 0.47731029 0.3428557  0.52236969 0.74968098 0.81722413 0.37089258 0.96893441 0.45682972 1.00612885 0.82620463 1.13067346 0.13302714 0.66895682 0.14260153 0.47860454 0.91566627 0.13785874 0.61731387 0.18428804 0.91160999 0.70251211 0.70069366 0.73375038 0.87625765 0.69473419 1.05480249 0.62044279 0.812881   0.09709623 0.67717009]\n",
            " [0.98545601 0.94834724 0.62447478 0.16969237 0.67750425 1.04048391 0.18822858 0.81770604 0.65309982 0.94933815 0.62932581 0.77937054 0.87422237 0.83309226 0.61731085 0.63520382 1.03332376 0.33951572 0.40773069 1.20935003 0.         0.48577986 0.93374874 0.40318157 1.24752645 0.80586006 1.13527883 0.92473133 0.50550469 1.21178614 1.21593366 0.31576065 0.86652631 0.86823609 0.58743024 1.05290172 0.81169831 1.03935501 0.7396683  0.52119877 1.02973395 0.98502209 0.4531293  1.11736273 0.92048324 0.46674017 1.14059153 1.00953284 1.03752968 0.54023828 0.81358829 0.995086   0.49521476 0.9549733  0.76396756 0.90578794 0.50548809 0.44073673 0.90044025 0.67996575 0.8979528  0.99318829 0.27204124 0.98603938 1.17375093 0.4726543  0.28391147 0.89624188 1.00329746 0.50054761 0.73963865 0.88940275 0.69471566 0.49340039 0.41217637 0.84016602 0.93668824 0.83047301 0.43748074 0.40329405 0.08824053 1.11411694 0.92066944 1.12586716 0.74347703 0.29633469 1.07741439 0.67089984 1.32580917 0.53361506 0.59497051 0.56890781 0.57512544 0.7783356  0.77464381 0.25419917 0.92042957 0.47681094 1.18393276 0.64037472]\n",
            " [0.55194411 0.68952298 0.13939185 0.3395282  0.44674589 0.57540187 0.29983591 0.35116774 0.31576768 0.47046953 0.16179676 0.54556684 0.62863003 0.49281885 0.42614176 0.39821915 0.54952741 0.17081543 0.30900908 0.73384392 0.48577986 0.         0.57715529 0.29211382 0.76177404 0.35228893 0.65012267 0.46733711 0.24156021 0.72975251 0.73762783 0.17684003 0.48909049 0.38779843 0.13820331 0.60687165 0.36031413 0.55488292 0.29762769 0.3121253  0.5552803  0.6849985  0.09381084 0.63251682 0.51254989 0.13245689 0.6548308  0.58613137 0.58098737 0.22634004 0.54108323 0.52047205 0.30259882 0.53230445 0.46468914 0.51852248 0.2291959  0.29852239 0.43664439 0.40369004 0.43259015 0.50936189 0.37376006 0.50306023 0.68990581 0.20246513 0.20223183 0.57532197 0.55877634 0.16625927 0.25731059 0.40451857 0.25674789 0.21794906 0.08514773 0.3631961  0.66628522 0.3499924  0.34516551 0.20222293 0.40211717 0.6310707  0.51665834 0.6416589  0.25905666 0.19016084 0.60814274 0.33615103 0.84087416 0.31506998 0.17065338 0.27513148 0.32781488 0.48891761 0.52333311 0.32738656 0.49835944 0.29748529 0.7008807  0.21188095]\n",
            " [0.20451135 0.212068   0.50087659 0.85133828 0.97521676 0.74138023 0.79476755 0.3377136  0.28549734 0.40089276 0.59644639 0.241921   1.11308134 0.10101443 0.35457261 0.9342097  0.47867102 0.72779734 0.88614903 0.78562235 0.93374874 0.57715529 0.         0.86921685 0.66984456 0.67414123 0.62747085 0.71264514 0.80486606 0.72787232 0.76794566 0.65867215 0.88458311 0.57529103 0.6277927  0.82660986 0.68294953 0.49273869 0.68083998 0.87580871 0.6838965  1.1147743  0.53391381 0.62520352 0.12870443 0.70511519 0.58848865 0.86980907 0.30286007 0.77537648 0.1786045  0.38112215 0.44187115 0.16723034 0.94676011 0.89002827 0.4319612  0.87464696 0.67623276 0.91784528 0.31902485 0.46440727 0.9319213  0.45037551 0.55139283 0.46818949 0.7006632  0.07718406 0.24574985 0.728106   0.54086941 0.53007767 0.6745429  0.78372585 0.59088513 0.59124629 0.18406888 0.40758352 0.51442639 0.77919083 0.84862545 0.6543496  0.11835298 0.6430398  0.52143157 0.70713002 0.74130752 0.83172221 0.76022999 0.40357176 0.4065045  0.81740848 0.87575019 0.1777473  1.02444316 0.68222312 0.16761062 0.86955911 0.69658982 0.36722321]\n",
            " [0.83315863 0.9718521  0.39707098 0.23978085 0.27707365 0.69430985 0.25771091 0.6200308  0.6013794  0.71434767 0.33984237 0.8181839  0.47767237 0.78344223 0.67838896 0.23262866 0.77359593 0.16905652 0.01720801 0.87297811 0.40318157 0.29211382 0.86921685 0.         0.95369949 0.46433475 0.83600592 0.57631395 0.12353183 0.89268239 0.8856043  0.28142029 0.47365865 0.56377699 0.29159968 0.68630801 0.46720395 0.77499107 0.39590667 0.11829597 0.69915756 0.58261107 0.34901431 0.8162039  0.80159122 0.17100617 0.85547525 0.62955578 0.84840285 0.16893075 0.82242384 0.77000021 0.53841294 0.81763379 0.36101714 0.51442818 0.48634379 0.03761207 0.56168943 0.27694879 0.69814427 0.73537864 0.15099618 0.73313777 0.90778983 0.45015987 0.25434708 0.86504285 0.83470468 0.16829699 0.45697249 0.60249827 0.35544866 0.12538588 0.29493116 0.52952098 0.95024889 0.59800469 0.54338788 0.09012679 0.35809452 0.80297671 0.80628463 0.8200558  0.46962412 0.23077073 0.73541817 0.27849105 1.01799345 0.5640022  0.46272547 0.17875188 0.172928   0.77199792 0.37435267 0.41876312 0.78456526 0.07396654 0.86992992 0.50355245]\n",
            " [0.46555351 0.88021144 0.62375636 1.09531882 0.85666122 0.31370529 1.06073429 0.47078619 0.73743515 0.3284802  0.62831511 0.87945059 0.86835854 0.70347479 0.90991034 0.84654259 0.23015066 0.91814159 0.96411124 0.18979829 1.24752645 0.76177404 0.66984456 0.95369949 0.         0.49684014 0.11779999 0.40716782 0.83339599 0.11389352 0.16077195 0.9354686  0.61562251 0.39080363 0.6754007  0.38896175 0.49653218 0.21977572 0.56213183 0.87648243 0.27593014 0.78795867 0.8079113  0.1378069  0.55135158 0.80694095 0.10842783 0.47623049 0.36701978 0.78711806 0.82164791 0.31066295 0.89830397 0.50513606 0.76188747 0.58814978 0.83021946 0.93223615 0.40591477 0.79723744 0.41261838 0.26682247 1.0902781  0.27792223 0.11854255 0.84221791 0.96392294 0.74271632 0.42423532 0.79057613 0.51134248 0.35976873 0.59930695 0.82834052 0.83867035 0.42436563 0.85308843 0.43023388 0.98102732 0.89269053 1.16356387 0.15778028 0.56080981 0.13658419 0.50522707 0.95143163 0.2748989  0.7267081  0.09273143 0.87475921 0.68777617 0.79468258 0.83716654 0.78994522 0.83788245 1.06184736 0.51629237 0.90293465 0.10931127 0.65270202]\n",
            " [0.53734093 0.85643859 0.25883188 0.64041511 0.3760103  0.23535245 0.61920964 0.33698284 0.53072079 0.33989419 0.19051437 0.76150683 0.45467325 0.63308131 0.69848343 0.35685622 0.35624909 0.46644003 0.47302612 0.41039044 0.80586006 0.35228893 0.67414123 0.46433475 0.49684014 0.         0.37954393 0.11892483 0.34140716 0.42864608 0.42169467 0.52232587 0.2106128  0.1303454  0.22232626 0.25473593 0.0096698  0.35234952 0.06875461 0.37993422 0.2348242  0.44080669 0.43466036 0.35935865 0.55758774 0.34002436 0.40721074 0.24064906 0.50263225 0.29547077 0.72958065 0.39536961 0.61277117 0.54513877 0.30326872 0.21762013 0.53121812 0.43948087 0.09765254 0.31342405 0.37843992 0.32641857 0.60861608 0.33070353 0.47134373 0.52084252 0.53741165 0.7117192  0.51772244 0.31206219 0.14389079 0.18464912 0.11233712 0.33998188 0.43720189 0.09768248 0.8281675  0.27091807 0.67602814 0.41603926 0.73104005 0.34178794 0.56666547 0.36074251 0.16071194 0.51809258 0.27421626 0.23406867 0.55525914 0.60936025 0.39111714 0.29831839 0.3406352  0.67817017 0.38574635 0.67937202 0.52369705 0.40825582 0.40693905 0.38973318]\n",
            " [0.42555315 0.83949187 0.51360394 0.98097054 0.74303886 0.21442797 0.94784378 0.38184223 0.65368797 0.24696397 0.51251793 0.81779304 0.76596412 0.64536825 0.83063026 0.73121412 0.15204869 0.80349455 0.84635491 0.16037998 1.13527883 0.65012267 0.62747085 0.83600592 0.11779999 0.37954393 0.         0.29466772 0.71560075 0.10233206 0.1405868  0.82526864 0.50900503 0.27370681 0.55916537 0.30026757 0.37950738 0.13844165 0.44445136 0.75891332 0.16684806 0.6951672  0.70107497 0.02020922 0.50173128 0.69048729 0.05155026 0.38308213 0.33404172 0.66932185 0.76364882 0.24795951 0.80586453 0.46028157 0.65116425 0.48468803 0.73414937 0.8144395  0.29023106 0.68285241 0.33699205 0.17896547 0.97317719 0.19247869 0.12901556 0.74306231 0.85231996 0.6953686  0.3858123  0.67330539 0.39670849 0.24588989 0.4815079  0.71063388 0.72888461 0.30687803 0.81125895 0.33133939 0.88693141 0.77573595 1.05223832 0.05117967 0.51184218 0.02697205 0.39183762 0.83894937 0.18233208 0.61057641 0.19082371 0.78512101 0.58790363 0.67708429 0.72009715 0.72661567 0.72886937 0.95684029 0.46392788 0.78515705 0.06977389 0.55622096]\n",
            " [0.54965397 0.90834137 0.36127283 0.7589805  0.44950931 0.11818961 0.7381342  0.3796717  0.61114866 0.33478859 0.30601634 0.8311332  0.48059681 0.68702547 0.78582396 0.44098872 0.31688663 0.58534774 0.58379141 0.29693912 0.92473133 0.46733711 0.71264514 0.57631395 0.40716782 0.11892483 0.29466772 0.         0.45278638 0.32475492 0.31117836 0.63964059 0.22020769 0.13835769 0.3406206  0.14258983 0.11312969 0.30874413 0.18579738 0.48372129 0.13197588 0.43182372 0.54577024 0.27490096 0.58817301 0.45861091 0.33228707 0.15800584 0.49478136 0.4077445  0.79252783 0.38228882 0.7123949  0.56620613 0.35663185 0.20420975 0.63130769 0.54914221 0.03844987 0.39048734 0.3977851  0.29823241 0.72306979 0.30713824 0.40539363 0.62488882 0.65576467 0.76018997 0.52245999 0.42934023 0.23222801 0.18355929 0.23045208 0.45372048 0.55248222 0.13219777 0.87948273 0.30739301 0.78033943 0.53291058 0.84992244 0.2494381  0.59805666 0.27164937 0.24314579 0.63672788 0.15916381 0.32417083 0.45426005 0.70505658 0.48513398 0.40392826 0.43897424 0.74359153 0.43517003 0.79470361 0.55106232 0.5160035  0.30756749 0.47546939]\n",
            " [0.74510963 0.9298325  0.3104239  0.33620602 0.21750711 0.57077885 0.33680726 0.52695228 0.55608943 0.60795441 0.23482722 0.78706868 0.41490243 0.72710042 0.6627226  0.167252   0.66051765 0.20067363 0.13161962 0.7494926  0.50550469 0.24156021 0.80486606 0.12353183 0.83339599 0.34140716 0.71560075 0.45278638 0.         0.77001094 0.76229171 0.30740691 0.36112499 0.44512374 0.18967816 0.56418672 0.34402627 0.66095854 0.27327772 0.07137306 0.57614673 0.49998494 0.32280185 0.69566695 0.72395574 0.11101892 0.73695708 0.51041881 0.7502798  0.04628411 0.78196668 0.66474222 0.53062694 0.73419784 0.27081123 0.40073905 0.46494075 0.09884667 0.43854386 0.19160405 0.60136718 0.62330655 0.27224764 0.62217619 0.79200213 0.43331523 0.29585112 0.8106795  0.74223246 0.07720422 0.34642324 0.48664353 0.23411307 0.02425292 0.27989213 0.41027014 0.90601105 0.49581199 0.55457911 0.10705331 0.44738423 0.68132069 0.72977495 0.69892301 0.36106226 0.27060505 0.611901   0.16543001 0.89595784 0.5491205  0.40425303 0.06381372 0.093278   0.72944869 0.30699721 0.46684998 0.70268492 0.07324167 0.74774194 0.43870262]\n",
            " [0.52483072 0.93993833 0.5967445  1.05325854 0.77032913 0.21737769 1.02363264 0.48127826 0.75352409 0.34884021 0.58344629 0.92012507 0.76640076 0.74757465 0.93122411 0.76493314 0.25435461 0.87573477 0.90162696 0.07693035 1.21178614 0.72975251 0.72787232 0.89268239 0.11389352 0.42864608 0.10233206 0.32475492 0.77001094 0.         0.04884535 0.9063115  0.51972082 0.34355982 0.62792124 0.2822792  0.42645502 0.24077309 0.49680603 0.80643712 0.19463371 0.67991272 0.78711837 0.11069104 0.60296615 0.75719451 0.14043775 0.3705876  0.43093298 0.72398432 0.86589904 0.34976186 0.90213896 0.56065348 0.6704953  0.48908651 0.82874186 0.86811441 0.33218833 0.71319875 0.43908473 0.28054806 1.03495297 0.29426642 0.1998304  0.83568415 0.93094673 0.79664208 0.48450587 0.73550036 0.47279843 0.32746407 0.53778408 0.76782261 0.8110062  0.37271154 0.91185854 0.42699754 0.98217781 0.83934229 1.13065409 0.09953551 0.61301236 0.09544674 0.47092042 0.91599884 0.17528731 0.64891757 0.13003707 0.88267353 0.680745   0.72555704 0.76320191 0.82894395 0.74339073 1.0438509  0.56541906 0.83653699 0.03302103 0.6513532 ]\n",
            " [0.56612152 0.97992627 0.60796806 1.0549446  0.74931913 0.19673557 1.02772733 0.50855001 0.78044245 0.38156535 0.5866089  0.95455257 0.73446575 0.78363792 0.95920122 0.7468829  0.29079408 0.87797239 0.89374185 0.02916509 1.21593366 0.73762783 0.76794566 0.8856043  0.16077195 0.42169467 0.1405868  0.31117836 0.76229171 0.04884535 0.         0.91446727 0.49359562 0.34983396 0.62937235 0.24925715 0.41844683 0.27686409 0.49042615 0.79489889 0.18775329 0.64290072 0.7995275  0.14370602 0.64184213 0.75654531 0.18447817 0.33748906 0.47391859 0.7166788  0.90159099 0.38775396 0.9238595  0.60079359 0.6466343  0.46075282 0.84876232 0.85950736 0.32407846 0.6939088  0.47213043 0.31309651 1.03025178 0.32717009 0.24782632 0.85368452 0.93728544 0.83537403 0.5262871  0.73232161 0.48042495 0.34127449 0.53297086 0.76163264 0.82030606 0.37595842 0.95164141 0.45018204 1.00255983 0.83643672 1.13630855 0.12127072 0.65199508 0.12629599 0.48052872 0.92128849 0.15382618 0.63384477 0.1579734  0.90600893 0.69951134 0.714975   0.74967322 0.86313984 0.7170643  1.05628457 0.60383589 0.82685327 0.07323023 0.67255502]\n",
            " [0.68042843 0.72223668 0.31182572 0.19410028 0.5235439  0.75019845 0.14091916 0.50280614 0.3736627  0.63358571 0.33409351 0.55930492 0.72230702 0.56220525 0.4082662  0.47347928 0.7183384  0.11392435 0.29715279 0.91055719 0.31576065 0.17684003 0.65867215 0.28142029 0.9354686  0.52232587 0.82526864 0.63964059 0.30740691 0.9063115  0.91446727 0.         0.63208567 0.56463844 0.30058149 0.77666855 0.5296795  0.72472602 0.46231494 0.36151308 0.73176521 0.80235827 0.13944896 0.80798967 0.6237654  0.21473833 0.82783858 0.74836809 0.72575302 0.31916314 0.57475788 0.67953497 0.26622919 0.65336975 0.57338054 0.6661952  0.23312381 0.30788105 0.61058026 0.49792788 0.58355612 0.67826294 0.28312486 0.67080602 0.85866433 0.19492683 0.04203189 0.6366562  0.69483839 0.25931502 0.43412864 0.58026959 0.41857373 0.28515411 0.09696484 0.53975895 0.70401693 0.51492228 0.26211847 0.210935   0.22925836 0.80744631 0.6254476  0.81755808 0.43540957 0.05480235 0.78387966 0.45297995 1.01609202 0.29712996 0.2840299  0.36433077 0.39984479 0.52910202 0.61440392 0.16491091 0.61856018 0.32744525 0.87720774 0.33033623]\n",
            " [0.74471334 1.06404086 0.43888431 0.69702437 0.26396186 0.30309976 0.69316554 0.54759366 0.72536474 0.5390613  0.34588898 0.96134818 0.26042875 0.84091828 0.88336313 0.27456166 0.53470628 0.5454514  0.47501914 0.47172822 0.86652631 0.48909049 0.88458311 0.47365865 0.61562251 0.2106128  0.50900503 0.22020769 0.36112499 0.51972082 0.49359562 0.63208567 0.         0.32667443 0.3521703  0.24987929 0.20205925 0.52740601 0.21538982 0.35949013 0.3421964  0.2302143  0.58174951 0.48994973 0.76805979 0.41976129 0.55003428 0.17070996 0.70223856 0.32776898 0.93339854 0.59135654 0.78121917 0.75447622 0.15516807 0.04150229 0.70114607 0.43873838 0.24059048 0.21848432 0.5865749  0.51245961 0.623982   0.51976453 0.62467999 0.68315977 0.63413902 0.92065946 0.72264404 0.37743786 0.34801593 0.38107272 0.24201319 0.37360842 0.56628748 0.30092026 1.03602946 0.48101756 0.8330578  0.46447583 0.80558748 0.46060163 0.77718924 0.48420423 0.36656552 0.61056013 0.34448663 0.19615574 0.64869878 0.78458083 0.57549121 0.29820089 0.30512354 0.88110278 0.22371744 0.79688677 0.73384969 0.40150849 0.50960889 0.58314268]\n",
            " [0.41979303 0.76998727 0.26030312 0.71026659 0.50526634 0.20485075 0.6800735  0.24131402 0.48065692 0.21285561 0.24041246 0.69507269 0.58036872 0.54875391 0.65812196 0.48354812 0.22699282 0.53264034 0.57473255 0.34679247 0.86823609 0.38779843 0.57529103 0.56377699 0.39080363 0.1303454  0.27370681 0.13835769 0.44512374 0.34355982 0.34983396 0.56463844 0.32667443 0.         0.28609506 0.26863135 0.13523234 0.22405539 0.18205774 0.49350109 0.17089431 0.55281059 0.45210044 0.25436994 0.45208559 0.41702698 0.29188599 0.29636224 0.37621524 0.39904314 0.65508809 0.26680222 0.59649281 0.43287037 0.43315241 0.32294496 0.51714317 0.54382096 0.10107086 0.44242637 0.26382213 0.19613665 0.69951504 0.20038968 0.34894665 0.51620047 0.58795262 0.62188767 0.39623986 0.39977845 0.13064084 0.05508409 0.21278952 0.43863556 0.47062605 0.03564574 0.74113319 0.16906431 0.66978261 0.50203005 0.7874144  0.24659256 0.46181293 0.26037225 0.13227318 0.57259038 0.22885519 0.36040833 0.4609418  0.58499071 0.36740122 0.41191667 0.46000702 0.60672884 0.51555593 0.70818058 0.41565641 0.5162483  0.31618535 0.35063046]\n",
            " [0.55602792 0.77102179 0.12693027 0.42566422 0.35028541 0.45413324 0.3995942  0.33737461 0.4041755  0.42284463 0.04856189 0.64303962 0.51287315 0.55789769 0.5428956  0.30709707 0.48374635 0.24862898 0.30522844 0.62206037 0.58743024 0.13820331 0.6277927  0.29159968 0.6754007  0.22232626 0.55916537 0.3406206  0.18967816 0.62792124 0.62937235 0.30058149 0.3521703  0.28609506 0.         0.47616967 0.22938269 0.48594304 0.1620633  0.25614536 0.44251498 0.55577711 0.22972053 0.54010482 0.53890811 0.13168746 0.57286646 0.44988691 0.5611211  0.15173451 0.62757873 0.47877216 0.4312228  0.54648784 0.34458783 0.3806302  0.35273251 0.28020217 0.31385842 0.29707339 0.41184235 0.4449667  0.41670045 0.44216796 0.62014856 0.33207034 0.31515528 0.64187465 0.55257604 0.12345566 0.16730545 0.31723001 0.11940174 0.17416457 0.22003415 0.25525916 0.7453527  0.30772844 0.48088751 0.21914243 0.51026928 0.53234561 0.54529851 0.54646342 0.17855095 0.29625685 0.49022546 0.21736286 0.74703071 0.43788911 0.24663004 0.1900797  0.24856646 0.57412805 0.41246028 0.46023863 0.51572007 0.26199545 0.60163055 0.27054591]\n",
            " [0.64795317 1.02910283 0.50384927 0.88496711 0.51217919 0.09257636 0.86840795 0.50417918 0.74870961 0.43101595 0.44508017 0.96269436 0.48525283 0.81119054 0.92509586 0.51673351 0.38328243 0.71521541 0.69145341 0.22497765 1.05290172 0.60687165 0.82660986 0.68630801 0.38896175 0.25473593 0.30026757 0.14258983 0.56418672 0.2822792  0.24925715 0.77666855 0.24987929 0.26863135 0.47616967 0.         0.247077   0.37152582 0.31556378 0.58272018 0.15291441 0.39900377 0.6873337  0.28491874 0.69902606 0.58646825 0.34947631 0.08842502 0.57815439 0.52179895 0.92080444 0.46790147 0.85467571 0.67075033 0.40496647 0.21398736 0.77369407 0.65552657 0.17881541 0.46153522 0.50760498 0.37832793 0.83638024 0.39045927 0.42814539 0.76747861 0.7904101  0.88014532 0.61557964 0.55291229 0.37452101 0.30130357 0.360307   0.56922065 0.69186814 0.27096751 1.00009838 0.43207952 0.92292789 0.65406223 0.98115258 0.24913493 0.70924116 0.27331952 0.38471513 0.77027931 0.11794919 0.41503566 0.40699446 0.8467137  0.62690941 0.50830207 0.53229917 0.87356671 0.47109917 0.93408205 0.66061209 0.62000816 0.27965561 0.61549863]\n",
            " [0.54488467 0.86572113 0.2681995  0.64585226 0.37282341 0.23041218 0.62531928 0.34563665 0.54038984 0.34602588 0.19862697 0.7711167  0.44777592 0.64236177 0.70811191 0.35486111 0.3600807  0.47240471 0.47560044 0.40656127 0.81169831 0.36031413 0.68294953 0.46720395 0.49653218 0.0096698  0.37950738 0.11312969 0.34402627 0.42645502 0.41844683 0.5296795  0.20205925 0.13523234 0.22938269 0.247077   0.         0.35584271 0.07290782 0.38096023 0.23219202 0.43218254 0.44323947 0.35930327 0.56601236 0.34548147 0.4082336  0.2314011  0.50899076 0.29827409 0.73908658 0.40117083 0.62210494 0.55312478 0.29792568 0.20835263 0.54055178 0.44177466 0.09451885 0.31045121 0.38609017 0.33094347 0.61222497 0.33557372 0.4733429  0.5299786  0.54428266 0.72087127 0.52483592 0.31664275 0.15352853 0.18994377 0.1173461  0.34325312 0.44513194 0.10363509 0.83742907 0.27912045 0.6851082  0.42046145 0.73733877 0.34083796 0.57513119 0.36020705 0.17027805 0.52475232 0.26986941 0.23245196 0.55362115 0.61883323 0.40068387 0.29956335 0.34063995 0.68771096 0.3803458  0.68721896 0.53195132 0.41010203 0.40531967 0.39939903]\n",
            " [0.29434296 0.7043131  0.41550672 0.8930951  0.72835273 0.27902953 0.85466337 0.25131066 0.52036048 0.11065146 0.43743222 0.67935256 0.78746876 0.50713575 0.69549824 0.70757277 0.01406801 0.71804202 0.78732713 0.29312991 1.03935501 0.55488292 0.49273869 0.77499107 0.21977572 0.35234952 0.13844165 0.30874413 0.66095854 0.24077309 0.27686409 0.72472602 0.52740601 0.22405539 0.48594304 0.37152582 0.35584271 0.         0.40585325 0.71381153 0.21862451 0.73880687 0.59339834 0.13320082 0.36560867 0.61657137 0.11336673 0.43965728 0.21092232 0.61566301 0.62532904 0.11161671 0.67872032 0.32624279 0.65085454 0.51291329 0.61048034 0.75853952 0.28739441 0.66570076 0.19935241 0.04740258 0.90199961 0.05818703 0.13538655 0.62296101 0.7555293  0.55885268 0.25658323 0.6073296  0.31870725 0.1753244  0.43373107 0.65171387 0.62778412 0.25944149 0.67584194 0.21249026 0.76129765 0.70493236 0.95386727 0.16172563 0.3758334  0.15083764 0.3080801  0.74496774 0.26496222 0.58442393 0.30980029 0.65571631 0.4689998  0.63291713 0.68281324 0.58819033 0.7325236  0.84501052 0.32733194 0.73346915 0.20813039 0.43310937]\n",
            " [0.56152662 0.8526143  0.2248637  0.57334349 0.32796219 0.30331492 0.55382055 0.34976631 0.50998641 0.37844056 0.13930826 0.74616767 0.43337225 0.63032421 0.6698711  0.30272212 0.40815796 0.4007096  0.40486604 0.47910547 0.7396683  0.29762769 0.68083998 0.39590667 0.56213183 0.06875461 0.44445136 0.18579738 0.27327772 0.49680603 0.49042615 0.46231494 0.21538982 0.18205774 0.1620633  0.31556378 0.07290782 0.40585325 0.         0.31461023 0.30338323 0.44046628 0.38487451 0.42435342 0.57098794 0.27309666 0.46939424 0.28850791 0.53779968 0.22718895 0.71937602 0.43557959 0.57390805 0.56432264 0.27105965 0.23456721 0.49276844 0.37167106 0.16640682 0.2650216  0.40317872 0.37513033 0.53986296 0.37746779 0.53021006 0.47841207 0.47492074 0.71157417 0.54630779 0.24373517 0.14013464 0.23198773 0.04498201 0.27133314 0.38129526 0.14648668 0.82496948 0.29158142 0.63199283 0.34757042 0.66620005 0.40848129 0.57941155 0.42669039 0.15971316 0.45471769 0.34269215 0.18003442 0.62276207 0.57426049 0.36131076 0.23273791 0.2784358  0.66678115 0.35238071 0.62224088 0.53969138 0.34115898 0.474504   0.36775678]\n",
            " [0.81211314 1.00097324 0.37961163 0.35606649 0.16563152 0.59996866 0.36781756 0.59308435 0.62717653 0.66736437 0.29884585 0.85726746 0.36749292 0.79844358 0.73052881 0.11770265 0.71434187 0.24934537 0.11664284 0.77997091 0.52119877 0.3121253  0.87580871 0.11829597 0.87648243 0.37993422 0.75891332 0.48372129 0.07137306 0.80643712 0.79489889 0.36151308 0.35949013 0.49350109 0.25614536 0.58272018 0.38096023 0.71381153 0.31461023 0.         0.61180354 0.46617228 0.39082368 0.73878074 0.79337279 0.18032895 0.7836801  0.5203852  0.81362354 0.10468415 0.85295077 0.72461978 0.59645686 0.8024218  0.24279422 0.40071968 0.53307298 0.08118863 0.47447323 0.15876729 0.66579648 0.67826561 0.26550339 0.67811843 0.84233351 0.5004672  0.34394645 0.88204032 0.80783785 0.14857434 0.40498653 0.53854447 0.28077483 0.09425583 0.34517862 0.45801298 0.97724136 0.55828734 0.61582362 0.15104013 0.47296305 0.72169026 0.7993731  0.7406195  0.4209105  0.31874453 0.64217867 0.1682385  0.93437585 0.616445   0.47562488 0.08187646 0.05508835 0.80052353 0.26140767 0.51454953 0.77131915 0.04439515 0.78614125 0.50993498]\n",
            " [0.49887276 0.89031212 0.43099601 0.86776717 0.58119955 0.06058662 0.84165194 0.37603951 0.6374974  0.28394222 0.40082896 0.83682829 0.59938304 0.67713765 0.81690621 0.57289709 0.23038187 0.69112178 0.70774908 0.17962846 1.02973395 0.5552803  0.6838965  0.69915756 0.27593014 0.2348242  0.16684806 0.13197588 0.57614673 0.19463371 0.18775329 0.73176521 0.3421964  0.17089431 0.44251498 0.15291441 0.23219202 0.21862451 0.30338323 0.61180354 0.         0.53313614 0.62262945 0.14803192 0.55537711 0.56892267 0.20990116 0.22481531 0.42592701 0.53027595 0.79059298 0.31675726 0.76419183 0.52401113 0.48608863 0.3181565  0.6858269  0.67396432 0.13772832 0.52243871 0.36610482 0.22710738 0.84290415 0.23980564 0.28702543 0.68629545 0.75288475 0.74153608 0.46512177 0.54461158 0.30004595 0.17948314 0.3454473  0.57471509 0.63916759 0.19209483 0.86132918 0.30718303 0.83908423 0.64871854 0.95110314 0.11884231 0.56569778 0.14210138 0.30306831 0.73611776 0.0615214  0.45523321 0.32319327 0.75065209 0.53566182 0.53095591 0.56882698 0.74606882 0.56281512 0.87822032 0.51657411 0.64209352 0.17577943 0.51515765]\n",
            " [0.9724433  1.29259663 0.65796453 0.82201139 0.3083078  0.48076052 0.83270893 0.77778758 0.94705936 0.76298643 0.56006702 1.18504483 0.13662377 1.06979785 1.09760943 0.35000278 0.74773692 0.70031219 0.57730656 0.61603656 0.98502209 0.6849985  1.1147743  0.58261107 0.78795867 0.44080669 0.6951672  0.43182372 0.49998494 0.67991272 0.64290072 0.80235827 0.2302143  0.55281059 0.55577711 0.39900377 0.43218254 0.73880687 0.44046628 0.46617228 0.53313614 0.         0.77874954 0.67814146 0.99804902 0.5889658  0.74187837 0.31256626 0.92507855 0.48319518 1.15972977 0.81299284 0.98593534 0.98356912 0.22942718 0.23012368 0.90836295 0.54500954 0.45971195 0.30976717 0.81511525 0.73004218 0.71895727 0.73874417 0.81981592 0.88606546 0.79497962 1.15010253 0.9487997  0.54402701 0.57689824 0.60604656 0.45963018 0.51987276 0.75310074 0.52931026 1.26476751 0.71083235 1.0290068  0.6062286  0.93912173 0.64419155 1.00723091 0.66857741 0.59575241 0.76989155 0.51500355 0.35180029 0.80032446 0.99366125 0.79338259 0.43908754 0.41494926 1.10700672 0.21265975 0.96512918 0.96356989 0.51007774 0.6786484  0.80550347]\n",
            " [0.54200828 0.62291148 0.19185977 0.33048653 0.53459345 0.64855505 0.27982513 0.3645925  0.25513596 0.49828796 0.2459872  0.47036153 0.720325   0.44181788 0.33993082 0.48523975 0.58614969 0.19454837 0.36621069 0.79837047 0.4531293  0.09381084 0.53391381 0.34901431 0.8079113  0.43466036 0.70107497 0.54577024 0.32280185 0.78711837 0.7995275  0.13944896 0.58174951 0.45210044 0.22972053 0.6873337  0.44323947 0.59339834 0.38487451 0.39082368 0.62262945 0.77874954 0.         0.68475494 0.48861754 0.21186426 0.69963577 0.67239406 0.58632938 0.31415102 0.47347317 0.54241889 0.21060324 0.5161206  0.55760364 0.61025033 0.14225679 0.36336724 0.51274363 0.49441341 0.44488347 0.54637428 0.39807584 0.53805554 0.72585164 0.11120042 0.17810917 0.52092679 0.55562596 0.25174685 0.32286483 0.45968934 0.34606191 0.29858251 0.05707388 0.43199339 0.60160395 0.38155259 0.25160495 0.26071432 0.36549819 0.68761527 0.4909536  0.6956283  0.31988655 0.1781247  0.67846615 0.42931466 0.89135126 0.22647287 0.14487742 0.36329762 0.41304069 0.42341476 0.61426914 0.25683126 0.48133994 0.36954705 0.75678178 0.19130552]\n",
            " [0.42470728 0.83701957 0.496534   0.9624696  0.72301598 0.19747426 0.9297806  0.37069545 0.64290277 0.23885927 0.49364036 0.81132902 0.74739771 0.63998347 0.82053314 0.71105261 0.14716881 0.78493155 0.82648873 0.16047185 1.11736273 0.63251682 0.62520352 0.8162039  0.1378069  0.35935865 0.02020922 0.27490096 0.69566695 0.11069104 0.14370602 0.80798967 0.48994973 0.25436994 0.54010482 0.28491874 0.35930327 0.13320082 0.42435342 0.73878074 0.14803192 0.67814146 0.68475494 0.         0.49856187 0.67131418 0.06456228 0.36651689 0.33536839 0.64938523 0.75800839 0.2444022  0.79291927 0.45827041 0.63147962 0.46614554 0.72044475 0.79449927 0.27007762 0.66276439 0.32933913 0.17039081 0.95370793 0.18428753 0.14322984 0.7286187  0.83464582 0.69195591 0.3855807  0.65377496 0.37832514 0.22803099 0.46156038 0.69082377 0.71176143 0.28728275 0.80863251 0.31786599 0.87353768 0.75634525 1.03458974 0.03711172 0.50875302 0.01791301 0.37389284 0.8210301  0.1672941  0.59037705 0.2084468  0.77282848 0.57347095 0.65695907 0.6998993  0.71998672 0.70938534 0.94084143 0.46040941 0.76512919 0.07769876 0.54267591]\n",
            " [0.09202702 0.33890096 0.41376116 0.81764019 0.87836426 0.61311585 0.76416296 0.22160229 0.27300384 0.27219006 0.50204452 0.33221084 1.0043318  0.15609314 0.40066811 0.84031278 0.35156216 0.67547904 0.81798381 0.65873695 0.92048324 0.51254989 0.12870443 0.80159122 0.55135158 0.55758774 0.50173128 0.58817301 0.72395574 0.60296615 0.64184213 0.6237654  0.76805979 0.45208559 0.53890811 0.69902606 0.56601236 0.36560867 0.57098794 0.79337279 0.55537711 0.99804902 0.48861754 0.49856187 0.         0.63227156 0.46477543 0.74449146 0.18891929 0.69004098 0.27193073 0.25415996 0.44990749 0.04937885 0.84066125 0.77091996 0.41675214 0.80218068 0.55248225 0.81882015 0.19168203 0.33597415 0.88177197 0.32189613 0.43386165 0.44795164 0.66467661 0.19367678 0.13119227 0.64908792 0.43123904 0.40481738 0.56980836 0.7045922  0.54341182 0.47050363 0.31031882 0.28733207 0.53129405 0.7130324  0.83289444 0.52687321 0.01035405 0.51631749 0.4115925  0.66666201 0.61262632 0.73142979 0.64309721 0.41448957 0.34745266 0.72853321 0.78696395 0.2471427  0.92030911 0.67817381 0.03890813 0.79249583 0.57122559 0.30235945]\n",
            " [0.66219091 0.82197922 0.22619597 0.30039393 0.32458617 0.57529658 0.2822159  0.44939121 0.44820647 0.54862071 0.17963269 0.67696117 0.51635814 0.62348811 0.55174652 0.27471264 0.61390979 0.12933595 0.18673875 0.74773082 0.46674017 0.13245689 0.70511519 0.17100617 0.80694095 0.34002436 0.69048729 0.45861091 0.11101892 0.75719451 0.75654531 0.21473833 0.41976129 0.41702698 0.13168746 0.58646825 0.34548147 0.61657137 0.27309666 0.18032895 0.56892267 0.5889658  0.21186426 0.67131418 0.63227156 0.         0.70455258 0.54726961 0.67841667 0.10737253 0.67350734 0.60325933 0.42050897 0.64711313 0.36098438 0.45541292 0.35394064 0.17017093 0.43599622 0.28966391 0.5280827  0.57473888 0.28544819 0.57127463 0.75117278 0.32260184 0.21438755 0.70647887 0.66379931 0.04494086 0.29846538 0.44889597 0.22822123 0.08686925 0.17110118 0.38528549 0.7986955  0.43040432 0.44830453 0.08902469 0.39529742 0.66263656 0.63728555 0.67731074 0.30852219 0.19103618 0.61338968 0.23839634 0.87770461 0.43828146 0.30008977 0.15552913 0.20168605 0.62137428 0.40884363 0.37934244 0.61426876 0.1654835  0.73160282 0.33792057]\n",
            " [0.38486997 0.80048094 0.51635419 0.98986574 0.77693131 0.2615491  0.95423342 0.36453457 0.63358619 0.2237485  0.52517594 0.78657048 0.80868677 0.61226177 0.80814346 0.76253579 0.12500317 0.8131067  0.86657637 0.20711747 1.14059153 0.6548308  0.58848865 0.85547525 0.10842783 0.40721074 0.05155026 0.33228707 0.73695708 0.14043775 0.18447817 0.82783858 0.55003428 0.29188599 0.57286646 0.34947631 0.4082336  0.11336673 0.46939424 0.7836801  0.20990116 0.74187837 0.69963577 0.06456228 0.46477543 0.70455258 0.         0.43069174 0.29049666 0.69082747 0.73078101 0.21418037 0.79174504 0.42141421 0.68847635 0.5276964  0.72272464 0.83568991 0.32326773 0.71583163 0.31095102 0.15957884 0.98909922 0.17139785 0.07866914 0.73417807 0.85680692 0.65827668 0.34434226 0.69037171 0.4071102  0.25573317 0.50381792 0.73045063 0.73096419 0.32671515 0.77255378 0.32193823 0.87408082 0.79132343 1.05624375 0.10101259 0.47469529 0.07779511 0.3998632  0.84476043 0.23183981 0.64062004 0.19662898 0.7690145  0.579575   0.70183569 0.74724541 0.69595234 0.76745153 0.95342321 0.42780937 0.80778838 0.11125611 0.54498767]\n",
            " [0.70171631 1.06633663 0.49940331 0.84017433 0.4346251  0.16915339 0.82879428 0.53767573 0.76378464 0.48469947 0.42643357 0.98742513 0.39698396 0.84498915 0.93564948 0.44404497 0.45022634 0.67654302 0.63300618 0.31273416 1.00953284 0.58613137 0.86980907 0.62955578 0.47623049 0.24064906 0.38308213 0.15800584 0.51041881 0.3705876  0.33748906 0.74836809 0.17070996 0.29636224 0.44988691 0.08842502 0.2314011  0.43965728 0.28850791 0.5203852  0.22481531 0.31256626 0.67239406 0.36651689 0.74449146 0.54726961 0.43069174 0.         0.63965248 0.47099956 0.94989065 0.5274943  0.85337014 0.72062249 0.32496552 0.13150358 0.77182058 0.59668924 0.19581286 0.38809176 0.55328489 0.43944245 0.78052991 0.45026768 0.50908183 0.76131525 0.75774346 0.91813089 0.67221049 0.50980047 0.37824121 0.3398036  0.3305535  0.51853678 0.66967615 0.28787723 1.03747169 0.46537563 0.91632541 0.60683785 0.94203712 0.33198345 0.75447436 0.35636116 0.39201475 0.73608402 0.20245012 0.35240362 0.49532932 0.849359   0.63025211 0.45087937 0.46771011 0.90054905 0.38683149 0.90992828 0.70696435 0.56013724 0.36704036 0.62529896]\n",
            " [0.0991324  0.51339772 0.45305932 0.91334314 0.86456338 0.48647103 0.86548995 0.23038776 0.42583891 0.16335989 0.51552624 0.52110656 0.9563107  0.34476346 0.57802893 0.8346456  0.19770961 0.75175265 0.86325329 0.49439315 1.03752968 0.58098737 0.30286007 0.84840285 0.36701978 0.50263225 0.33404172 0.49478136 0.7502798  0.43093298 0.47391859 0.72575302 0.70223856 0.37621524 0.5611211  0.57815439 0.50899076 0.21092232 0.53779968 0.81362354 0.42592701 0.92507855 0.58632938 0.33536839 0.18891929 0.67841667 0.29049666 0.63965248 0.         0.7093664  0.46073479 0.11257628 0.60297462 0.14043773 0.8047237  0.69519785 0.55286856 0.84061946 0.4653685  0.80193705 0.15033594 0.20045136 0.95313517 0.18938859 0.24853728 0.57693765 0.76335635 0.37644309 0.05805404 0.68303894 0.4124747  0.32136082 0.55157115 0.73526648 0.63417218 0.40539412 0.48612914 0.25552471 0.68720857 0.76613506 0.94935246 0.36847147 0.19753839 0.35319933 0.3948404  0.75955487 0.47539268 0.71511877 0.45744919 0.57158096 0.44266796 0.73856335 0.79455147 0.43504977 0.88712137 0.81127783 0.15866822 0.82301586 0.40108142 0.39716505]\n",
            " [0.70751422 0.90793922 0.27654752 0.37054703 0.22065431 0.52586054 0.36551618 0.48840878 0.53529892 0.5647527  0.19422495 0.7698404  0.40918142 0.70087541 0.65214844 0.1718801  0.61544296 0.22067527 0.17769543 0.70419067 0.54023828 0.22634004 0.77537648 0.16893075 0.78711806 0.29547077 0.66932185 0.4077445  0.04628411 0.72398432 0.7166788  0.31916314 0.32776898 0.39904314 0.15173451 0.52179895 0.29827409 0.61566301 0.22718895 0.10468415 0.53027595 0.48319518 0.31415102 0.64938523 0.69004098 0.10737253 0.69082747 0.47099956 0.7093664  0.         0.76130485 0.62178379 0.52447969 0.6982153  0.25438509 0.36616389 0.45460927 0.14511841 0.39276547 0.18240878 0.56125057 0.5785087  0.3158117  0.57766622 0.74628986 0.42534342 0.31345158 0.7847757  0.70316399 0.06326264 0.30262968 0.44106706 0.18782936 0.04760265 0.27753936 0.36411862 0.88340054 0.45423248 0.55525702 0.13705821 0.47781903 0.63507616 0.69623673 0.65264484 0.31787764 0.28875669 0.5667433  0.13628678 0.84977165 0.54003315 0.38036177 0.04914837 0.10282299 0.70831117 0.30187368 0.48238014 0.66735333 0.11780615 0.70157928 0.41170871]\n",
            " [0.36252127 0.14943856 0.50765243 0.75758435 0.97608258 0.84341703 0.69904095 0.416814   0.22606559 0.52103482 0.60820759 0.06339016 1.13695263 0.11852132 0.20073017 0.93037801 0.61161705 0.66408175 0.83962733 0.91576972 0.81358829 0.54108323 0.1786045  0.82242384 0.82164791 0.72958065 0.76364882 0.79252783 0.78196668 0.86589904 0.90159099 0.57475788 0.93339854 0.65508809 0.62757873 0.92080444 0.73908658 0.62532904 0.71937602 0.85295077 0.79059298 1.15972977 0.47347317 0.75800839 0.27193073 0.67350734 0.73078101 0.94989065 0.46073479 0.76130485 0.         0.51681517 0.32163736 0.32039227 0.96790378 0.94640472 0.3425241  0.83528998 0.7543016  0.9246061  0.43102271 0.58906851 0.8575485  0.57487951 0.70492678 0.3807064  0.61591659 0.10613685 0.40280668 0.70539563 0.58661047 0.61972785 0.70210645 0.75869515 0.52866059 0.66224411 0.1293113  0.48872795 0.37784109 0.7335798  0.73333414 0.78274378 0.26319782 0.77529831 0.56899258 0.62802657 0.85110427 0.84370846 0.91384333 0.284562   0.38210433 0.80797634 0.86412783 0.05346876 1.03940413 0.5595322  0.30546592 0.83784861 0.83340636 0.35850773]\n",
            " [0.1842833  0.59273147 0.38431263 0.8592387  0.76353046 0.37700824 0.81563543 0.1791402  0.43042492 0.05759509 0.43116076 0.57239073 0.8470607  0.39832784 0.59997369 0.73631938 0.09754928 0.68993135 0.78392315 0.40464469 0.995086   0.52047205 0.38112215 0.77000021 0.31066295 0.39536961 0.24795951 0.38228882 0.66474222 0.34976186 0.38775396 0.67953497 0.59135654 0.26680222 0.47877216 0.46790147 0.40117083 0.11161671 0.43557959 0.72461978 0.31675726 0.81299284 0.54241889 0.2444022  0.25415996 0.60325933 0.21418037 0.5274943  0.11257628 0.62178379 0.51681517 0.         0.59820374 0.21476582 0.69853381 0.5833019  0.53651094 0.75864082 0.35333449 0.70060074 0.10595924 0.08967095 0.88498002 0.07754729 0.20137742 0.55418985 0.71410907 0.44762134 0.14859195 0.60219406 0.31966281 0.21171815 0.45375025 0.65183759 0.58411927 0.29769235 0.5642898  0.17307773 0.68228864 0.69218207 0.90777752 0.27327561 0.26435231 0.26216577 0.303907   0.7069344  0.36906144 0.61493437 0.40333754 0.5716489  0.40608276 0.64686749 0.7011248  0.48182932 0.78102418 0.78418805 0.2160828  0.73797137 0.31764879 0.36468011]\n",
            " [0.52923042 0.46396471 0.35396742 0.43837491 0.74459051 0.80115724 0.37966873 0.42751945 0.17857318 0.57025022 0.43628864 0.2969753  0.9308097  0.34086307 0.1420373  0.69498364 0.66815871 0.37041182 0.55510017 0.92838418 0.49521476 0.30259882 0.44187115 0.53841294 0.89830397 0.61277117 0.80586453 0.7123949  0.53062694 0.90213896 0.9238595  0.26622919 0.78121917 0.59649281 0.4312228  0.85467571 0.62210494 0.67872032 0.57390805 0.59645686 0.76419183 0.98593534 0.21060324 0.79291927 0.44990749 0.42050897 0.79174504 0.85337014 0.60297462 0.52447969 0.32163736 0.59820374 0.         0.49204815 0.76727406 0.80640294 0.08155331 0.55914886 0.6759084  0.70501494 0.49224506 0.63217053 0.54729008 0.62053449 0.79814727 0.10015296 0.30471557 0.40104687 0.55660188 0.46174271 0.4801836  0.58703571 0.54020365 0.50638686 0.25127858 0.58570966 0.44864543 0.47516841 0.08448918 0.45621275 0.41285068 0.80452861 0.44768155 0.80689326 0.47038739 0.32102628 0.82425087 0.63867308 0.98837376 0.03849486 0.22911436 0.5736213  0.62219428 0.28343516 0.82486733 0.24152509 0.45988546 0.57088422 0.86972101 0.25131324]\n",
            " [0.04264961 0.379297   0.42414611 0.84644435 0.87892662 0.58286316 0.79422438 0.21605387 0.31384922 0.2401889  0.50682911 0.38114141 0.99643494 0.20532692 0.44855377 0.84282125 0.31218236 0.69859121 0.83370039 0.61873608 0.9549733  0.53230445 0.16723034 0.81763379 0.50513606 0.54513877 0.46028157 0.56620613 0.73419784 0.56065348 0.60079359 0.65336975 0.75447622 0.43287037 0.54648784 0.67075033 0.55312478 0.32624279 0.56432264 0.8024218  0.52401113 0.98356912 0.5161206  0.45827041 0.04937885 0.64711313 0.42141421 0.72062249 0.14043773 0.6982153  0.32039227 0.21476582 0.49204815 0.         0.83525946 0.75477375 0.45417602 0.81603641 0.53176629 0.81828708 0.16904903 0.30032175 0.90452734 0.28656185 0.38715574 0.48366044 0.69362432 0.23772791 0.08243088 0.6608241  0.42629565 0.3828385  0.56703483 0.71585526 0.56949404 0.45429902 0.35121501 0.27457963 0.57444444 0.73025653 0.86702803 0.4879674  0.05728857 0.47613458 0.40677595 0.69410136 0.57964826 0.73053383 0.59644616 0.45751633 0.37243646 0.73452246 0.79266149 0.29650681 0.91598456 0.7160605  0.03480973 0.80422984 0.52936176 0.32628528]\n",
            " [0.83244731 1.10781397 0.46026141 0.59801501 0.11146183 0.45311801 0.60539325 0.62015436 0.74725978 0.64268618 0.35970238 0.98652695 0.16905595 0.88887187 0.88603624 0.13463211 0.65611976 0.47092173 0.3580342  0.62558265 0.76396756 0.46468914 0.94676011 0.36101714 0.76188747 0.30326872 0.65116425 0.35663185 0.27081123 0.6704953  0.6466343  0.57338054 0.15516807 0.43315241 0.34458783 0.40496647 0.29792568 0.65085454 0.27105965 0.24279422 0.48608863 0.22942718 0.55760364 0.63147962 0.84066125 0.36098438 0.68847635 0.32496552 0.8047237  0.25438509 0.96790378 0.69853381 0.76727406 0.83525946 0.         0.19350404 0.69221949 0.32364419 0.36700838 0.08408031 0.67383524 0.6284624  0.50486476 0.63342038 0.75986568 0.66712535 0.56555263 0.97184154 0.81630397 0.31609911 0.40957503 0.48782092 0.2722173  0.2904567  0.52789226 0.40092637 1.08111726 0.56251958 0.80532446 0.37743143 0.71353559 0.60484292 0.848831   0.62764774 0.42921049 0.54046611 0.495418   0.12875126 0.80017826 0.77816509 0.59017682 0.20966935 0.18910321 0.91449096 0.08249038 0.73578033 0.81015625 0.28718936 0.65822346 0.60942372]\n",
            " [0.7427272  1.07405818 0.45942877 0.73617341 0.30361851 0.27447277 0.73105473 0.55232186 0.74270841 0.53290314 0.3701173  0.97665632 0.2812761  0.85070026 0.9044273  0.31571609 0.52108889 0.58224136 0.51603338 0.43789239 0.90578794 0.51852248 0.89002827 0.51442818 0.58814978 0.21762013 0.48468803 0.20420975 0.40073905 0.48908651 0.46075282 0.6661952  0.04150229 0.32294496 0.3806302  0.21398736 0.20835263 0.51291329 0.23456721 0.40071968 0.3181565  0.23012368 0.61025033 0.46614554 0.77091996 0.45541292 0.5276964  0.13150358 0.69519785 0.36616389 0.94640472 0.5833019  0.80640294 0.75477375 0.19350404 0.         0.72572523 0.4797219  0.22999185 0.25964529 0.58597284 0.50146848 0.66492291 0.50971026 0.60372885 0.70933115 0.66970162 0.92914863 0.71871852 0.41388805 0.35979892 0.37594847 0.26624869 0.41249142 0.59749334 0.30067853 1.04577862 0.48366434 0.86080197 0.50314315 0.84374602 0.4352335  0.78029747 0.45921527 0.3775252  0.64644014 0.31457829 0.2363848  0.61710693 0.80814184 0.59581389 0.33820829 0.34646348 0.89463678 0.25712157 0.8307101  0.7357409  0.4425369  0.48081294 0.60057499]\n",
            " [0.48793392 0.49100034 0.27241998 0.42154337 0.67526312 0.72148445 0.36405008 0.36100488 0.14786459 0.50406177 0.35566804 0.33229272 0.85740286 0.33297043 0.19784904 0.6262671  0.60060213 0.32321935 0.50341628 0.85229187 0.50548809 0.2291959  0.4319612  0.48634379 0.83021946 0.53121812 0.73414937 0.63130769 0.46494075 0.82874186 0.84876232 0.23312381 0.70114607 0.51714317 0.35273251 0.77369407 0.54055178 0.61048034 0.49276844 0.53307298 0.6858269  0.90836295 0.14225679 0.72044475 0.41675214 0.35394064 0.72272464 0.77182058 0.55286856 0.45460927 0.3425241  0.53651094 0.08155331 0.45417602 0.69221949 0.72572523 0.         0.50326278 0.59500131 0.6328723  0.43117358 0.5634105  0.51522132 0.55242194 0.73394831 0.03825267 0.27478663 0.40457121 0.51097114 0.39291476 0.39917541 0.50993086 0.4596831  0.4407428  0.19182717 0.50535245 0.47182565 0.40281211 0.15384128 0.40003292 0.41881658 0.73038881 0.41630472 0.73386113 0.38981565 0.28572745 0.74547415 0.56346824 0.91911444 0.08599596 0.15020387 0.50365265 0.55461557 0.2960381  0.75245893 0.26188477 0.42032222 0.51113004 0.79661827 0.17798937]\n",
            " [0.82973668 0.98453399 0.39275982 0.27726178 0.23980406 0.66675343 0.2937016  0.61410446 0.61214073 0.70233352 0.3274814  0.83371538 0.44078617 0.7913409  0.69768787 0.19504124 0.75776629 0.19408204 0.03636797 0.84607695 0.44073673 0.29852239 0.87464696 0.03761207 0.93223615 0.43948087 0.8144395  0.54914221 0.09884667 0.86811441 0.85950736 0.30788105 0.43873838 0.54382096 0.28020217 0.65552657 0.44177466 0.75853952 0.37167106 0.08118863 0.67396432 0.54500954 0.36336724 0.79449927 0.80218068 0.17017093 0.83568991 0.59668924 0.84061946 0.14511841 0.83528998 0.75864082 0.55914886 0.81603641 0.32364419 0.4797219  0.50326278 0.         0.53625397 0.2395642  0.69076667 0.72015715 0.18525832 0.71858668 0.89016618 0.46803526 0.28378434 0.87374602 0.82942686 0.15759171 0.44228223 0.58470189 0.33293925 0.10715257 0.31147898 0.50904211 0.962234   0.58792649 0.56865201 0.10331017 0.39536177 0.77996821 0.80730032 0.79768784 0.45604464 0.2594515  0.70829155 0.24462462 0.99443312 0.58306119 0.46865711 0.1472485  0.13613445 0.78412801 0.33701712 0.45088193 0.78351485 0.03733615 0.84616796 0.50766132]\n",
            " [0.51655706 0.87082938 0.32621262 0.7361387  0.45373263 0.1402751  0.71306969 0.34215843 0.5728609  0.30367167 0.27649165 0.79272113 0.50017824 0.64922218 0.74782576 0.44098676 0.2942939  0.56095439 0.570119   0.31284413 0.90044025 0.43664439 0.67623276 0.56168943 0.40591477 0.09765254 0.29023106 0.03844987 0.43854386 0.33218833 0.32407846 0.61058026 0.24059048 0.10107086 0.31385842 0.17881541 0.09451885 0.28739441 0.16640682 0.47447323 0.13772832 0.45971195 0.51274363 0.27007762 0.55248225 0.43599622 0.32326773 0.19581286 0.4653685  0.39276547 0.7543016  0.35333449 0.6759084  0.53176629 0.36700838 0.22999185 0.59500131 0.53625397 0.         0.39295303 0.36292626 0.27215261 0.70626842 0.27995343 0.39303029 0.58943587 0.62828678 0.72285796 0.49061633 0.40932325 0.19585885 0.14904586 0.20954277 0.43755585 0.521727   0.09381655 0.8420011  0.27005037 0.74476432 0.51338981 0.82411159 0.24885418 0.56228667 0.26933625 0.20593395 0.60998712 0.17739359 0.32080905 0.45992668 0.6679617  0.44811607 0.39340955 0.43252277 0.70526241 0.44753126 0.7636271  0.51569634 0.50438535 0.31176878 0.43760939]\n",
            " [0.81974553 1.06793307 0.42058779 0.51435905 0.06299242 0.49748237 0.52306756 0.60228568 0.70055456 0.64343052 0.32188835 0.93869469 0.22678573 0.8530495  0.82926293 0.05607786 0.66929014 0.39224692 0.27401144 0.67507225 0.67996575 0.40369004 0.91784528 0.27694879 0.79723744 0.31342405 0.68285241 0.39048734 0.19160405 0.71319875 0.6939088  0.49792788 0.21848432 0.44242637 0.29707339 0.46153522 0.31045121 0.66570076 0.2650216  0.15876729 0.52243871 0.30976717 0.49441341 0.66276439 0.81882015 0.28966391 0.71583163 0.38809176 0.80193705 0.18240878 0.9246061  0.70060074 0.70501494 0.81828708 0.08408031 0.25964529 0.6328723  0.2395642  0.39295303 0.         0.66346028 0.63812277 0.42121841 0.64128534 0.78320229 0.60528768 0.48745505 0.93682833 0.80755428 0.24562284 0.39370651 0.49499167 0.25220414 0.21289967 0.45983894 0.40782243 1.04208445 0.5514528  0.73763684 0.29684028 0.6303723  0.63947104 0.82633306 0.66106009 0.41281389 0.46220746 0.54040748 0.0878007  0.84320378 0.71875901 0.54307138 0.13438905 0.1055856  0.87116592 0.1198688  0.658414   0.79088093 0.20315848 0.69771751 0.56738529]\n",
            " [0.15905741 0.52421975 0.30282857 0.76789046 0.72539183 0.42274695 0.72181769 0.08156133 0.32543555 0.09056594 0.36705018 0.4825846  0.83201247 0.31440219 0.49752957 0.69277241 0.18653135 0.60337999 0.71305762 0.48520418 0.8979528  0.43259015 0.31902485 0.69814427 0.41261838 0.37843992 0.33699205 0.3977851  0.60136718 0.43908473 0.47213043 0.58355612 0.5865749  0.26382213 0.41184235 0.50760498 0.38609017 0.19935241 0.40317872 0.66579648 0.36610482 0.81511525 0.44488347 0.32933913 0.19168203 0.5280827  0.31095102 0.55328489 0.15033594 0.56125057 0.43102271 0.10595924 0.49224506 0.16904903 0.67383524 0.58597284 0.43117358 0.69076667 0.36292626 0.66346028 0.         0.15905843 0.80355253 0.14506365 0.30670364 0.44988733 0.61975923 0.37552482 0.14422633 0.53317758 0.27005203 0.21423392 0.41133616 0.58582836 0.48983424 0.28584696 0.49524381 0.11203759 0.57634519 0.61582475 0.81014514 0.35223827 0.20182081 0.34617541 0.25135998 0.61443584 0.42481854 0.57584824 0.50480041 0.46581968 0.30479225 0.59226234 0.64906259 0.39111273 0.75549711 0.68140309 0.15373936 0.67383685 0.40617284 0.26174334]\n",
            " [0.27260865 0.67458806 0.36998362 0.8481205  0.70104453 0.28733729 0.80897361 0.20514814 0.4756347  0.0685038  0.39640644 0.64148627 0.77091171 0.4715659  0.65188334 0.67783359 0.04017154 0.67372085 0.74812243 0.32670466 0.99318829 0.50936189 0.46440727 0.73537864 0.26682247 0.32641857 0.17896547 0.29823241 0.62330655 0.28054806 0.31309651 0.67826294 0.51245961 0.19613665 0.4449667  0.37832793 0.33094347 0.04740258 0.37513033 0.67826561 0.22710738 0.73004218 0.54637428 0.17039081 0.33597415 0.57473888 0.15957884 0.43944245 0.20045136 0.5785087  0.58906851 0.08967095 0.63217053 0.30032175 0.6284624  0.50146848 0.5634105  0.72015715 0.27215261 0.63812277 0.15905843 0.         0.85993167 0.01423431 0.18062004 0.57563664 0.70947451 0.52747482 0.2380589  0.56727814 0.27840645 0.14325199 0.39987148 0.61308067 0.58136211 0.23031219 0.6458551  0.16519337 0.71452761 0.66342869 0.90747488 0.19368402 0.34631311 0.18712797 0.26646743 0.69929276 0.2801466  0.55494053 0.35620681 0.60965234 0.42160731 0.59807993 0.64947977 0.55005476 0.71069225 0.79766712 0.29715886 0.69619304 0.24755931 0.38589909]\n",
            " [0.92544224 1.00531265 0.50169758 0.13817543 0.41066692 0.8412563  0.18545561 0.72275708 0.65036286 0.83152748 0.46495318 0.84220306 0.60387738 0.83862815 0.68890162 0.37191998 0.89922638 0.2062939  0.14906181 1.01878116 0.27204124 0.37376006 0.9319213  0.15099618 1.0902781  0.60861608 0.97317719 0.72306979 0.27224764 1.03495297 1.03025178 0.28312486 0.623982   0.69951504 0.41670045 0.83638024 0.61222497 0.90199961 0.53986296 0.26550339 0.84290415 0.71895727 0.39807584 0.95370793 0.88177197 0.28544819 0.98909922 0.78052991 0.95313517 0.3158117  0.8575485  0.88498002 0.54729008 0.90452734 0.50486476 0.66492291 0.51522132 0.18525832 0.70626842 0.42121841 0.80355253 0.85993167 0.         0.85617539 1.03661576 0.47697709 0.24288567 0.915787   0.93246688 0.30004565 0.58384201 0.73374177 0.4974938  0.26935713 0.34125713 0.66649697 0.98685188 0.71194571 0.52869801 0.19777627 0.25058988 0.94286956 0.88500879 0.9587572  0.59392658 0.2295259  0.88175175 0.42934298 1.1582849  0.57964322 0.53439264 0.3296702  0.32056527 0.81111471 0.5068867  0.36688756 0.87022228 0.22254372 1.01091657 0.57949154]\n",
            " [0.25936784 0.66045124 0.36380114 0.84220245 0.70425535 0.2998506  0.80238242 0.19315677 0.46286146 0.0545887  0.39364799 0.62738803 0.77753798 0.45734951 0.63872831 0.6801481  0.04851537 0.66841552 0.74609898 0.34090253 0.98603938 0.50306023 0.45037551 0.73313777 0.27792223 0.33070353 0.19247869 0.30713824 0.62217619 0.29426642 0.32717009 0.67080602 0.51976453 0.20038968 0.44216796 0.39045927 0.33557372 0.05818703 0.37746779 0.67811843 0.23980564 0.73874417 0.53805554 0.18428753 0.32189613 0.57127463 0.17139785 0.45026768 0.18938859 0.57766622 0.57487951 0.07754729 0.62053449 0.28656185 0.63342038 0.50971026 0.55242194 0.71858668 0.27995343 0.64128534 0.14506365 0.01423431 0.85617539 0.         0.1879198  0.56525005 0.70251331 0.51328315 0.22536055 0.56490005 0.27637156 0.14643035 0.40082431 0.61144848 0.57399213 0.23384926 0.63170841 0.15650868 0.70312168 0.66011528 0.90006197 0.20788779 0.33223842 0.20112073 0.26364172 0.69274753 0.29351533 0.55746884 0.36794143 0.59761692 0.41163483 0.59832268 0.65034586 0.53596976 0.71576411 0.78840653 0.2830639  0.69520109 0.26130113 0.37520704]\n",
            " [0.3472301  0.76166891 0.55051477 1.02839071 0.84500855 0.33993208 0.98957537 0.37306388 0.63178147 0.23053243 0.57173881 0.7634492  0.88420026 0.58709056 0.80060332 0.82814682 0.14045496 0.85342842 0.91973179 0.27362576 1.17375093 0.68990581 0.55139283 0.90778983 0.11854255 0.47134373 0.12901556 0.40539363 0.79200213 0.1998304  0.24782632 0.85866433 0.62467999 0.34894665 0.62014856 0.42814539 0.4733429  0.13538655 0.53021006 0.84233351 0.28702543 0.81981592 0.72585164 0.14322984 0.43386165 0.75117278 0.07866914 0.50908183 0.24853728 0.74628986 0.70492678 0.20137742 0.79814727 0.38715574 0.75986568 0.60372885 0.73394831 0.89016618 0.39303029 0.78320229 0.30670364 0.18062004 1.03661576 0.1879198  0.         0.74918461 0.8900788  0.6245349  0.3059075  0.74070314 0.45285268 0.30548039 0.56155867 0.78376259 0.76181154 0.38453951 0.73455661 0.3443245  0.88189653 0.83927829 1.08791044 0.17947856 0.44318534 0.15583081 0.44290863 0.87988922 0.31048475 0.70540483 0.20929676 0.77241865 0.59716306 0.76083235 0.80861539 0.67463277 0.83977174 0.97504112 0.39947022 0.86395881 0.17680103 0.5587044 ]\n",
            " [0.51601991 0.52905659 0.26371604 0.38411326 0.64578961 0.71923665 0.32690644 0.37644394 0.1830326  0.51868817 0.33970274 0.36948034 0.83085397 0.36981058 0.23034081 0.59640412 0.61368988 0.28587687 0.46717092 0.85592021 0.4726543  0.20246513 0.46818949 0.45015987 0.84221791 0.52084252 0.74306231 0.62488882 0.43331523 0.83568415 0.85368452 0.19492683 0.68315977 0.51620047 0.33207034 0.76747861 0.5299786  0.62296101 0.47841207 0.5004672  0.68629545 0.88606546 0.11120042 0.7286187  0.44795164 0.32260184 0.73417807 0.76131525 0.57693765 0.42534342 0.3807064  0.55418985 0.10015296 0.48366044 0.66712535 0.70933115 0.03825267 0.46803526 0.58943587 0.60528768 0.44988733 0.57563664 0.47697709 0.56525005 0.74918461 0.         0.23664684 0.44233226 0.53722552 0.36292693 0.39392736 0.51306716 0.4431428  0.40906629 0.15675027 0.50192611 0.51001462 0.41256253 0.15550092 0.3647264  0.38535001 0.73670806 0.44802563 0.74140988 0.38628289 0.24747709 0.74505147 0.53852012 0.92994037 0.11598287 0.15516312 0.47448819 0.52406034 0.33428464 0.72510519 0.23445786 0.44941544 0.47710635 0.80394664 0.19048211]\n",
            " [0.72005073 0.7630434  0.3405774  0.15296983 0.50842463 0.76844166 0.10214993 0.53862533 0.41569194 0.66691317 0.35260057 0.59934944 0.70908024 0.60423687 0.44659653 0.45887138 0.74962824 0.09539541 0.26917108 0.93226285 0.28391147 0.20223183 0.7006632  0.25434708 0.96392294 0.53741165 0.85231996 0.65576467 0.29585112 0.93094673 0.93728544 0.04203189 0.63413902 0.58795262 0.31515528 0.7904101  0.54428266 0.7555293  0.47492074 0.34394645 0.75288475 0.79497962 0.17810917 0.83464582 0.66467661 0.21438755 0.85680692 0.75774346 0.76335635 0.31345158 0.61591659 0.71410907 0.30471557 0.69362432 0.56555263 0.66970162 0.27478663 0.28378434 0.62828678 0.48745505 0.61975923 0.70947451 0.24288567 0.70251331 0.8900788  0.23664684 0.         0.67859474 0.73362959 0.25723924 0.45814981 0.60661826 0.43041219 0.27516055 0.13006642 0.56151532 0.74511586 0.54741473 0.29388006 0.19322427 0.19994877 0.83260672 0.66650626 0.8436064  0.4609154  0.02531934 0.8033721  0.44930204 1.04304089 0.33675766 0.32297946 0.35590445 0.38620931 0.57063008 0.60152633 0.17121016 0.65881869 0.30690823 0.9024471  0.36941431]\n",
            " [0.27738962 0.14898724 0.51633909 0.82601985 0.99197903 0.79752896 0.76826941 0.38077098 0.26591893 0.46171993 0.61526207 0.16829487 1.13987273 0.08400596 0.29701938 0.9488186  0.54483416 0.71531328 0.88217929 0.85192653 0.89624188 0.57532197 0.07718406 0.86504285 0.74271632 0.7117192  0.6953686  0.76018997 0.8106795  0.79664208 0.83537403 0.6366562  0.92065946 0.62188767 0.64187465 0.88014532 0.72087127 0.55885268 0.71157417 0.88204032 0.74153608 1.15010253 0.52092679 0.69195591 0.19367678 0.70647887 0.65827668 0.91813089 0.37644309 0.7847757  0.10613685 0.44762134 0.40104687 0.23772791 0.97184154 0.92914863 0.40457121 0.87374602 0.72285796 0.93682833 0.37552482 0.52747482 0.915787   0.51328315 0.6245349  0.44233226 0.67859474 0.         0.31868829 0.73347721 0.5732652  0.58020172 0.70069777 0.78849068 0.57783068 0.63445605 0.11997533 0.45282493 0.46688532 0.77501402 0.81319029 0.71968581 0.18364415 0.70966538 0.55435055 0.68764483 0.80032146 0.85245262 0.83373099 0.36262717 0.40669156 0.82904421 0.88677842 0.12011766 1.04727295 0.64248906 0.23154894 0.87194689 0.76489177 0.37309467]\n",
            " [0.04132289 0.45701919 0.43763413 0.88517747 0.86956157 0.52521075 0.83545047 0.21543318 0.37831028 0.1878452  0.50904492 0.46338561 0.9723536  0.28723597 0.52452446 0.83696643 0.24276795 0.72862292 0.85010026 0.54566881 1.00329746 0.55877634 0.24574985 0.83470468 0.42423532 0.51772244 0.3858123  0.52245999 0.74223246 0.48450587 0.5262871  0.69483839 0.72264404 0.39623986 0.55257604 0.61557964 0.52483592 0.25658323 0.54630779 0.80783785 0.46512177 0.9487997  0.55562596 0.3855807  0.13119227 0.66379931 0.34434226 0.67221049 0.05805404 0.70316399 0.40280668 0.14859195 0.55660188 0.08243088 0.81630397 0.71871852 0.51097114 0.82942686 0.49061633 0.80755428 0.14422633 0.2380589  0.93246688 0.22536055 0.3059075  0.53722552 0.73362959 0.31868829 0.         0.6721565  0.4142726  0.34277396 0.55549669 0.72578511 0.60591367 0.42232984 0.42948195 0.25611642 0.64033865 0.75005559 0.9150615  0.41722129 0.13962599 0.40349116 0.39557954 0.73152364 0.51761274 0.71999148 0.51504836 0.5239193  0.41081584 0.73543553 0.79254525 0.3779198  0.89825553 0.77156237 0.10299418 0.81414123 0.45395489 0.36451686]\n",
            " [0.67326299 0.85301852 0.2367091  0.33207906 0.28288896 0.54704641 0.31920055 0.45675494 0.47940434 0.54629939 0.17156231 0.71160712 0.47240744 0.64990981 0.59068805 0.23350014 0.60567119 0.16841973 0.18177348 0.72211308 0.50054761 0.16625927 0.728106   0.16829699 0.79057613 0.31206219 0.67330539 0.42934023 0.07720422 0.73550036 0.73232161 0.25931502 0.37743786 0.39977845 0.12345566 0.55291229 0.31664275 0.6073296  0.24373517 0.14857434 0.54461158 0.54402701 0.25174685 0.65377496 0.64908792 0.04494086 0.69037171 0.50980047 0.68303894 0.06326264 0.70539563 0.60219406 0.46174271 0.6608241  0.31609911 0.41388805 0.39291476 0.15759171 0.40932325 0.24562284 0.53317758 0.56727814 0.30004565 0.56490005 0.74070314 0.36292693 0.25723924 0.73347721 0.6721565  0.         0.28890746 0.43595805 0.19979486 0.05570873 0.21427676 0.36650976 0.82906527 0.4307852  0.49201658 0.10412156 0.43242643 0.64287172 0.65467641 0.6587164  0.30133845 0.23330377 0.58627811 0.19366831 0.85828696 0.47802041 0.32706588 0.11214643 0.16184209 0.65275104 0.36513599 0.42366713 0.62882447 0.14348577 0.71107407 0.36164073]\n",
            " [0.42612728 0.71603503 0.1321379  0.58428174 0.45542247 0.32674096 0.5517533  0.21065116 0.38733504 0.26237831 0.11889643 0.61768531 0.57337824 0.49298937 0.55742506 0.42298109 0.31678682 0.40688918 0.4697781  0.47731029 0.73963865 0.25731059 0.54086941 0.45697249 0.51134248 0.14389079 0.39670849 0.23222801 0.34642324 0.47279843 0.48042495 0.43412864 0.34801593 0.13064084 0.16730545 0.37452101 0.15352853 0.31870725 0.14013464 0.40498653 0.30004595 0.57689824 0.32286483 0.37832514 0.43123904 0.29846538 0.4071102  0.37824121 0.4124747  0.30262968 0.58661047 0.31966281 0.4801836  0.42629565 0.40957503 0.35979892 0.39917541 0.44228223 0.19585885 0.39370651 0.27005203 0.27840645 0.58384201 0.27637156 0.45285268 0.39392736 0.45814981 0.5732652  0.4142726  0.28890746 0.         0.15161968 0.14151112 0.33513097 0.33998938 0.1093043  0.68806091 0.15832877 0.54909567 0.38642562 0.65790795 0.37458152 0.43954637 0.38632362 0.01964667 0.44347943 0.35563704 0.30598004 0.58661784 0.4731557  0.25325547 0.32744028 0.38250911 0.53487121 0.48981922 0.57817631 0.4006202  0.41961273 0.44442194 0.24729434]\n",
            " [0.36769829 0.72896394 0.26948238 0.73562335 0.55794119 0.22575833 0.70196264 0.20294317 0.45820842 0.15804224 0.26944631 0.66287642 0.63542115 0.50998595 0.63750088 0.53463404 0.17658843 0.55837712 0.61430343 0.3428557  0.88940275 0.40451857 0.53007767 0.60249827 0.35976873 0.18464912 0.24588989 0.18355929 0.48664353 0.32746407 0.34127449 0.58026959 0.38107272 0.05508409 0.31723001 0.30130357 0.18994377 0.1753244  0.23198773 0.53854447 0.17948314 0.60604656 0.45968934 0.22803099 0.40481738 0.44889597 0.25573317 0.3398036  0.32136082 0.44106706 0.61972785 0.21171815 0.58703571 0.3828385  0.48782092 0.37594847 0.50993086 0.58470189 0.14904586 0.49499167 0.21423392 0.14325199 0.73374177 0.14643035 0.30548039 0.51306716 0.60661826 0.58020172 0.34277396 0.43595805 0.15161968 0.         0.25843251 0.47829384 0.48433348 0.08743105 0.69999478 0.13119715 0.66369537 0.53599309 0.80656432 0.22801627 0.41475689 0.23729004 0.14594854 0.59306947 0.24083548 0.41170032 0.4364555  0.572199   0.35989983 0.45759413 0.50770711 0.57308396 0.57026715 0.71647326 0.36755036 0.55883116 0.29745406 0.33672151]\n",
            " [0.56761614 0.83883055 0.1985199  0.52854474 0.31406501 0.34760951 0.50884184 0.35101151 0.4874293  0.39617535 0.1040349  0.72561487 0.43929751 0.61822493 0.64166361 0.28315541 0.43484811 0.3557276  0.36518495 0.52236969 0.69471566 0.25674789 0.6745429  0.35544866 0.59930695 0.11233712 0.4815079  0.23045208 0.23411307 0.53778408 0.53297086 0.41857373 0.24201319 0.21278952 0.11940174 0.360307   0.1173461  0.43373107 0.04498201 0.28077483 0.3454473  0.45963018 0.34606191 0.46156038 0.56980836 0.22822123 0.50381792 0.3305535  0.55157115 0.18782936 0.70210645 0.45375025 0.54020365 0.56703483 0.2722173  0.26624869 0.4596831  0.33293925 0.20954277 0.25220414 0.41133616 0.39987148 0.4974938  0.40082431 0.56155867 0.4431428  0.43041219 0.70069777 0.55549669 0.19979486 0.14151112 0.25843251 0.         0.23023182 0.33940428 0.17739779 0.8116762  0.2993839  0.59528975 0.30384716 0.62124693 0.44754727 0.57773534 0.46487479 0.16069619 0.41001237 0.38652636 0.16451794 0.6625572  0.54269052 0.33465164 0.19937718 0.24960855 0.64902502 0.35066735 0.57940386 0.54048645 0.30404937 0.51455844 0.34600205]\n",
            " [0.72768837 0.90673873 0.29172402 0.32373145 0.24110074 0.57190401 0.32083854 0.51036048 0.53293114 0.59539547 0.22080033 0.76331685 0.43745006 0.70502971 0.63850952 0.19086947 0.65079484 0.18049333 0.13615013 0.74968098 0.49340039 0.21794906 0.78372585 0.12538588 0.82834052 0.33998188 0.71063388 0.45372048 0.02425292 0.76782261 0.76163264 0.28515411 0.37360842 0.43863556 0.17416457 0.56922065 0.34325312 0.65171387 0.27133314 0.09425583 0.57471509 0.51987276 0.29858251 0.69082377 0.7045922  0.08686925 0.73045063 0.51853678 0.73526648 0.04760265 0.75869515 0.65183759 0.50638686 0.71585526 0.2904567  0.41249142 0.4407428  0.10715257 0.43755585 0.21289967 0.58582836 0.61308067 0.26935713 0.61144848 0.78376259 0.40906629 0.27516055 0.78849068 0.72578511 0.05570873 0.33513097 0.47829384 0.23023182 0.         0.25571318 0.40424776 0.88305737 0.4816772  0.53074165 0.0909946  0.43248332 0.67767681 0.71023722 0.69468162 0.3489428  0.25003218 0.61248456 0.17962725 0.89277589 0.52487959 0.3818728  0.08104144 0.11697935 0.70627386 0.32951829 0.44576921 0.68402304 0.08849261 0.74478876 0.41708565]\n",
            " [0.5940259  0.67805666 0.21528327 0.27938207 0.49559803 0.66028918 0.23199919 0.40862152 0.31195796 0.53734898 0.24680558 0.52326049 0.68661584 0.49887908 0.38695582 0.44561999 0.62145287 0.13751981 0.31206662 0.81722413 0.41217637 0.08514773 0.59088513 0.29493116 0.83867035 0.43720189 0.72888461 0.55248222 0.27989213 0.8110062  0.82030606 0.09696484 0.56628748 0.47062605 0.22003415 0.69186814 0.44513194 0.62778412 0.38129526 0.34517862 0.63916759 0.75310074 0.05707388 0.71176143 0.54341182 0.17110118 0.73096419 0.66967615 0.63417218 0.27753936 0.52866059 0.58411927 0.25127858 0.56949404 0.52789226 0.59749334 0.19182717 0.31147898 0.521727   0.45983894 0.48983424 0.58136211 0.34125713 0.57399213 0.76181154 0.15675027 0.13006642 0.57783068 0.60591367 0.21427676 0.33998938 0.48433348 0.33940428 0.25571318 0.         0.44710789 0.65718074 0.41829665 0.27787749 0.20821654 0.32611282 0.711917   0.54604824 0.721584   0.34020698 0.1256208  0.69265222 0.40142492 0.91968966 0.27237979 0.19707122 0.32628316 0.37221843 0.47915315 0.57941254 0.24226914 0.53479348 0.32050797 0.78159369 0.24336769]\n",
            " [0.44379328 0.78160498 0.24140509 0.68057655 0.47073463 0.21762702 0.65193808 0.25420485 0.47907647 0.24239134 0.21098048 0.69962378 0.55109855 0.55907758 0.65440876 0.44833453 0.26207761 0.50311421 0.54024789 0.37089258 0.84016602 0.3631961  0.59124629 0.52952098 0.42436563 0.09768248 0.30687803 0.13219777 0.41027014 0.37271154 0.37595842 0.53975895 0.30092026 0.03564574 0.25525916 0.27096751 0.10363509 0.25944149 0.14648668 0.45801298 0.19209483 0.52931026 0.43199339 0.28728275 0.47050363 0.38528549 0.32671515 0.28787723 0.40539412 0.36411862 0.66224411 0.29769235 0.58570966 0.45429902 0.40092637 0.30067853 0.50535245 0.50904211 0.09381655 0.40782243 0.28584696 0.23031219 0.66649697 0.23384926 0.38453951 0.50192611 0.56151532 0.63445605 0.42232984 0.36650976 0.1093043  0.08743105 0.17739779 0.40424776 0.44710789 0.         0.75291291 0.18373527 0.65664058 0.46932608 0.76035983 0.27735194 0.47997721 0.29236776 0.11570404 0.54533369 0.24649291 0.32523042 0.49249308 0.57637715 0.3570005  0.37638149 0.42436131 0.61269814 0.48341051 0.68670216 0.43509068 0.48112971 0.34643805 0.34453941]\n",
            " [0.38835475 0.02901225 0.62212452 0.88595891 1.09536549 0.91745947 0.82733952 0.49984571 0.35054378 0.58073782 0.72227269 0.15840283 1.24980461 0.19514135 0.31955414 1.05071856 0.66178516 0.79301989 0.96745689 0.96893441 0.93668824 0.66628522 0.18406888 0.95024889 0.85308843 0.8281675  0.81125895 0.87948273 0.90601105 0.91185854 0.95164141 0.70401693 1.03602946 0.74113319 0.7453527  1.00009838 0.83742907 0.67584194 0.82496948 0.97724136 0.86132918 1.26476751 0.60160395 0.80863251 0.31031882 0.7986955  0.77255378 1.03747169 0.48612914 0.88340054 0.1293113  0.5642898  0.44864543 0.35121501 1.08111726 1.04577862 0.47182565 0.962234   0.8420011  1.04208445 0.49524381 0.6458551  0.98685188 0.63170841 0.73455661 0.51001462 0.74511586 0.11997533 0.42948195 0.82906527 0.68806091 0.69999478 0.8116762  0.88305737 0.65718074 0.75291291 0.         0.57209615 0.49930289 0.86105902 0.85813151 0.83719037 0.30005307 0.82642881 0.66947015 0.75733247 0.91993784 0.95929735 0.94293014 0.41227986 0.50304259 0.92920897 0.98609744 0.17825105 1.15484676 0.68342231 0.34889496 0.96366023 0.88048822 0.47480692]\n",
            " [0.26994725 0.60096536 0.21212294 0.6894983  0.61344854 0.35645805 0.6479696  0.07247008 0.33264235 0.12057956 0.26105156 0.53172549 0.72214392 0.38023887 0.51228678 0.58129569 0.20470903 0.51815097 0.61222467 0.45682972 0.83047301 0.3499924  0.40758352 0.59800469 0.43023388 0.27091807 0.33133939 0.30739301 0.49581199 0.42699754 0.45018204 0.51492228 0.48101756 0.16906431 0.30772844 0.43207952 0.27912045 0.21249026 0.29158142 0.55828734 0.30718303 0.71083235 0.38155259 0.31786599 0.28733207 0.43040432 0.32193823 0.46537563 0.25552471 0.45423248 0.48872795 0.17307773 0.47516841 0.27457963 0.56251958 0.48366434 0.40281211 0.58792649 0.27005037 0.5514528  0.11203759 0.16519337 0.71194571 0.15650868 0.3443245  0.41256253 0.54741473 0.45282493 0.25611642 0.4307852  0.15832877 0.13119715 0.2993839  0.4816772  0.41829665 0.18373527 0.57209615 0.         0.55569445 0.519256   0.74415358 0.32988905 0.29665029 0.33172486 0.13997637 0.53856425 0.36865853 0.4638751  0.51738338 0.45602507 0.25770146 0.48305967 0.53922528 0.4418888  0.64396131 0.63253539 0.25284049 0.56882271 0.39455263 0.22489038]\n",
            " [0.6122604  0.51093452 0.41921422 0.407002   0.7717563  0.8735793  0.349437   0.51042471 0.26203253 0.65340287 0.49278672 0.34191034 0.96442253 0.41404806 0.17983133 0.72156738 0.75096479 0.37482473 0.55923428 1.00612885 0.43748074 0.34516551 0.51442639 0.54338788 0.98102732 0.67602814 0.88693141 0.78033943 0.55457911 0.98217781 1.00255983 0.26211847 0.8330578  0.66978261 0.48088751 0.92292789 0.6851082  0.76129765 0.63199283 0.61582362 0.83908423 1.0290068  0.25160495 0.87353768 0.53129405 0.44830453 0.87408082 0.91632541 0.68720857 0.55525702 0.37784109 0.68228864 0.08448918 0.57444444 0.80532446 0.86080197 0.15384128 0.56865201 0.74476432 0.73763684 0.57634519 0.71452761 0.52869801 0.70312168 0.88189653 0.15550092 0.29388006 0.46688532 0.64033865 0.49201658 0.54909567 0.66369537 0.59528975 0.53074165 0.27787749 0.65664058 0.49930289 0.55569445 0.         0.46853817 0.36084394 0.884006   0.52858308 0.88716014 0.54093664 0.31481354 0.89843563 0.67807277 1.07067447 0.11692867 0.30382369 0.60380453 0.64772096 0.34696258 0.85708608 0.18563727 0.54275455 0.58543901 0.9499552  0.33087924]\n",
            " [0.74700971 0.88295372 0.31318477 0.23363454 0.31521206 0.65079233 0.23009502 0.53649469 0.51170131 0.63763068 0.26754855 0.73087256 0.51613942 0.69333559 0.59442093 0.26575988 0.70247936 0.09831375 0.10720077 0.82620463 0.40329405 0.20222293 0.77919083 0.09012679 0.89269053 0.41603926 0.77573595 0.53291058 0.10705331 0.83934229 0.83643672 0.210935   0.46447583 0.50203005 0.21914243 0.65406223 0.42046145 0.70493236 0.34757042 0.15104013 0.64871854 0.6062286  0.26071432 0.75634525 0.7130324  0.08902469 0.79132343 0.60683785 0.76613506 0.13705821 0.7335798  0.69218207 0.45621275 0.73025653 0.37743143 0.50314315 0.40003292 0.10331017 0.51338981 0.29684028 0.61582475 0.66342869 0.19777627 0.66011528 0.83927829 0.3647264  0.19322427 0.77501402 0.75005559 0.10412156 0.38642562 0.53599309 0.30384716 0.0909946  0.20821654 0.46932608 0.86105902 0.519256   0.46853817 0.         0.34149698 0.74622152 0.71752763 0.76169169 0.39704407 0.16794857 0.69023056 0.27053533 0.9615978  0.47978727 0.37273812 0.17042807 0.1936565  0.68282834 0.40881451 0.36424222 0.69689231 0.11698364 0.81465602 0.41392944]\n",
            " [0.89732346 0.87099434 0.53989026 0.1193129  0.635146   0.96438026 0.11324512 0.73007538 0.56663038 0.86258052 0.55028166 0.70195362 0.83554566 0.74825003 0.53988875 0.58988142 0.94756439 0.26606853 0.36586174 1.13067346 0.08824053 0.40211717 0.84862545 0.35809452 1.16356387 0.73104005 1.05223832 0.84992244 0.44738423 1.13065409 1.13630855 0.22925836 0.80558748 0.7874144  0.51026928 0.98115258 0.73733877 0.95386727 0.66620005 0.47296305 0.95110314 0.93912173 0.36549819 1.03458974 0.83289444 0.39529742 1.05624375 0.94203712 0.94935246 0.47781903 0.73333414 0.90777752 0.41285068 0.86702803 0.71353559 0.84374602 0.41881658 0.39536177 0.82411159 0.6303723  0.81014514 0.90747488 0.25058988 0.90006197 1.08791044 0.38535001 0.19994877 0.81319029 0.9150615  0.43242643 0.65790795 0.80656432 0.62124693 0.43248332 0.32611282 0.76035983 0.85813151 0.74415358 0.36084394 0.34149698 0.         1.03244695 0.83321328 1.04354587 0.66085718 0.21503526 1.00033532 0.61200098 1.24297605 0.4509869  0.50685292 0.51118756 0.52478702 0.69627571 0.7323788  0.17523016 0.83245164 0.42924345 1.10228999 0.5521891 ]\n",
            " [0.45567343 0.86573508 0.4974142  0.95685445 0.69889834 0.16356851 0.92609258 0.38730764 0.65929608 0.26181649 0.48700004 0.83481665 0.71643736 0.66522653 0.83796034 0.6889534  0.17578503 0.77922372 0.81266707 0.13302714 1.11411694 0.6310707  0.6543496  0.80297671 0.15778028 0.34178794 0.05117967 0.2494381  0.68132069 0.09953551 0.12127072 0.80744631 0.46060163 0.24659256 0.53234561 0.24913493 0.34083796 0.16172563 0.40848129 0.72169026 0.11884231 0.64419155 0.68761527 0.03711172 0.52687321 0.66263656 0.10101259 0.33198345 0.36847147 0.63507616 0.78274378 0.27327561 0.80452861 0.4879674  0.60484292 0.4352335  0.73038881 0.77996821 0.24885418 0.63947104 0.35223827 0.19368402 0.94286956 0.20788779 0.17947856 0.73670806 0.83260672 0.71968581 0.41722129 0.64287172 0.37458152 0.22801627 0.44754727 0.67767681 0.711917   0.27735194 0.83719037 0.32988905 0.884006   0.74622152 1.03244695 0.         0.53713808 0.02438616 0.37205883 0.81804864 0.13123006 0.56958165 0.21541629 0.78591375 0.58192158 0.64010631 0.68106521 0.74333378 0.6816464  0.94432947 0.48839239 0.74961363 0.06984322 0.55340457]\n",
            " [0.09977796 0.32861521 0.41980122 0.81943615 0.88570089 0.62340551 0.76565046 0.2303333  0.27156315 0.28254026 0.50891916 0.32385284 1.01278105 0.14817597 0.39541728 0.84736758 0.36178352 0.6787245  0.82273556 0.66895682 0.92066944 0.51665834 0.11835298 0.80628463 0.56080981 0.56666547 0.51184218 0.59805666 0.72977495 0.61301236 0.65199508 0.6254476  0.77718924 0.46181293 0.54529851 0.70924116 0.57513119 0.3758334  0.57941155 0.7993731  0.56569778 1.00723091 0.4909536  0.50875302 0.01035405 0.63728555 0.47469529 0.75447436 0.19753839 0.69623673 0.26319782 0.26435231 0.44768155 0.05728857 0.848831   0.78029747 0.41630472 0.80730032 0.56228667 0.82633306 0.20182081 0.34631311 0.88500879 0.33223842 0.44318534 0.44802563 0.66650626 0.18364415 0.13962599 0.65467641 0.43954637 0.41475689 0.57773534 0.71023722 0.54604824 0.47997721 0.30005307 0.29665029 0.52858308 0.71752763 0.83321328 0.53713808 0.         0.52651688 0.41990293 0.66887589 0.62297121 0.73902354 0.65245596 0.41192061 0.35061651 0.73507665 0.79353195 0.23959724 0.92831976 0.67737413 0.04926176 0.79801641 0.58130943 0.30588025]\n",
            " [0.44261819 0.85483003 0.50654518 0.96992483 0.72081829 0.18793728 0.93806647 0.38599702 0.65826596 0.25563164 0.50047521 0.82839914 0.74045926 0.65734569 0.83621188 0.71007451 0.16483699 0.79230664 0.83004459 0.14260153 1.12586716 0.6416589  0.6430398  0.8200558  0.13658419 0.36074251 0.02697205 0.27164937 0.69892301 0.09544674 0.12629599 0.81755808 0.48420423 0.26037225 0.54646342 0.27331952 0.36020705 0.15083764 0.42669039 0.7406195  0.14210138 0.66857741 0.6956283  0.01791301 0.51631749 0.67731074 0.07779511 0.35636116 0.35319933 0.65264484 0.77529831 0.26216577 0.80689326 0.47613458 0.62764774 0.45921527 0.73386113 0.79768784 0.26933625 0.66106009 0.34617541 0.18712797 0.9587572  0.20112073 0.15583081 0.74140988 0.8436064  0.70966538 0.40349116 0.6587164  0.38632362 0.23729004 0.46487479 0.69468162 0.721584   0.29236776 0.82642881 0.33172486 0.88716014 0.76169169 1.04354587 0.02438616 0.52651688 0.         0.38269127 0.82959232 0.15537681 0.59012412 0.20064512 0.78725805 0.5863324  0.65890098 0.70078167 0.7370202  0.70481924 0.95201713 0.47812634 0.76780382 0.0628279  0.5562878 ]\n",
            " [0.40693805 0.69751476 0.12804596 0.5901537  0.4743844  0.33300432 0.55601701 0.19105272 0.37220442 0.24692703 0.13001223 0.60094831 0.59299952 0.47435309 0.54392054 0.44143677 0.30543563 0.41324446 0.48278736 0.47860454 0.74347703 0.25905666 0.52143157 0.46962412 0.50522707 0.16071194 0.39183762 0.24314579 0.36106226 0.47092042 0.48052872 0.43540957 0.36656552 0.13227318 0.17855095 0.38471513 0.17027805 0.3080801  0.15971316 0.4209105  0.30306831 0.59575241 0.31988655 0.37389284 0.4115925  0.30852219 0.3998632  0.39201475 0.3948404  0.31787764 0.56899258 0.303907   0.47038739 0.40677595 0.42921049 0.3775252  0.38981565 0.45604464 0.20593395 0.41281389 0.25135998 0.26646743 0.59392658 0.26364172 0.44290863 0.38628289 0.4609154  0.55435055 0.39557954 0.30133845 0.01964667 0.14594854 0.16069619 0.3489428  0.34020698 0.11570404 0.66947015 0.13997637 0.54093664 0.39704407 0.66085718 0.37205883 0.41990293 0.38269127 0.         0.44714245 0.36011007 0.32504778 0.58233903 0.4620293  0.24219481 0.34416769 0.39975268 0.51747824 0.5094095  0.57619879 0.38100388 0.43430331 0.44184908 0.23338933]\n",
            " [0.71931158 0.7759123  0.32946857 0.15381035 0.48313356 0.7502447  0.10969563 0.53301848 0.42322014 0.65860812 0.33533442 0.61362149 0.68376185 0.61188872 0.4630623  0.4335631  0.73946419 0.07008111 0.24592069 0.91566627 0.29633469 0.19016084 0.70713002 0.23077073 0.95143163 0.51809258 0.83894937 0.63672788 0.27060505 0.91599884 0.92128849 0.05480235 0.61056013 0.57259038 0.29625685 0.77027931 0.52475232 0.74496774 0.45471769 0.31874453 0.73611776 0.76989155 0.1781247  0.8210301  0.66666201 0.19103618 0.84476043 0.73608402 0.75955487 0.28875669 0.62802657 0.7069344  0.32102628 0.69410136 0.54046611 0.64644014 0.28572745 0.2594515  0.60998712 0.46220746 0.61443584 0.69929276 0.2295259  0.69274753 0.87988922 0.24747709 0.02531934 0.68764483 0.73152364 0.23330377 0.44347943 0.59306947 0.41001237 0.25003218 0.1256208  0.54533369 0.75733247 0.53856425 0.31481354 0.16794857 0.21503526 0.81804864 0.66887589 0.82959232 0.44714245 0.         0.78574126 0.42476701 1.02947684 0.35171537 0.32203517 0.33084902 0.36089022 0.58170339 0.57620736 0.19652832 0.65934009 0.28197755 0.88788391 0.36845924]\n",
            " [0.5527519  0.94888752 0.48746448 0.91349407 0.5964382  0.04294385 0.88978625 0.43724804 0.69895819 0.34048855 0.45077835 0.89782787 0.59374317 0.73710454 0.87832497 0.59315463 0.27780927 0.73802803 0.74295413 0.13785874 1.07741439 0.60814274 0.74130752 0.73541817 0.2748989  0.27421626 0.18233208 0.15916381 0.611901   0.17528731 0.15382618 0.78387966 0.34448663 0.22885519 0.49022546 0.11794919 0.26986941 0.26496222 0.34269215 0.64217867 0.0615214  0.51500355 0.67846615 0.1672941  0.61262632 0.61338968 0.23183981 0.20245012 0.47539268 0.5667433  0.85110427 0.36906144 0.82425087 0.57964826 0.495418   0.31457829 0.74547415 0.70829155 0.17739359 0.54040748 0.42481854 0.2801466  0.88175175 0.29351533 0.31048475 0.74505147 0.8033721  0.80032146 0.51761274 0.58627811 0.35563704 0.24083548 0.38652636 0.61248456 0.69265222 0.24649291 0.91993784 0.36865853 0.89843563 0.69023056 1.00033532 0.13123006 0.62297121 0.15537681 0.36011007 0.78574126 0.         0.480175   0.30476235 0.81125992 0.59542958 0.56283494 0.59628159 0.80695347 0.56812169 0.93301563 0.57373985 0.67502934 0.1664931  0.57585616]\n",
            " [0.73196647 0.98552198 0.33717329 0.50163497 0.14961774 0.43745342 0.50046073 0.51451528 0.62132512 0.55758031 0.23726509 0.86034405 0.29572674 0.76888781 0.7574766  0.12315088 0.58730573 0.35695655 0.28098943 0.61731387 0.67089984 0.33615103 0.83172221 0.27849105 0.7267081  0.23406867 0.61057641 0.32417083 0.16543001 0.64891757 0.63384477 0.45297995 0.19615574 0.36040833 0.21736286 0.41503566 0.23245196 0.58442393 0.18003442 0.1682385  0.45523321 0.35180029 0.42931466 0.59037705 0.73142979 0.23839634 0.64062004 0.35240362 0.71511877 0.13628678 0.84370846 0.61493437 0.63867308 0.73053383 0.12875126 0.2363848  0.56346824 0.24462462 0.32080905 0.0878007  0.57584824 0.55494053 0.42934298 0.55746884 0.70540483 0.53852012 0.44930204 0.85245262 0.71999148 0.19366831 0.30598004 0.41170032 0.16451794 0.17962725 0.40142492 0.32523042 0.95929735 0.4638751  0.67807277 0.27053533 0.61200098 0.56958165 0.73902354 0.59012412 0.32504778 0.42476701 0.480175   0.         0.77827469 0.64941489 0.46385907 0.10210134 0.11740152 0.79024105 0.19572233 0.6171776  0.70324483 0.20783919 0.63096057 0.48543999]\n",
            " [0.55635991 0.96977835 0.7044065  1.17051005 0.90035863 0.34716039 1.13820185 0.56109793 0.82915448 0.41959618 0.70111979 0.9718942  0.89224558 0.7957842  1.00225892 0.89481157 0.32088195 0.99290625 1.02745091 0.18428804 1.32580917 0.84087416 0.76022999 1.01799345 0.09273143 0.55525914 0.19082371 0.45426005 0.89595784 0.13003707 0.1579734  1.01609202 0.64869878 0.4609418  0.74703071 0.40699446 0.55362115 0.30980029 0.62276207 0.93437585 0.32319327 0.80032446 0.89135126 0.2084468  0.64309721 0.87770461 0.19662898 0.49532932 0.45744919 0.84977165 0.91384333 0.40333754 0.98837376 0.59644616 0.80017826 0.61710693 0.91911444 0.99443312 0.45992668 0.84320378 0.50480041 0.35620681 1.1582849  0.36794143 0.20929676 0.92994037 1.04304089 0.83373099 0.51504836 0.85828696 0.58661784 0.4364555  0.6625572  0.89277589 0.91968966 0.49249308 0.94293014 0.51738338 1.07067447 0.9615978  1.24297605 0.21541629 0.65245596 0.20064512 0.58233903 1.02947684 0.30476235 0.77827469 0.         0.96550787 0.7750404  0.85315809 0.89198608 0.8825272  0.87241498 1.14663106 0.60839953 0.96351462 0.14832116 0.74125526]\n",
            " [0.4954254  0.42835873 0.35112568 0.47381829 0.7606635  0.7898291  0.41515547 0.40451165 0.14577929 0.54628925 0.43870542 0.26275333 0.94339458 0.30258172 0.11463937 0.71149934 0.64473493 0.39746563 0.58088279 0.91160999 0.53361506 0.31506998 0.40357176 0.5640022  0.87475921 0.60936025 0.78512101 0.70505658 0.5491205  0.88267353 0.90600893 0.29712996 0.78458083 0.58499071 0.43788911 0.8467137  0.61883323 0.65571631 0.57426049 0.616445   0.75065209 0.99366125 0.22647287 0.77282848 0.41448957 0.43828146 0.7690145  0.849359   0.57158096 0.54003315 0.284562   0.5716489  0.03849486 0.45751633 0.77816509 0.80814184 0.08599596 0.58306119 0.6679617  0.71875901 0.46581968 0.60965234 0.57964322 0.59761692 0.77241865 0.11598287 0.33675766 0.36262717 0.5239193  0.47802041 0.4731557  0.572199   0.54269052 0.52487959 0.27237979 0.57637715 0.41227986 0.45602507 0.11692867 0.47978727 0.4509869  0.78591375 0.41192061 0.78725805 0.4620293  0.35171537 0.81125992 0.64941489 0.96550787 0.         0.21993412 0.58912782 0.63949355 0.24532655 0.83838743 0.2800085  0.4258866  0.59288049 0.85004111 0.23552645]\n",
            " [0.39733009 0.5277172  0.13661705 0.47512562 0.59398236 0.57204327 0.42466301 0.22694694 0.15756008 0.36681976 0.23347312 0.39650043 0.75894316 0.32345866 0.30869834 0.54838237 0.46014662 0.32810874 0.47964664 0.70251211 0.59497051 0.17065338 0.4065045  0.46272547 0.68777617 0.39111714 0.58790363 0.48513398 0.40425303 0.680745   0.69951134 0.2840299  0.57549121 0.36740122 0.24663004 0.62690941 0.40068387 0.4689998  0.36131076 0.47562488 0.53566182 0.79338259 0.14487742 0.57347095 0.34745266 0.30008977 0.579575   0.63025211 0.44266796 0.38036177 0.38210433 0.40608276 0.22911436 0.37243646 0.59017682 0.59581389 0.15020387 0.46865711 0.44811607 0.54307138 0.30479225 0.42160731 0.53439264 0.41163483 0.59716306 0.15516312 0.32297946 0.40669156 0.41081584 0.32706588 0.25325547 0.35989983 0.33465164 0.3818728  0.19707122 0.3570005  0.50304259 0.25770146 0.30382369 0.37273812 0.50685292 0.58192158 0.35061651 0.5863324  0.24219481 0.32203517 0.59542958 0.46385907 0.7750404  0.21993412 0.         0.42632668 0.48305915 0.32880373 0.65908904 0.37844716 0.33775511 0.46544387 0.64891776 0.04646094]\n",
            " [0.74183709 0.95403698 0.31684218 0.39979081 0.1716449  0.52093566 0.40043953 0.52210473 0.58214824 0.58941332 0.22776502 0.81758858 0.36088424 0.74505873 0.7011153  0.1232981  0.6337293  0.26147885 0.18316506 0.70069366 0.56890781 0.27513148 0.81740848 0.17875188 0.79468258 0.29831839 0.67708429 0.40392826 0.06381372 0.72555704 0.714975   0.36433077 0.29820089 0.41191667 0.1900797  0.50830207 0.29956335 0.63291713 0.23273791 0.08187646 0.53095591 0.43908754 0.36329762 0.65695907 0.72853321 0.15552913 0.70183569 0.45087937 0.73856335 0.04914837 0.80797634 0.64686749 0.5736213  0.73452246 0.20966935 0.33820829 0.50365265 0.1472485  0.39340955 0.13438905 0.59226234 0.59807993 0.3296702  0.59832268 0.76083235 0.47448819 0.35590445 0.82904421 0.73543553 0.11214643 0.32744028 0.45759413 0.19937718 0.08104144 0.32628316 0.37638149 0.92920897 0.48305967 0.60380453 0.17042807 0.51118756 0.64010631 0.73507665 0.65890098 0.34416769 0.33084902 0.56283494 0.10210134 0.85315809 0.58912782 0.42632668 0.         0.05849029 0.75484734 0.25331484 0.52615396 0.70444498 0.1124278  0.70487186 0.45605517]\n",
            " [0.79953763 1.01070549 0.37529462 0.40891825 0.12423267 0.55372591 0.41776374 0.57976643 0.63811932 0.64356672 0.28583305 0.8723609  0.32294019 0.80281957 0.75243703 0.0739774  0.6842645  0.29082437 0.17172934 0.73375038 0.57512544 0.32781488 0.87575019 0.172928   0.83716654 0.3406352  0.72009715 0.43897424 0.093278   0.76320191 0.74967322 0.39984479 0.30512354 0.46000702 0.24856646 0.53229917 0.34063995 0.68281324 0.2784358  0.05508835 0.56882698 0.41494926 0.41304069 0.6998993  0.78696395 0.20168605 0.74724541 0.46771011 0.79455147 0.10282299 0.86412783 0.7011248  0.62219428 0.79266149 0.18910321 0.34646348 0.55461557 0.13613445 0.43252277 0.1055856  0.64906259 0.64947977 0.32056527 0.65034586 0.80861539 0.52406034 0.38620931 0.88677842 0.79254525 0.16184209 0.38250911 0.50770711 0.24960855 0.11697935 0.37221843 0.42436131 0.98609744 0.53922528 0.64772096 0.1936565  0.52478702 0.68106521 0.79353195 0.70078167 0.39975268 0.36089022 0.59628159 0.11740152 0.89198608 0.63949355 0.48305915 0.05849029 0.         0.8111296  0.2153176  0.55741728 0.76271879 0.09899763 0.74409896 0.51369828]\n",
            " [0.33915412 0.20063013 0.45425484 0.71479284 0.92275218 0.797784   0.65651004 0.37066522 0.17335984 0.48163361 0.55480416 0.09150678 1.08354307 0.09183936 0.17810728 0.87714854 0.57470893 0.61537168 0.78920593 0.87625765 0.7783356  0.48891761 0.1777473  0.77199792 0.78994522 0.67817017 0.72661567 0.74359153 0.72944869 0.82894395 0.86313984 0.52910202 0.88110278 0.60672884 0.57412805 0.87356671 0.68771096 0.58819033 0.66678115 0.80052353 0.74606882 1.10700672 0.42341476 0.71998672 0.2471427  0.62137428 0.69595234 0.90054905 0.43504977 0.70831117 0.05346876 0.48182932 0.28343516 0.29650681 0.91449096 0.89463678 0.2960381  0.78412801 0.70526241 0.87116592 0.39111273 0.55005476 0.81111471 0.53596976 0.67463277 0.33428464 0.57063008 0.12011766 0.3779198  0.65275104 0.53487121 0.57308396 0.64902502 0.70627386 0.47915315 0.61269814 0.17825105 0.4418888  0.34696258 0.68282834 0.69627571 0.74333378 0.23959724 0.7370202  0.51747824 0.58170339 0.80695347 0.79024105 0.8825272  0.24532655 0.32880373 0.75484734 0.8111296  0.         0.9859357  0.52423368 0.27688421 0.78602646 0.79621342 0.30507659]\n",
            " [0.9139037  1.18115342 0.53277134 0.61408691 0.09733763 0.52649902 0.62901067 0.70046219 0.81663502 0.72516053 0.43259831 1.05541897 0.107932   0.96389354 0.948522   0.14377096 0.73799227 0.50613884 0.36767757 0.69473419 0.77464381 0.52333311 1.02444316 0.37435267 0.83788245 0.38574635 0.72886937 0.43517003 0.30699721 0.74339073 0.7170643  0.61440392 0.22371744 0.51555593 0.41246028 0.47109917 0.3803458  0.7325236  0.35238071 0.26140767 0.56281512 0.21265975 0.61426914 0.70938534 0.92030911 0.40884363 0.76745153 0.38683149 0.88712137 0.30187368 1.03940413 0.78102418 0.82486733 0.91598456 0.08249038 0.25712157 0.75245893 0.33701712 0.44753126 0.1198688  0.75549711 0.71069225 0.5068867  0.71576411 0.83977174 0.72510519 0.60152633 1.04727295 0.89825553 0.36513599 0.48981922 0.57026715 0.35066735 0.32951829 0.57941254 0.48341051 1.15484676 0.64396131 0.85708608 0.40881451 0.7323788  0.6816464  0.92831976 0.70481924 0.5094095  0.57620736 0.56812169 0.19572233 0.87241498 0.83838743 0.65908904 0.25331484 0.2153176  0.9859357  0.         0.77273479 0.89038078 0.30386785 0.73275492 0.681162  ]\n",
            " [0.74957442 0.6959287  0.4483704  0.23401446 0.67943102 0.90159954 0.18143323 0.60517989 0.40640105 0.74503267 0.48906054 0.52686422 0.88026585 0.58127504 0.36474845 0.62998633 0.83686564 0.26660417 0.43210916 1.05480249 0.25419917 0.32738656 0.68222312 0.41876312 1.06184736 0.67937202 0.95684029 0.79470361 0.46684998 1.0438509  1.05628457 0.16491091 0.79688677 0.70818058 0.46023863 0.93408205 0.68721896 0.84501052 0.62224088 0.51454953 0.87822032 0.96512918 0.25683126 0.94084143 0.67817381 0.37934244 0.95342321 0.90992828 0.81127783 0.48238014 0.5595322  0.78418805 0.24152509 0.7160605  0.73578033 0.8307101  0.26188477 0.45088193 0.7636271  0.658414   0.68140309 0.79766712 0.36688756 0.78840653 0.97504112 0.23445786 0.17121016 0.64248906 0.77156237 0.42366713 0.57817631 0.71647326 0.57940386 0.44576921 0.24226914 0.68670216 0.68342231 0.63253539 0.18563727 0.36424222 0.17523016 0.94432947 0.67737413 0.95201713 0.57619879 0.19652832 0.93301563 0.6171776  1.14663106 0.2800085  0.37844716 0.52615396 0.55741728 0.52423368 0.77273479 0.         0.68218446 0.47637035 1.01338445 0.41974344]\n",
            " [0.06963873 0.37754399 0.39233786 0.81164488 0.85106816 0.57442517 0.75941609 0.19000384 0.2813943  0.23328903 0.47702361 0.36432396 0.97267555 0.18776612 0.42176725 0.81413487 0.31330459 0.66420326 0.80071414 0.62044279 0.92042957 0.49835944 0.16761062 0.78456526 0.51629237 0.52369705 0.46392788 0.55106232 0.70268492 0.56541906 0.60383589 0.61856018 0.73384969 0.41565641 0.51572007 0.66061209 0.53195132 0.32733194 0.53969138 0.77131915 0.51657411 0.96356989 0.48133994 0.46040941 0.03890813 0.61426876 0.42780937 0.70696435 0.15866822 0.66735333 0.30546592 0.2160828  0.45988546 0.03480973 0.81015625 0.7357409  0.42032222 0.78351485 0.51569634 0.79088093 0.15373936 0.29715886 0.87022228 0.2830639  0.39947022 0.44941544 0.65881869 0.23154894 0.10299418 0.62882447 0.4006202  0.36755036 0.54048645 0.68402304 0.53479348 0.43509068 0.34889496 0.25284049 0.54275455 0.69689231 0.83245164 0.48839239 0.04926176 0.47812634 0.38100388 0.65934009 0.57373985 0.70324483 0.60839953 0.4258866  0.33775511 0.70444498 0.76271879 0.27688421 0.89038078 0.68218446 0.         0.77229603 0.53352442 0.2916593 ]\n",
            " [0.81618082 0.98665419 0.38008393 0.31196723 0.20719354 0.63323261 0.32520913 0.59873619 0.61311723 0.68119545 0.3077763  0.83908737 0.40898803 0.78889235 0.70742261 0.16069569 0.73322201 0.21386673 0.0735125  0.812881   0.47681094 0.29748529 0.86955911 0.07396654 0.90293465 0.40825582 0.78515705 0.5160035  0.07324167 0.83653699 0.82685327 0.32744525 0.40150849 0.5162483  0.26199545 0.62000816 0.41010203 0.73346915 0.34115898 0.04439515 0.64209352 0.51007774 0.36954705 0.76512919 0.79249583 0.1654835  0.80778838 0.56013724 0.82301586 0.11780615 0.83784861 0.73797137 0.57088422 0.80422984 0.28718936 0.4425369  0.51113004 0.03733615 0.50438535 0.20315848 0.67383685 0.69619304 0.22254372 0.69520109 0.86395881 0.47710635 0.30690823 0.87194689 0.81414123 0.14348577 0.41961273 0.55883116 0.30404937 0.08849261 0.32050797 0.48112971 0.96366023 0.56882271 0.58543901 0.11698364 0.42924345 0.74961363 0.79801641 0.76780382 0.43430331 0.28197755 0.67502934 0.20783919 0.96351462 0.59288049 0.46544387 0.1124278  0.09899763 0.78602646 0.30386785 0.47637035 0.77229603 0.         0.81519484 0.50240753]\n",
            " [0.49404116 0.90864982 0.56693177 1.02643049 0.75586619 0.20659813 0.99589012 0.44835365 0.72058227 0.31588207 0.55653548 0.88743391 0.76022883 0.71513771 0.89822535 0.74855486 0.22179164 0.84881428 0.8792714  0.09709623 1.18393276 0.7008807  0.69658982 0.86992992 0.10931127 0.40693905 0.06977389 0.30756749 0.74774194 0.03302103 0.07323023 0.87720774 0.50960889 0.31618535 0.60163055 0.27965561 0.40531967 0.20813039 0.474504   0.78614125 0.17577943 0.6786484  0.75678178 0.07769876 0.57122559 0.73160282 0.11125611 0.36704036 0.40108142 0.70157928 0.83340636 0.31764879 0.86972101 0.52936176 0.65822346 0.48081294 0.79661827 0.84616796 0.31176878 0.69771751 0.40617284 0.24755931 1.01091657 0.26130113 0.17680103 0.80394664 0.9024471  0.76489177 0.45395489 0.71107407 0.44442194 0.29745406 0.51455844 0.74478876 0.78159369 0.34643805 0.88048822 0.39455263 0.9499552  0.81465602 1.10228999 0.06984322 0.58130943 0.0628279  0.44184908 0.88788391 0.1664931  0.63096057 0.14832116 0.85004111 0.64891776 0.70487186 0.74409896 0.79621342 0.73275492 1.01338445 0.53352442 0.81519484 0.         0.61908958]\n",
            " [0.35087772 0.50054806 0.14926768 0.52158611 0.62066229 0.55521263 0.47104302 0.1861728  0.14224433 0.32820714 0.24976927 0.37961367 0.77847854 0.28916938 0.31056154 0.57651188 0.42356277 0.37322207 0.52031394 0.67717009 0.64037472 0.21188095 0.36722321 0.50355245 0.65270202 0.38973318 0.55622096 0.47546939 0.43870262 0.6513532  0.67255502 0.33033623 0.58314268 0.35063046 0.27054591 0.61549863 0.39939903 0.43310937 0.36775678 0.50993498 0.51515765 0.80550347 0.19130552 0.54267591 0.30235945 0.33792057 0.54498767 0.62529896 0.39716505 0.41170871 0.35850773 0.36468011 0.25131324 0.32628528 0.60942372 0.60057499 0.17798937 0.50766132 0.43760939 0.56738529 0.26174334 0.38589909 0.57949154 0.37520704 0.5587044  0.19048211 0.36941431 0.37309467 0.36451686 0.36164073 0.24729434 0.33672151 0.34600205 0.41708565 0.24336769 0.34453941 0.47480692 0.22489038 0.33087924 0.41392944 0.5521891  0.55340457 0.30588025 0.5562878  0.23338933 0.36845924 0.57585616 0.48543999 0.74125526 0.23552645 0.04646094 0.45605517 0.51369828 0.30507659 0.681162   0.41974344 0.2916593  0.50240753 0.61908958 0.        ]]\n"
          ]
        }
      ],
      "source": [
        "arr = np.random.random((100,2))\n",
        "X,Y = np.atleast_2d(arr[:,0],arr[:,1])\n",
        "D = np.sqrt( (X-X.T)**2 + (Y-Y.T)**2)\n",
        "print(D)"
      ]
    },
    {
      "cell_type": "markdown",
      "metadata": {
        "id": "O6Vi-eZEZg3E"
      },
      "source": [
        "#### 53. How to convert a float (32 bits) array into an integer (32 bits) in place? \n",
        "(**hint**: astype(copy=False))"
      ]
    },
    {
      "cell_type": "code",
      "execution_count": 271,
      "metadata": {
        "id": "epUL_JWNZg3E",
        "colab": {
          "base_uri": "https://localhost:8080/"
        },
        "outputId": "05f3bf34-0dc7-48e5-9119-9d7e351cb2e2"
      },
      "outputs": [
        {
          "output_type": "stream",
          "name": "stdout",
          "text": [
            "[2. 1. 2. 3. 4. 5. 6. 7. 8. 9.]\n"
          ]
        }
      ],
      "source": [
        "Z = np.arange(10, dtype=np.float32)\n",
        "Z_1 = Z.astype(np.float32, copy=False)\n",
        "Z_1[0] = 2\n",
        "print(Z)"
      ]
    },
    {
      "cell_type": "markdown",
      "metadata": {
        "id": "bEWofqYKZg3E"
      },
      "source": [
        "#### 54. How to read the following file? (★★☆) \n",
        "(**hint**: np.genfromtxt)"
      ]
    },
    {
      "cell_type": "markdown",
      "metadata": {
        "id": "CQHj7kVrZg3E"
      },
      "source": [
        "```\n",
        "1, 2, 3, 4, 5\n",
        "6,  ,  , 7, 8\n",
        " ,  , 9,10,11\n",
        "```"
      ]
    },
    {
      "cell_type": "code",
      "execution_count": 272,
      "metadata": {
        "id": "KlvsXsxuZg3E",
        "colab": {
          "base_uri": "https://localhost:8080/"
        },
        "outputId": "0cd7086f-381c-4d59-d665-bb935930badf"
      },
      "outputs": [
        {
          "output_type": "stream",
          "name": "stdout",
          "text": [
            "[[ 1  2  3  4  5]\n",
            " [ 6 -1 -1  7  8]\n",
            " [-1 -1  9 10 11]]\n"
          ]
        }
      ],
      "source": [
        "from io import StringIO\n",
        "s = StringIO(\"\"\"1, 2, 3, 4, 5\\n\n",
        "                6,  ,  , 7, 8\\n\n",
        "                 ,  , 9,10,11\\n\"\"\")\n",
        "Z = np.genfromtxt(s, delimiter=\",\", dtype=int)\n",
        "print(Z)"
      ]
    },
    {
      "cell_type": "markdown",
      "metadata": {
        "id": "NLqANQ8YZg3E"
      },
      "source": [
        "#### 55. What is the equivalent of enumerate for numpy arrays? (★★☆) \n",
        "(**hint**: np.ndenumerate, np.ndindex)"
      ]
    },
    {
      "cell_type": "code",
      "execution_count": 273,
      "metadata": {
        "id": "dxqEK_SXZg3F",
        "colab": {
          "base_uri": "https://localhost:8080/"
        },
        "outputId": "582e1acd-bf5c-44eb-eac5-f4189ba816c3"
      },
      "outputs": [
        {
          "output_type": "stream",
          "name": "stdout",
          "text": [
            "(0, 0) 0\n",
            "(0, 1) 1\n",
            "(0, 2) 2\n",
            "(1, 0) 3\n",
            "(1, 1) 4\n",
            "(1, 2) 5\n",
            "(2, 0) 6\n",
            "(2, 1) 7\n",
            "(2, 2) 8\n",
            "(0, 0) 0\n",
            "(0, 1) 1\n",
            "(0, 2) 2\n",
            "(1, 0) 3\n",
            "(1, 1) 4\n",
            "(1, 2) 5\n",
            "(2, 0) 6\n",
            "(2, 1) 7\n",
            "(2, 2) 8\n"
          ]
        }
      ],
      "source": [
        "Z = np.arange(9).reshape(3,3)\n",
        "for index, value in np.ndenumerate(Z):\n",
        "    print(index, value)\n",
        "for index in np.ndindex(Z.shape):\n",
        "    print(index, Z[index])"
      ]
    },
    {
      "cell_type": "markdown",
      "metadata": {
        "id": "1Pekbr3TZg3F"
      },
      "source": [
        "#### 56. Generate a generic 2D Gaussian-like array (★★☆) \n",
        "(**hint**: np.meshgrid, np.exp)"
      ]
    },
    {
      "cell_type": "code",
      "execution_count": 274,
      "metadata": {
        "id": "-GN3w7akZg3F",
        "colab": {
          "base_uri": "https://localhost:8080/"
        },
        "outputId": "b9750b7d-1948-4116-c4df-af709a500f34"
      },
      "outputs": [
        {
          "output_type": "stream",
          "name": "stdout",
          "text": [
            "[[0.36787944 0.44822088 0.51979489 0.57375342 0.60279818 0.60279818 0.57375342 0.51979489 0.44822088 0.36787944]\n",
            " [0.44822088 0.54610814 0.63331324 0.69905581 0.73444367 0.73444367 0.69905581 0.63331324 0.54610814 0.44822088]\n",
            " [0.51979489 0.63331324 0.73444367 0.81068432 0.85172308 0.85172308 0.81068432 0.73444367 0.63331324 0.51979489]\n",
            " [0.57375342 0.69905581 0.81068432 0.89483932 0.9401382  0.9401382  0.89483932 0.81068432 0.69905581 0.57375342]\n",
            " [0.60279818 0.73444367 0.85172308 0.9401382  0.98773022 0.98773022 0.9401382  0.85172308 0.73444367 0.60279818]\n",
            " [0.60279818 0.73444367 0.85172308 0.9401382  0.98773022 0.98773022 0.9401382  0.85172308 0.73444367 0.60279818]\n",
            " [0.57375342 0.69905581 0.81068432 0.89483932 0.9401382  0.9401382  0.89483932 0.81068432 0.69905581 0.57375342]\n",
            " [0.51979489 0.63331324 0.73444367 0.81068432 0.85172308 0.85172308 0.81068432 0.73444367 0.63331324 0.51979489]\n",
            " [0.44822088 0.54610814 0.63331324 0.69905581 0.73444367 0.73444367 0.69905581 0.63331324 0.54610814 0.44822088]\n",
            " [0.36787944 0.44822088 0.51979489 0.57375342 0.60279818 0.60279818 0.57375342 0.51979489 0.44822088 0.36787944]]\n"
          ]
        }
      ],
      "source": [
        "sigma,myu = 1.0,0.0\n",
        "\n",
        "X,Y  = np.meshgrid(np.linspace(-1,1,10),np.linspace(-1,1,10))\n",
        "D = np.sqrt(X**2+Y**2)\n",
        "G = np.exp(-(D-myu)**2/(2*sigma**2))\n",
        "print(G)"
      ]
    },
    {
      "cell_type": "markdown",
      "metadata": {
        "id": "3fI_GByaZg3F"
      },
      "source": [
        "#### 57. How to randomly place p elements in a 2D array? (★★☆) \n",
        "(**hint**: np.put, np.random.choice)"
      ]
    },
    {
      "cell_type": "code",
      "execution_count": 275,
      "metadata": {
        "id": "JfCMBctNZg3F",
        "colab": {
          "base_uri": "https://localhost:8080/"
        },
        "outputId": "85b0d5c9-d544-4cc1-c860-7892003860e0"
      },
      "outputs": [
        {
          "output_type": "stream",
          "name": "stdout",
          "text": [
            "[[0. 0. 0. 0. 0. 0. 0. 0. 0. 0.]\n",
            " [0. 1. 1. 0. 0. 0. 0. 0. 0. 0.]\n",
            " [0. 0. 0. 0. 0. 0. 0. 0. 0. 0.]\n",
            " [0. 0. 0. 0. 0. 0. 0. 0. 0. 0.]\n",
            " [0. 0. 0. 0. 0. 0. 0. 0. 0. 0.]\n",
            " [0. 0. 1. 0. 0. 0. 0. 0. 0. 0.]\n",
            " [0. 0. 0. 0. 0. 0. 0. 0. 0. 0.]\n",
            " [0. 0. 0. 0. 0. 0. 0. 0. 0. 0.]\n",
            " [0. 0. 0. 0. 0. 0. 0. 0. 0. 0.]\n",
            " [0. 0. 0. 0. 0. 0. 0. 0. 0. 0.]]\n"
          ]
        }
      ],
      "source": [
        "n = 10\n",
        "p = 3\n",
        "Z = np.zeros((n,n))\n",
        "np.put(Z, np.random.choice(range(n*n), p, replace=False),1)\n",
        "print(Z)"
      ]
    },
    {
      "cell_type": "markdown",
      "metadata": {
        "id": "2_sqCekCZg3F"
      },
      "source": [
        "#### 58. Subtract the mean of each row of a matrix (★★☆) \n",
        "(**hint**: mean(axis=,keepdims=))"
      ]
    },
    {
      "cell_type": "code",
      "execution_count": 276,
      "metadata": {
        "id": "2mf5NUceZg3F",
        "colab": {
          "base_uri": "https://localhost:8080/"
        },
        "outputId": "90567ef7-cee1-4707-d88d-11b68966d503"
      },
      "outputs": [
        {
          "output_type": "execute_result",
          "data": {
            "text/plain": [
              "array([[ True],\n",
              "       [ True],\n",
              "       [ True],\n",
              "       [ True],\n",
              "       [ True]])"
            ]
          },
          "metadata": {},
          "execution_count": 276
        }
      ],
      "source": [
        "X = np.random.rand(5, 10)\n",
        "Y = X - X.mean(axis = 1,keepdims = True)\n",
        "X.mean(axis = 1).reshape(-1,1) == X.mean(axis = 1,keepdims =True)"
      ]
    },
    {
      "cell_type": "markdown",
      "metadata": {
        "id": "_WXNBjnNZg3F"
      },
      "source": [
        "#### 59. How to sort an array by the nth column? (★★☆) \n",
        "(**hint**: argsort)"
      ]
    },
    {
      "cell_type": "code",
      "execution_count": 277,
      "metadata": {
        "id": "gBC2yEDmZg3G",
        "colab": {
          "base_uri": "https://localhost:8080/"
        },
        "outputId": "d43756bc-53b8-4e4b-c34f-dda803d2ef38"
      },
      "outputs": [
        {
          "output_type": "stream",
          "name": "stdout",
          "text": [
            "[[4 0 0 5 2]\n",
            " [4 3 3 3 0]\n",
            " [2 5 5 1 3]\n",
            " [6 5 7 5 5]\n",
            " [7 6 2 6 3]]\n"
          ]
        }
      ],
      "source": [
        "Z = np.random.randint(0,10,(5,5))\n",
        "print(Z)"
      ]
    },
    {
      "cell_type": "code",
      "source": [
        "print(Z[(-Z)[:,1].argsort()])"
      ],
      "metadata": {
        "colab": {
          "base_uri": "https://localhost:8080/"
        },
        "id": "i7FanBRlA-Dd",
        "outputId": "96f144a2-ef2d-4afc-d393-122c373c12cf"
      },
      "execution_count": 278,
      "outputs": [
        {
          "output_type": "stream",
          "name": "stdout",
          "text": [
            "[[7 6 2 6 3]\n",
            " [2 5 5 1 3]\n",
            " [6 5 7 5 5]\n",
            " [4 3 3 3 0]\n",
            " [4 0 0 5 2]]\n"
          ]
        }
      ]
    },
    {
      "cell_type": "markdown",
      "metadata": {
        "id": "B9tcxXmnZg3G"
      },
      "source": [
        "#### 60. How to tell if a given 2D array has null columns? (★★☆) \n",
        "(**hint**: any, ~)"
      ]
    },
    {
      "cell_type": "code",
      "execution_count": 279,
      "metadata": {
        "id": "D_Z6LOgDZg3G",
        "colab": {
          "base_uri": "https://localhost:8080/"
        },
        "outputId": "a8e079d0-aec0-47cb-9a64-947a2b1235ae"
      },
      "outputs": [
        {
          "output_type": "stream",
          "name": "stdout",
          "text": [
            "[[1 0 1 0 0 1 1 1 2 2]\n",
            " [2 0 1 2 1 1 2 0 2 1]\n",
            " [0 0 2 1 0 2 1 1 1 1]]\n"
          ]
        }
      ],
      "source": [
        "Z = np.random.randint(0,3,(3,10))\n",
        "Z[:,1] = 0\n",
        "print(Z)"
      ]
    },
    {
      "cell_type": "code",
      "source": [
        "Z = Z.astype(bool)\n",
        "print(Z)"
      ],
      "metadata": {
        "colab": {
          "base_uri": "https://localhost:8080/"
        },
        "id": "ZAe1HbbSBqWD",
        "outputId": "66096efd-cda0-4111-dfd2-47e7cafcabf1"
      },
      "execution_count": 280,
      "outputs": [
        {
          "output_type": "stream",
          "name": "stdout",
          "text": [
            "[[ True False  True False False  True  True  True  True  True]\n",
            " [ True False  True  True  True  True  True False  True  True]\n",
            " [False False  True  True False  True  True  True  True  True]]\n"
          ]
        }
      ]
    },
    {
      "cell_type": "code",
      "source": [
        "print(~Z)"
      ],
      "metadata": {
        "colab": {
          "base_uri": "https://localhost:8080/"
        },
        "id": "xQVFvajLBb6P",
        "outputId": "8aa3b865-9985-46be-fd4a-b4124a958ed2"
      },
      "execution_count": 281,
      "outputs": [
        {
          "output_type": "stream",
          "name": "stdout",
          "text": [
            "[[False  True False  True  True False False False False False]\n",
            " [False  True False False False False False  True False False]\n",
            " [ True  True False False  True False False False False False]]\n"
          ]
        }
      ]
    },
    {
      "cell_type": "code",
      "source": [
        "print((Z).any(axis = 0))"
      ],
      "metadata": {
        "colab": {
          "base_uri": "https://localhost:8080/"
        },
        "id": "nes6wT5vBw89",
        "outputId": "e62b4dc4-cf20-4236-a74f-361979e9a309"
      },
      "execution_count": 282,
      "outputs": [
        {
          "output_type": "stream",
          "name": "stdout",
          "text": [
            "[ True False  True  True  True  True  True  True  True  True]\n"
          ]
        }
      ]
    },
    {
      "cell_type": "markdown",
      "metadata": {
        "id": "QiUJxLgAZg3G"
      },
      "source": [
        "#### 61. Find the nearest value from a given value in an array (★★☆) \n",
        "(**hint**: np.abs, argmin, flat)"
      ]
    },
    {
      "cell_type": "code",
      "execution_count": 283,
      "metadata": {
        "id": "dfonwb1RZg3G",
        "colab": {
          "base_uri": "https://localhost:8080/"
        },
        "outputId": "a5cce63d-880e-4ccf-efe5-0063babf3028"
      },
      "outputs": [
        {
          "output_type": "stream",
          "name": "stdout",
          "text": [
            "5.022172736522722\n"
          ]
        }
      ],
      "source": [
        "x = np.random.uniform(1, 12, 5)\n",
        "v = 4\n",
        "n = x.flat[np.abs(x - v).argmin()]\n",
        "print(n)"
      ]
    },
    {
      "cell_type": "markdown",
      "metadata": {
        "id": "XN81C9crZg3G"
      },
      "source": [
        "#### 62. Considering two arrays with shape (1,3) and (3,1), how to compute their sum using an iterator? (★★☆) \n",
        "(**hint**: np.nditer)"
      ]
    },
    {
      "cell_type": "code",
      "execution_count": 284,
      "metadata": {
        "id": "xknvfFqEZg3G",
        "colab": {
          "base_uri": "https://localhost:8080/"
        },
        "outputId": "6c48c47d-c549-4563-90c9-d9c49c5fd6a7"
      },
      "outputs": [
        {
          "output_type": "stream",
          "name": "stdout",
          "text": [
            "[[0 1 2]\n",
            " [1 2 3]\n",
            " [2 3 4]]\n"
          ]
        }
      ],
      "source": [
        "A = np.arange(3).reshape(1, 3)\n",
        "B = np.arange(3).reshape(3, 1)\n",
        "it = np.nditer([A,B,None])\n",
        "for x,y,z in it: z[...] = x + y\n",
        "print(it.operands[2])"
      ]
    },
    {
      "cell_type": "markdown",
      "metadata": {
        "id": "JXd9hHDaZg3G"
      },
      "source": [
        "#### 63. Create an array class that has a name attribute (★★☆) \n",
        "(**hint**: class method)"
      ]
    },
    {
      "cell_type": "code",
      "execution_count": 285,
      "metadata": {
        "id": "Mz5pbqMDZg3G",
        "colab": {
          "base_uri": "https://localhost:8080/"
        },
        "outputId": "5600fc25-df0a-42ff-f9aa-abce7e8257e2"
      },
      "outputs": [
        {
          "output_type": "stream",
          "name": "stdout",
          "text": [
            "range_10\n"
          ]
        }
      ],
      "source": [
        "class NamedArray(np.ndarray):\n",
        "    def __new__(cls, array, name=\"no name\"):\n",
        "        obj = np.asarray(array).view(cls)\n",
        "        obj.name = name\n",
        "        return obj\n",
        "    def __array_finalize__(self, obj):\n",
        "        if obj is None: return\n",
        "        self.name = getattr(obj, 'name', \"no name\")\n",
        "\n",
        "Z = NamedArray(np.arange(10), \"range_10\")\n",
        "print (Z.name)"
      ]
    },
    {
      "cell_type": "markdown",
      "metadata": {
        "id": "VMOk-ag1Zg3G"
      },
      "source": [
        "#### 64. Consider a given vector, how to add 1 to each element indexed by a second vector (be careful with repeated indices)? (★★★) \n",
        "(**hint**: np.bincount | np.add.at)"
      ]
    },
    {
      "cell_type": "code",
      "execution_count": 286,
      "metadata": {
        "id": "QADoZI7zZg3H",
        "colab": {
          "base_uri": "https://localhost:8080/"
        },
        "outputId": "550c614e-3483-4939-f43a-99cf3540fbda"
      },
      "outputs": [
        {
          "output_type": "stream",
          "name": "stdout",
          "text": [
            "[4. 5. 2. 4. 4. 1. 3. 3. 2. 2.]\n"
          ]
        }
      ],
      "source": [
        "Z = np.ones(10)\n",
        "I = np.random.randint(0,len(Z),20)\n",
        "Z += np.bincount(I, minlength=len(Z))\n",
        "print(Z)"
      ]
    },
    {
      "cell_type": "markdown",
      "metadata": {
        "id": "WaAaDP4nZg3H"
      },
      "source": [
        "#### 65. How to accumulate elements of a vector (X) to an array (F) based on an index list (I)? (★★★) \n",
        "(**hint**: np.bincount)"
      ]
    },
    {
      "cell_type": "code",
      "execution_count": 287,
      "metadata": {
        "id": "nFz41t1sZg3H",
        "colab": {
          "base_uri": "https://localhost:8080/"
        },
        "outputId": "295096a5-b22d-48d2-f3a4-5a3b3225118b"
      },
      "outputs": [
        {
          "output_type": "stream",
          "name": "stdout",
          "text": [
            "[0. 7. 0. 6. 5. 0. 0. 0. 0. 3.]\n"
          ]
        }
      ],
      "source": [
        "X = [1,2,3,4,5,6]\n",
        "I = [1,3,9,3,4,1]\n",
        "F = np.bincount(I,X)\n",
        "print(F)"
      ]
    },
    {
      "cell_type": "markdown",
      "metadata": {
        "id": "9EdvkOxzZg3H"
      },
      "source": [
        "#### 66. Considering a (w,h,3) image of (dtype=ubyte), compute the number of unique colors (★★★) \n",
        "(**hint**: np.unique)"
      ]
    },
    {
      "cell_type": "code",
      "execution_count": 288,
      "metadata": {
        "id": "CDvOQLcPZg3H",
        "colab": {
          "base_uri": "https://localhost:8080/"
        },
        "outputId": "b33742d1-6165-4b7b-a8bc-14328ddeef85"
      },
      "outputs": [
        {
          "output_type": "stream",
          "name": "stdout",
          "text": [
            "64\n"
          ]
        }
      ],
      "source": [
        "w, h = 256, 256\n",
        "I = np.random.randint(0, 4, (h, w, 3)).astype(np.ubyte)\n",
        "colors = np.unique(I.reshape(-1, 3), axis=0)\n",
        "n = len(colors)\n",
        "print(n)"
      ]
    },
    {
      "cell_type": "markdown",
      "metadata": {
        "id": "SJkBJXKgZg3H"
      },
      "source": [
        "#### 67. Considering a four dimensions array, how to get sum over the last two axis at once? (★★★) \n",
        "(**hint**: sum(axis=(-2,-1)))"
      ]
    },
    {
      "cell_type": "code",
      "execution_count": 289,
      "metadata": {
        "id": "czZXJdYuZg3H",
        "colab": {
          "base_uri": "https://localhost:8080/"
        },
        "outputId": "b1f1a61d-0f37-451d-822e-9c3d33f31640"
      },
      "outputs": [
        {
          "output_type": "stream",
          "name": "stdout",
          "text": [
            "[[53 57 74 50]\n",
            " [59 58 60 44]\n",
            " [67 54 66 46]]\n"
          ]
        }
      ],
      "source": [
        "A = np.random.randint(0,10,(3,4,3,4))\n",
        "sum = A.sum(axis=(-2,-1))\n",
        "print(sum)"
      ]
    },
    {
      "cell_type": "markdown",
      "metadata": {
        "id": "w3_7fkI2Zg3H"
      },
      "source": [
        "#### 68. Considering a one-dimensional vector D, how to compute means of subsets of D using a vector S of same size describing subset  indices? (★★★) \n",
        "(**hint**: np.bincount)"
      ]
    },
    {
      "cell_type": "code",
      "execution_count": 290,
      "metadata": {
        "id": "YYMystTXZg3I",
        "colab": {
          "base_uri": "https://localhost:8080/"
        },
        "outputId": "7c64ccf4-dad0-447d-c0c7-fb9472736f5a"
      },
      "outputs": [
        {
          "output_type": "stream",
          "name": "stdout",
          "text": [
            "[0.38967754 0.52621866 0.52514317 0.4707703  0.65877993 0.42775591 0.45888868 0.42315462 0.49248049 0.53711998]\n"
          ]
        }
      ],
      "source": [
        "D = np.random.uniform(0,1,100)\n",
        "S = np.random.randint(0,10,100)\n",
        "D_sums = np.bincount(S, weights=D)\n",
        "D_counts = np.bincount(S)\n",
        "D_means = D_sums / D_counts\n",
        "print(D_means)"
      ]
    },
    {
      "cell_type": "markdown",
      "metadata": {
        "id": "LcJUyZ0mZg3I"
      },
      "source": [
        "#### 69. How to get the diagonal of a dot product? (★★★) \n",
        "(**hint**: np.diag)"
      ]
    },
    {
      "cell_type": "code",
      "execution_count": 291,
      "metadata": {
        "id": "O8r5tVpmZg3I",
        "colab": {
          "base_uri": "https://localhost:8080/"
        },
        "outputId": "1a300701-6f97-4c90-ed40-37e6cac31d82"
      },
      "outputs": [
        {
          "output_type": "stream",
          "name": "stdout",
          "text": [
            "[0.66283978 1.09241552 0.32347999 1.15763321 2.12272322]\n"
          ]
        }
      ],
      "source": [
        "A = np.random.uniform(0,1,(5,5))\n",
        "B = np.random.uniform(0,1,(5,5))\n",
        "\n",
        "print(np.diag(np.dot(A, B)))"
      ]
    },
    {
      "cell_type": "markdown",
      "metadata": {
        "id": "Oype3r2tZg3I"
      },
      "source": [
        "#### 70. Consider the vector \\[1, 2, 3, 4, 5\\], how to build a new vector with 3 consecutive zeros interleaved between each value? (★★★) \n",
        "(**hint**: array\\[::4\\])"
      ]
    },
    {
      "cell_type": "code",
      "execution_count": 292,
      "metadata": {
        "id": "kbqVlzr-Zg3I",
        "colab": {
          "base_uri": "https://localhost:8080/"
        },
        "outputId": "f25b66c5-2eda-482c-c263-11b6092fb176"
      },
      "outputs": [
        {
          "output_type": "stream",
          "name": "stdout",
          "text": [
            "[1. 0. 0. 0. 2. 0. 0. 0. 3. 0. 0. 0. 4. 0. 0. 0. 5.]\n"
          ]
        }
      ],
      "source": [
        "Z = np.array([1,2,3,4,5])\n",
        "nz = 3\n",
        "Z0 = np.zeros(len(Z) + (len(Z)-1)*(nz))\n",
        "Z0[::nz+1] = Z\n",
        "print(Z0)"
      ]
    },
    {
      "cell_type": "markdown",
      "metadata": {
        "id": "xv8PzR5bZg3I"
      },
      "source": [
        "#### 71. Consider an array of dimension (5,5,3), how to mulitply it by an array with dimensions (5,5)? (★★★) \n",
        "(**hint**: array\\[:, :, None\\])"
      ]
    },
    {
      "cell_type": "code",
      "execution_count": 293,
      "metadata": {
        "collapsed": true,
        "id": "x9io1ufTZg3I",
        "colab": {
          "base_uri": "https://localhost:8080/"
        },
        "outputId": "6895e0f5-0ac8-4bbf-a92a-da0c50210e34"
      },
      "outputs": [
        {
          "output_type": "stream",
          "name": "stdout",
          "text": [
            "[[[2. 2. 2.]\n",
            "  [2. 2. 2.]\n",
            "  [2. 2. 2.]\n",
            "  [2. 2. 2.]\n",
            "  [2. 2. 2.]]\n",
            "\n",
            " [[2. 2. 2.]\n",
            "  [2. 2. 2.]\n",
            "  [2. 2. 2.]\n",
            "  [2. 2. 2.]\n",
            "  [2. 2. 2.]]\n",
            "\n",
            " [[2. 2. 2.]\n",
            "  [2. 2. 2.]\n",
            "  [2. 2. 2.]\n",
            "  [2. 2. 2.]\n",
            "  [2. 2. 2.]]\n",
            "\n",
            " [[2. 2. 2.]\n",
            "  [2. 2. 2.]\n",
            "  [2. 2. 2.]\n",
            "  [2. 2. 2.]\n",
            "  [2. 2. 2.]]\n",
            "\n",
            " [[2. 2. 2.]\n",
            "  [2. 2. 2.]\n",
            "  [2. 2. 2.]\n",
            "  [2. 2. 2.]\n",
            "  [2. 2. 2.]]]\n"
          ]
        }
      ],
      "source": [
        "A = np.ones((5,5,3))\n",
        "B = 2*np.ones((5,5))\n",
        "print(A * B[:,:,None])"
      ]
    },
    {
      "cell_type": "markdown",
      "metadata": {
        "id": "_IsGHOZLZg3I"
      },
      "source": [
        "#### 72. How to swap two rows of an array? (★★★) \n",
        "(**hint**: array\\[\\[\\]\\] = array\\[\\[\\]\\])"
      ]
    },
    {
      "cell_type": "code",
      "execution_count": 294,
      "metadata": {
        "id": "4VFBS1LHZg3I",
        "colab": {
          "base_uri": "https://localhost:8080/"
        },
        "outputId": "13a679a6-8f93-4ace-fad7-e4aeea1215d4"
      },
      "outputs": [
        {
          "output_type": "stream",
          "name": "stdout",
          "text": [
            "[[ 5  6  7  8  9]\n",
            " [ 0  1  2  3  4]\n",
            " [10 11 12 13 14]\n",
            " [15 16 17 18 19]\n",
            " [20 21 22 23 24]]\n"
          ]
        }
      ],
      "source": [
        "A = np.arange(25).reshape(5,5)\n",
        "A[[0,1]] = A[[1,0]]\n",
        "print(A)"
      ]
    },
    {
      "cell_type": "markdown",
      "metadata": {
        "id": "4eAu2M26Zg3J"
      },
      "source": [
        "#### 73. Consider a set of 10 triplets describing 10 triangles (with shared vertices), find the set of unique line segments composing all the  triangles (★★★) \n",
        "(**hint**: repeat, np.roll, np.sort, view, np.unique)"
      ]
    },
    {
      "cell_type": "code",
      "execution_count": 295,
      "metadata": {
        "id": "ffLoosNrZg3J",
        "colab": {
          "base_uri": "https://localhost:8080/"
        },
        "outputId": "6a66fb03-a49f-42ad-8e0a-abbb6e7fa85a"
      },
      "outputs": [
        {
          "output_type": "stream",
          "name": "stdout",
          "text": [
            "[( 4, 62) ( 4, 99) ( 6, 36) ( 6, 52) (14, 16) (14, 63) (16, 26) (16, 52) (16, 59) (16, 63) (16, 91) (17, 91) (17, 96) (26, 52) (36, 52) (43, 56) (43, 73) (48, 74) (48, 91) (53, 67) (53, 79) (55, 70) (55, 99) (56, 73) (59, 91) (62, 99) (67, 79) (70, 99) (74, 91) (91, 96)]\n"
          ]
        }
      ],
      "source": [
        "faces = np.random.randint(0,100,(10,3))\n",
        "F = np.roll(faces.repeat(2,axis=1),-1,axis=1)\n",
        "F = F.reshape(len(F)*3,2)\n",
        "F = np.sort(F,axis=1)\n",
        "G = F.view( dtype=[('p0',F.dtype),('p1',F.dtype)] )\n",
        "G = np.unique(G)\n",
        "print(G)"
      ]
    },
    {
      "cell_type": "markdown",
      "metadata": {
        "id": "CPlv7qIqZg3J"
      },
      "source": [
        "#### 74. Given an array C that is a bincount, how to produce an array A such that np.bincount(A) == C? (★★★) \n",
        "(**hint**: np.repeat)"
      ]
    },
    {
      "cell_type": "code",
      "execution_count": 296,
      "metadata": {
        "id": "0vyWV8MNZg3J",
        "colab": {
          "base_uri": "https://localhost:8080/"
        },
        "outputId": "5accc91a-bf12-4318-fd78-7d35109b9237"
      },
      "outputs": [
        {
          "output_type": "stream",
          "name": "stdout",
          "text": [
            "[1 1 2 3 4 4 6]\n"
          ]
        }
      ],
      "source": [
        "C = np.bincount([1,1,2,3,4,4,6])\n",
        "A = np.repeat(np.arange(len(C)), C)\n",
        "print(A)"
      ]
    },
    {
      "cell_type": "markdown",
      "metadata": {
        "id": "GhdlkVqGZg3J"
      },
      "source": [
        "#### 75. How to compute averages using a sliding window over an array? (★★★) \n",
        "(**hint**: np.cumsum)"
      ]
    },
    {
      "cell_type": "code",
      "execution_count": 297,
      "metadata": {
        "id": "lqe2dtLiZg3K",
        "colab": {
          "base_uri": "https://localhost:8080/"
        },
        "outputId": "0b446962-654f-4fac-f621-fcdc7aabb703"
      },
      "outputs": [
        {
          "output_type": "stream",
          "name": "stdout",
          "text": [
            "[ 1.  2.  3.  4.  5.  6.  7.  8.  9. 10. 11. 12. 13. 14. 15. 16. 17. 18.]\n"
          ]
        }
      ],
      "source": [
        "def moving_average(a, n=3) :\n",
        "    ret = np.cumsum(a, dtype=float)\n",
        "    ret[n:] = ret[n:] - ret[:-n]\n",
        "    return ret[n - 1:] / n\n",
        "Z = np.arange(20)\n",
        "print(moving_average(Z, n=3))"
      ]
    },
    {
      "cell_type": "markdown",
      "metadata": {
        "id": "kXOT6YMNZg3K"
      },
      "source": [
        "#### 76. Consider a one-dimensional array Z, build a two-dimensional array whose first row is (Z\\[0\\],Z\\[1\\],Z\\[2\\]) and each subsequent row is  shifted by 1 (last row should be (Z\\[-3\\],Z\\[-2\\],Z\\[-1\\]) (★★★) \n",
        "(**hint**: from numpy.lib import stride_tricks)"
      ]
    },
    {
      "cell_type": "code",
      "execution_count": 298,
      "metadata": {
        "id": "CLF-EpLnZg3K",
        "colab": {
          "base_uri": "https://localhost:8080/"
        },
        "outputId": "c4c4442f-6900-439e-ed77-01d0c68b1ff6"
      },
      "outputs": [
        {
          "output_type": "stream",
          "name": "stdout",
          "text": [
            "[[0 1 2]\n",
            " [1 2 3]\n",
            " [2 3 4]\n",
            " [3 4 5]\n",
            " [4 5 6]\n",
            " [5 6 7]\n",
            " [6 7 8]\n",
            " [7 8 9]]\n"
          ]
        }
      ],
      "source": [
        "from numpy.lib import stride_tricks\n",
        "\n",
        "def rolling(a, window):\n",
        "    shape = (a.size - window + 1, window)\n",
        "    strides = (a.strides[0], a.strides[0])\n",
        "    return stride_tricks.as_strided(a, shape=shape, strides=strides)\n",
        "Z = rolling(np.arange(10), 3)\n",
        "print(Z)"
      ]
    },
    {
      "cell_type": "markdown",
      "metadata": {
        "id": "Y2lyPNVpZg3K"
      },
      "source": [
        "#### 77. How to negate a boolean, or to change the sign of a float inplace? (★★★) \n",
        "(**hint**: np.logical_not, np.negative)"
      ]
    },
    {
      "cell_type": "code",
      "execution_count": 299,
      "metadata": {
        "id": "7Rb1_Ca5Zg3K",
        "colab": {
          "base_uri": "https://localhost:8080/"
        },
        "outputId": "45ec2212-355d-47d8-972e-ec5dcbeb2d40"
      },
      "outputs": [
        {
          "output_type": "execute_result",
          "data": {
            "text/plain": [
              "array([0, 1, 1, 1, 1, 1, 0, 1, 0, 1, 0, 0, 0, 0, 0, 1, 1, 0, 1, 0, 0, 1, 0, 1, 0, 0, 1, 0, 0, 0, 0, 1, 1, 1, 0, 0, 1, 1, 0, 1, 0, 1, 0, 0, 0, 1, 1, 0, 1, 1, 0, 1, 0, 1, 0, 1, 1, 1, 0, 1, 0, 1, 1, 1, 0, 0, 0, 1, 0, 1, 0, 1, 1, 1, 0, 0, 0, 0, 0, 1, 1, 0, 0, 0, 0, 1, 0, 1, 0, 0, 0, 1, 1, 0, 0, 1, 1, 0, 0, 0])"
            ]
          },
          "metadata": {},
          "execution_count": 299
        }
      ],
      "source": [
        "Z = np.random.randint(0,2,100)\n",
        "np.logical_not(Z, out=Z)"
      ]
    },
    {
      "cell_type": "code",
      "source": [
        "Z = np.random.uniform(-1.0,1.0,100)\n",
        "np.negative(Z, out=Z)"
      ],
      "metadata": {
        "colab": {
          "base_uri": "https://localhost:8080/"
        },
        "id": "2I1eeMo6N-LZ",
        "outputId": "4b2525f0-2af3-41cf-b161-01ae20bf20e6"
      },
      "execution_count": 300,
      "outputs": [
        {
          "output_type": "execute_result",
          "data": {
            "text/plain": [
              "array([-4.86942010e-02, -6.28048367e-01, -9.72527312e-01,  1.63183741e-01, -4.93081696e-01,  6.00382378e-01, -5.34596883e-01,  7.26749010e-01,  5.80639830e-01, -6.72141721e-01, -1.38459783e-01, -9.68325672e-01,  5.06184313e-01, -1.99473780e-01,  4.70263947e-02, -1.82024960e-01, -7.26568356e-01, -9.26557520e-01, -9.92478888e-01,  8.39636866e-01,  2.25417128e-01,  5.56583695e-02, -3.58282058e-01,  4.04517751e-01, -5.86511696e-01, -8.94171714e-01, -8.32044213e-01,  4.10073552e-01,  7.58969866e-01, -2.10060961e-01,  8.26807136e-01, -5.63706162e-01,  7.09856687e-01,  3.69468972e-01, -3.66937375e-01, -6.62457145e-01,  7.95444697e-01, -4.47158581e-01,  3.92678957e-01,  4.56315818e-01, -5.86246875e-01, -6.01363417e-02,  6.29286541e-04,  2.93086914e-02, -5.89731348e-01,  3.28396972e-01, -6.01845439e-01,  3.34784801e-01,  9.31118392e-01,  7.15202797e-01,  4.44512678e-01,  6.56970271e-01, -7.96176110e-01, -6.50593524e-01, -7.08206373e-01, -2.55907794e-01,  8.15790760e-01,  4.52687416e-01,  1.61321439e-01,  1.34075335e-01, -4.43311243e-01, -8.32395380e-01,  1.12486919e-01, -6.24776391e-02,  6.99404197e-01, -2.74858632e-01, -4.00962661e-01,  6.89535735e-01,  6.87787712e-01,  5.24851406e-01,  6.20424726e-01,  4.84423815e-01,  4.22470742e-02,  1.18373656e-01, -3.00269635e-01,  9.41201615e-01,  4.90687051e-01, -7.46387449e-01,  8.00159620e-01, -8.33374867e-01,  6.86747302e-01,  7.07628353e-01, -2.63515285e-01,  3.99663177e-01,  3.61019121e-02, -5.57174073e-01, -1.21380437e-01,  6.24328113e-01,  9.98740112e-01, -5.03803586e-02,  3.40416735e-01,  8.97418734e-01, -9.63551659e-01,  1.35331775e-01, -7.48910221e-01,  3.40749722e-01, -1.22625822e-01,  7.04739348e-01,  2.91470918e-01, -3.09021574e-01])"
            ]
          },
          "metadata": {},
          "execution_count": 300
        }
      ]
    },
    {
      "cell_type": "markdown",
      "metadata": {
        "id": "CjizL_H-Zg3L"
      },
      "source": [
        "#### 78. Consider 2 sets of points P0,P1 describing lines (2d) and a point p, how to compute distance from p to each line i  (P0\\[i\\],P1\\[i\\])? (★★★)"
      ]
    },
    {
      "cell_type": "code",
      "execution_count": 301,
      "metadata": {
        "id": "zmbAC5loZg3L",
        "colab": {
          "base_uri": "https://localhost:8080/"
        },
        "outputId": "03d224d4-ae49-4603-e3e3-cf5653807f20"
      },
      "outputs": [
        {
          "output_type": "stream",
          "name": "stdout",
          "text": [
            "[2.92241231 0.9033534  1.97828907 2.00597985 2.55865713 0.54570334 1.25799145 2.8449429  5.9822501  7.14141493]\n"
          ]
        }
      ],
      "source": [
        "def distance(P0, P1, p):\n",
        "    T = P1 - P0\n",
        "    L = (T**2).sum(axis=1)\n",
        "    U = -((P0[:,0]-p[...,0])*T[:,0] + (P0[:,1]-p[...,1])*T[:,1]) / L\n",
        "    U = U.reshape(len(U),1)\n",
        "    D = P0 + U*T - p\n",
        "    return np.sqrt((D**2).sum(axis=1))\n",
        "\n",
        "P0 = np.random.uniform(-10,10,(10,2))\n",
        "P1 = np.random.uniform(-10,10,(10,2))\n",
        "p  = np.random.uniform(-10,10,( 1,2))\n",
        "print(distance(P0, P1, p))"
      ]
    },
    {
      "cell_type": "markdown",
      "metadata": {
        "id": "xh7mWHkIZg3L"
      },
      "source": [
        "#### 79. Consider 2 sets of points P0,P1 describing lines (2d) and a set of points P, how to compute distance from each point j (P\\[j\\]) to each line i (P0\\[i\\],P1\\[i\\])? (★★★)"
      ]
    },
    {
      "cell_type": "code",
      "execution_count": 302,
      "metadata": {
        "id": "0vZC10irZg3M",
        "colab": {
          "base_uri": "https://localhost:8080/"
        },
        "outputId": "1f70fb2d-c484-4eb2-ff2e-ca2a6b88441a"
      },
      "outputs": [
        {
          "output_type": "stream",
          "name": "stdout",
          "text": [
            "[[13.88508381  5.67268111 17.34039856  0.08067335  9.90356851  6.80048694 13.33309431  1.12658604  8.96998444  2.88349648]\n",
            " [ 5.29292008 13.53196566  0.99656077 14.75447149  9.3116594  12.07701098  1.85643856 15.02952562  7.50901956 14.90173185]\n",
            " [12.36312015  4.32846424 15.46366567  2.3027038   8.46380134  5.0824911  11.06858456  0.90056118  6.8480929   2.38239613]\n",
            " [ 5.45797948  3.51986657 11.04928328  2.09686075  1.1032707   0.57312815 13.96306853 10.39849542  5.14055782 14.26133088]\n",
            " [ 1.58047029  7.52123472  7.61946682  4.36711173  2.8378522   4.24504725 12.5343382  14.36067606  2.34499665 17.64954137]\n",
            " [ 4.55141802 12.38711068  1.23044236 16.55263643  8.37824886 11.8389674   0.72790596 12.04247432  8.69293836 11.18273703]\n",
            " [ 0.46644801  8.03938417  2.07289835 14.93862318  4.1636415   8.13228814  0.21826745  7.09162635  6.34651174  6.5433308 ]\n",
            " [ 2.43566053  5.53403277  5.7870064  10.36161643  1.44564308  4.78568922  4.53497069  7.00018635  2.03870597  7.96658478]\n",
            " [ 3.26576342  6.04730205  9.73167363  1.82114132  1.25045947  2.3249111  15.15128974 14.1957652   4.76040693 18.32201893]\n",
            " [ 1.58997169  8.56337276  0.41005459 19.33250377  5.00477271  9.97304683  5.41476061  4.50855671 10.03270644  2.38524582]]\n"
          ]
        }
      ],
      "source": [
        "P0 = np.random.uniform(-10, 10, (10,2))\n",
        "P1 = np.random.uniform(-10,10,(10,2))\n",
        "p = np.random.uniform(-10, 10, (10,2))\n",
        "print(np.array([distance(P0,P1,p_i) for p_i in p]))"
      ]
    },
    {
      "cell_type": "markdown",
      "metadata": {
        "id": "laBhEnNrZg3M"
      },
      "source": [
        "#### 80. Consider an arbitrary array, write a function that extract a subpart with a fixed shape and centered on a given element (pad with a `fill` value when necessary) (★★★) \n",
        "(**hint**: minimum, maximum)"
      ]
    },
    {
      "cell_type": "code",
      "execution_count": 303,
      "metadata": {
        "id": "6q3WVSTaZg3M",
        "colab": {
          "base_uri": "https://localhost:8080/"
        },
        "outputId": "5eae7a44-78c5-49a2-fb26-5b66f24c3f01"
      },
      "outputs": [
        {
          "output_type": "stream",
          "name": "stdout",
          "text": [
            "[[5 1 2 7 2 2 8 1 9 9]\n",
            " [8 2 4 7 7 1 8 8 6 2]\n",
            " [4 2 6 9 3 2 5 6 9 0]\n",
            " [5 6 3 4 5 1 1 3 5 4]\n",
            " [0 5 6 1 8 0 1 5 7 1]\n",
            " [7 0 0 9 0 3 6 2 3 0]\n",
            " [2 8 0 7 5 1 5 8 4 7]\n",
            " [9 5 4 5 1 3 5 6 6 0]\n",
            " [9 2 9 2 1 6 3 5 5 4]\n",
            " [4 7 8 1 6 9 9 4 1 5]]\n",
            "[[0 0 0 0 0]\n",
            " [0 5 1 2 7]\n",
            " [0 8 2 4 7]\n",
            " [0 4 2 6 9]\n",
            " [0 5 6 3 4]]\n"
          ]
        },
        {
          "output_type": "stream",
          "name": "stderr",
          "text": [
            "<ipython-input-303-f2b5781f38bf>:23: FutureWarning: Using a non-tuple sequence for multidimensional indexing is deprecated; use `arr[tuple(seq)]` instead of `arr[seq]`. In the future this will be interpreted as an array index, `arr[np.array(seq)]`, which will result either in an error or a different result.\n",
            "  R[r] = Z[z]\n"
          ]
        }
      ],
      "source": [
        "Z = np.random.randint(0,10,(10,10))\n",
        "shape = (5,5)\n",
        "fill  = 0\n",
        "position = (1,1)\n",
        "\n",
        "R = np.ones(shape, dtype=Z.dtype)*fill\n",
        "P  = np.array(list(position)).astype(int)\n",
        "Rs = np.array(list(R.shape)).astype(int)\n",
        "Zs = np.array(list(Z.shape)).astype(int)\n",
        "\n",
        "R_start = np.zeros((len(shape),)).astype(int)\n",
        "R_stop  = np.array(list(shape)).astype(int)\n",
        "Z_start = (P-Rs//2)\n",
        "Z_stop  = (P+Rs//2)+Rs%2\n",
        "\n",
        "R_start = (R_start - np.minimum(Z_start,0)).tolist()\n",
        "Z_start = (np.maximum(Z_start,0)).tolist()\n",
        "R_stop = np.maximum(R_start, (R_stop - np.maximum(Z_stop-Zs,0))).tolist()\n",
        "Z_stop = (np.minimum(Z_stop,Zs)).tolist()\n",
        "\n",
        "r = [slice(start,stop) for start,stop in zip(R_start,R_stop)]\n",
        "z = [slice(start,stop) for start,stop in zip(Z_start,Z_stop)]\n",
        "R[r] = Z[z]\n",
        "print(Z)\n",
        "print(R)"
      ]
    },
    {
      "cell_type": "markdown",
      "metadata": {
        "id": "AtUsr9k1Zg3M"
      },
      "source": [
        "#### 81. Consider an array Z = \\[1,2,3,4,5,6,7,8,9,10,11,12,13,14\\], how to generate an array R = \\[\\[1,2,3,4\\], \\[2,3,4,5\\], \\[3,4,5,6\\], ..., \\[11,12,13,14\\]\\]? (★★★) \n",
        "(**hint**: stride\\_tricks.as\\_strided)"
      ]
    },
    {
      "cell_type": "code",
      "execution_count": 304,
      "metadata": {
        "id": "EJ1WzCS3Zg3M",
        "colab": {
          "base_uri": "https://localhost:8080/"
        },
        "outputId": "282cbf04-4f0d-46dc-a3ff-b4f04dacde48"
      },
      "outputs": [
        {
          "output_type": "stream",
          "name": "stdout",
          "text": [
            "[[ 1  2  3  4]\n",
            " [ 2  3  4  5]\n",
            " [ 3  4  5  6]\n",
            " [ 4  5  6  7]\n",
            " [ 5  6  7  8]\n",
            " [ 6  7  8  9]\n",
            " [ 7  8  9 10]\n",
            " [ 8  9 10 11]\n",
            " [ 9 10 11 12]\n",
            " [10 11 12 13]\n",
            " [11 12 13 14]]\n"
          ]
        }
      ],
      "source": [
        "Z = np.arange(1,15,dtype=np.uint32)\n",
        "R = stride_tricks.as_strided(Z,(11,4),(4,4))\n",
        "print(R)"
      ]
    },
    {
      "cell_type": "markdown",
      "metadata": {
        "id": "NMRkxt4SZg3M"
      },
      "source": [
        "#### 82. Compute a matrix rank (★★★) \n",
        "(**hint**: np.linalg.svd) (suggestion: np.linalg.svd)"
      ]
    },
    {
      "cell_type": "code",
      "execution_count": 305,
      "metadata": {
        "id": "Cq8Z6PA2Zg3M",
        "colab": {
          "base_uri": "https://localhost:8080/"
        },
        "outputId": "e86283ec-0f20-4a66-fcce-3af02bec46d0"
      },
      "outputs": [
        {
          "output_type": "stream",
          "name": "stdout",
          "text": [
            "10\n"
          ]
        }
      ],
      "source": [
        "Z = np.random.uniform(0,1,(10,10))\n",
        "U, S, V = np.linalg.svd(Z)\n",
        "rank = np.sum(S > 1e-10)\n",
        "print(rank)"
      ]
    },
    {
      "cell_type": "markdown",
      "metadata": {
        "id": "aYwKoWdkZg3M"
      },
      "source": [
        "#### 83. How to find the most frequent value in an array? \n",
        "(**hint**: np.bincount, argmax)"
      ]
    },
    {
      "cell_type": "code",
      "execution_count": 306,
      "metadata": {
        "id": "yafuU5nCZg3N",
        "colab": {
          "base_uri": "https://localhost:8080/"
        },
        "outputId": "4a643b48-5f92-45ee-ac27-babe77c11528"
      },
      "outputs": [
        {
          "output_type": "stream",
          "name": "stdout",
          "text": [
            "4\n"
          ]
        }
      ],
      "source": [
        "Z = np.random.randint(0,10,50)\n",
        "print(np.bincount(Z).argmax())"
      ]
    },
    {
      "cell_type": "markdown",
      "metadata": {
        "id": "gEGGEMCuZg3N"
      },
      "source": [
        "#### 84. Extract all the contiguous 3x3 blocks from a random 10x10 matrix (★★★) \n",
        "(**hint**: stride\\_tricks.as\\_strided)"
      ]
    },
    {
      "cell_type": "code",
      "execution_count": 307,
      "metadata": {
        "id": "ynhcX1b6Zg3N",
        "colab": {
          "base_uri": "https://localhost:8080/"
        },
        "outputId": "210a8557-87f2-4906-9676-7f4a3258e88f"
      },
      "outputs": [
        {
          "output_type": "stream",
          "name": "stdout",
          "text": [
            "[[[[1 4 1]\n",
            "   [4 3 0]\n",
            "   [1 2 1]]\n",
            "\n",
            "  [[4 1 1]\n",
            "   [3 0 2]\n",
            "   [2 1 0]]\n",
            "\n",
            "  [[1 1 0]\n",
            "   [0 2 2]\n",
            "   [1 0 3]]\n",
            "\n",
            "  [[1 0 0]\n",
            "   [2 2 2]\n",
            "   [0 3 2]]\n",
            "\n",
            "  [[0 0 0]\n",
            "   [2 2 0]\n",
            "   [3 2 3]]\n",
            "\n",
            "  [[0 0 4]\n",
            "   [2 0 3]\n",
            "   [2 3 3]]\n",
            "\n",
            "  [[0 4 0]\n",
            "   [0 3 1]\n",
            "   [3 3 0]]\n",
            "\n",
            "  [[4 0 3]\n",
            "   [3 1 0]\n",
            "   [3 0 0]]]\n",
            "\n",
            "\n",
            " [[[4 3 0]\n",
            "   [1 2 1]\n",
            "   [3 0 2]]\n",
            "\n",
            "  [[3 0 2]\n",
            "   [2 1 0]\n",
            "   [0 2 0]]\n",
            "\n",
            "  [[0 2 2]\n",
            "   [1 0 3]\n",
            "   [2 0 1]]\n",
            "\n",
            "  [[2 2 2]\n",
            "   [0 3 2]\n",
            "   [0 1 3]]\n",
            "\n",
            "  [[2 2 0]\n",
            "   [3 2 3]\n",
            "   [1 3 3]]\n",
            "\n",
            "  [[2 0 3]\n",
            "   [2 3 3]\n",
            "   [3 3 4]]\n",
            "\n",
            "  [[0 3 1]\n",
            "   [3 3 0]\n",
            "   [3 4 1]]\n",
            "\n",
            "  [[3 1 0]\n",
            "   [3 0 0]\n",
            "   [4 1 2]]]\n",
            "\n",
            "\n",
            " [[[1 2 1]\n",
            "   [3 0 2]\n",
            "   [4 4 1]]\n",
            "\n",
            "  [[2 1 0]\n",
            "   [0 2 0]\n",
            "   [4 1 4]]\n",
            "\n",
            "  [[1 0 3]\n",
            "   [2 0 1]\n",
            "   [1 4 4]]\n",
            "\n",
            "  [[0 3 2]\n",
            "   [0 1 3]\n",
            "   [4 4 3]]\n",
            "\n",
            "  [[3 2 3]\n",
            "   [1 3 3]\n",
            "   [4 3 0]]\n",
            "\n",
            "  [[2 3 3]\n",
            "   [3 3 4]\n",
            "   [3 0 3]]\n",
            "\n",
            "  [[3 3 0]\n",
            "   [3 4 1]\n",
            "   [0 3 0]]\n",
            "\n",
            "  [[3 0 0]\n",
            "   [4 1 2]\n",
            "   [3 0 3]]]\n",
            "\n",
            "\n",
            " [[[3 0 2]\n",
            "   [4 4 1]\n",
            "   [0 0 2]]\n",
            "\n",
            "  [[0 2 0]\n",
            "   [4 1 4]\n",
            "   [0 2 4]]\n",
            "\n",
            "  [[2 0 1]\n",
            "   [1 4 4]\n",
            "   [2 4 0]]\n",
            "\n",
            "  [[0 1 3]\n",
            "   [4 4 3]\n",
            "   [4 0 4]]\n",
            "\n",
            "  [[1 3 3]\n",
            "   [4 3 0]\n",
            "   [0 4 4]]\n",
            "\n",
            "  [[3 3 4]\n",
            "   [3 0 3]\n",
            "   [4 4 1]]\n",
            "\n",
            "  [[3 4 1]\n",
            "   [0 3 0]\n",
            "   [4 1 0]]\n",
            "\n",
            "  [[4 1 2]\n",
            "   [3 0 3]\n",
            "   [1 0 4]]]\n",
            "\n",
            "\n",
            " [[[4 4 1]\n",
            "   [0 0 2]\n",
            "   [0 4 1]]\n",
            "\n",
            "  [[4 1 4]\n",
            "   [0 2 4]\n",
            "   [4 1 1]]\n",
            "\n",
            "  [[1 4 4]\n",
            "   [2 4 0]\n",
            "   [1 1 1]]\n",
            "\n",
            "  [[4 4 3]\n",
            "   [4 0 4]\n",
            "   [1 1 1]]\n",
            "\n",
            "  [[4 3 0]\n",
            "   [0 4 4]\n",
            "   [1 1 2]]\n",
            "\n",
            "  [[3 0 3]\n",
            "   [4 4 1]\n",
            "   [1 2 2]]\n",
            "\n",
            "  [[0 3 0]\n",
            "   [4 1 0]\n",
            "   [2 2 2]]\n",
            "\n",
            "  [[3 0 3]\n",
            "   [1 0 4]\n",
            "   [2 2 4]]]\n",
            "\n",
            "\n",
            " [[[0 0 2]\n",
            "   [0 4 1]\n",
            "   [2 0 4]]\n",
            "\n",
            "  [[0 2 4]\n",
            "   [4 1 1]\n",
            "   [0 4 1]]\n",
            "\n",
            "  [[2 4 0]\n",
            "   [1 1 1]\n",
            "   [4 1 4]]\n",
            "\n",
            "  [[4 0 4]\n",
            "   [1 1 1]\n",
            "   [1 4 3]]\n",
            "\n",
            "  [[0 4 4]\n",
            "   [1 1 2]\n",
            "   [4 3 3]]\n",
            "\n",
            "  [[4 4 1]\n",
            "   [1 2 2]\n",
            "   [3 3 3]]\n",
            "\n",
            "  [[4 1 0]\n",
            "   [2 2 2]\n",
            "   [3 3 1]]\n",
            "\n",
            "  [[1 0 4]\n",
            "   [2 2 4]\n",
            "   [3 1 0]]]\n",
            "\n",
            "\n",
            " [[[0 4 1]\n",
            "   [2 0 4]\n",
            "   [3 0 3]]\n",
            "\n",
            "  [[4 1 1]\n",
            "   [0 4 1]\n",
            "   [0 3 0]]\n",
            "\n",
            "  [[1 1 1]\n",
            "   [4 1 4]\n",
            "   [3 0 4]]\n",
            "\n",
            "  [[1 1 1]\n",
            "   [1 4 3]\n",
            "   [0 4 0]]\n",
            "\n",
            "  [[1 1 2]\n",
            "   [4 3 3]\n",
            "   [4 0 0]]\n",
            "\n",
            "  [[1 2 2]\n",
            "   [3 3 3]\n",
            "   [0 0 1]]\n",
            "\n",
            "  [[2 2 2]\n",
            "   [3 3 1]\n",
            "   [0 1 0]]\n",
            "\n",
            "  [[2 2 4]\n",
            "   [3 1 0]\n",
            "   [1 0 0]]]\n",
            "\n",
            "\n",
            " [[[2 0 4]\n",
            "   [3 0 3]\n",
            "   [3 0 4]]\n",
            "\n",
            "  [[0 4 1]\n",
            "   [0 3 0]\n",
            "   [0 4 3]]\n",
            "\n",
            "  [[4 1 4]\n",
            "   [3 0 4]\n",
            "   [4 3 1]]\n",
            "\n",
            "  [[1 4 3]\n",
            "   [0 4 0]\n",
            "   [3 1 4]]\n",
            "\n",
            "  [[4 3 3]\n",
            "   [4 0 0]\n",
            "   [1 4 1]]\n",
            "\n",
            "  [[3 3 3]\n",
            "   [0 0 1]\n",
            "   [4 1 4]]\n",
            "\n",
            "  [[3 3 1]\n",
            "   [0 1 0]\n",
            "   [1 4 1]]\n",
            "\n",
            "  [[3 1 0]\n",
            "   [1 0 0]\n",
            "   [4 1 3]]]]\n"
          ]
        }
      ],
      "source": [
        "Z = np.random.randint(0,5,(10,10))\n",
        "n = 3\n",
        "i = 1 + (Z.shape[0]-3)\n",
        "j = 1 + (Z.shape[1]-3)\n",
        "C = stride_tricks.as_strided(Z, shape=(i, j, n, n), strides=Z.strides + Z.strides)\n",
        "print(C)"
      ]
    },
    {
      "cell_type": "markdown",
      "metadata": {
        "id": "OqQeY1e2Zg3N"
      },
      "source": [
        "#### 85. Create a 2D array subclass such that Z\\[i,j\\] == Z\\[j,i\\] (★★★) \n",
        "(**hint**: class method)"
      ]
    },
    {
      "cell_type": "code",
      "execution_count": 308,
      "metadata": {
        "id": "vgZZnuCjZg3N",
        "colab": {
          "base_uri": "https://localhost:8080/"
        },
        "outputId": "c1023992-641b-4577-8b6d-c3b0e36e829f"
      },
      "outputs": [
        {
          "output_type": "stream",
          "name": "stdout",
          "text": [
            "[[ 0  3 16  7  8]\n",
            " [ 3  2 10 12  4]\n",
            " [16 10  0 42 16]\n",
            " [ 7 12 42  9 11]\n",
            " [ 8  4 16 11  7]]\n"
          ]
        }
      ],
      "source": [
        "class Symetric(np.ndarray):\n",
        "    def __setitem__(self, index, value):\n",
        "        i,j = index\n",
        "        super(Symetric, self).__setitem__((i,j), value)\n",
        "        super(Symetric, self).__setitem__((j,i), value)\n",
        "\n",
        "def symetric(Z):\n",
        "    return np.asarray(Z + Z.T - np.diag(Z.diagonal())).view(Symetric)\n",
        "\n",
        "S = symetric(np.random.randint(0,10,(5,5)))\n",
        "S[2,3] = 42\n",
        "print(S)"
      ]
    },
    {
      "cell_type": "markdown",
      "metadata": {
        "id": "ye_4hD7DZg3N"
      },
      "source": [
        "#### 86. Consider a set of p matrices wich shape (n,n) and a set of p vectors with shape (n,1). How to compute the sum of of the p matrix products at once? (result has shape (n,1)) (★★★) \n",
        "(**hint**: np.tensordot)"
      ]
    },
    {
      "cell_type": "code",
      "execution_count": 309,
      "metadata": {
        "id": "PJAN2kPYZg3N",
        "colab": {
          "base_uri": "https://localhost:8080/"
        },
        "outputId": "ca116767-8952-4f27-9edf-0aa54e1cd15e"
      },
      "outputs": [
        {
          "output_type": "stream",
          "name": "stdout",
          "text": [
            "[[200.]\n",
            " [200.]\n",
            " [200.]\n",
            " [200.]\n",
            " [200.]\n",
            " [200.]\n",
            " [200.]\n",
            " [200.]\n",
            " [200.]\n",
            " [200.]\n",
            " [200.]\n",
            " [200.]\n",
            " [200.]\n",
            " [200.]\n",
            " [200.]\n",
            " [200.]\n",
            " [200.]\n",
            " [200.]\n",
            " [200.]\n",
            " [200.]]\n"
          ]
        }
      ],
      "source": [
        "p, n = 10, 20\n",
        "M = np.ones((p,n,n))\n",
        "V = np.ones((p,n,1))\n",
        "S = np.tensordot(M, V, axes=[[0, 2], [0, 1]])\n",
        "print(S)"
      ]
    },
    {
      "cell_type": "markdown",
      "metadata": {
        "id": "26UHsK3IZg3N"
      },
      "source": [
        "#### 87. Consider a 16x16 array, how to get the block-sum (block size is 4x4)? (★★★) \n",
        "(**hint**: np.add.reduceat)"
      ]
    },
    {
      "cell_type": "code",
      "execution_count": 310,
      "metadata": {
        "id": "jDE5-cB5Zg3O",
        "colab": {
          "base_uri": "https://localhost:8080/"
        },
        "outputId": "dcc060f6-89cc-4b2d-9d47-14e9a7fb0291"
      },
      "outputs": [
        {
          "output_type": "stream",
          "name": "stdout",
          "text": [
            "[[16. 16. 16. 16.]\n",
            " [16. 16. 16. 16.]\n",
            " [16. 16. 16. 16.]\n",
            " [16. 16. 16. 16.]]\n"
          ]
        }
      ],
      "source": [
        "Z = np.ones((16,16))\n",
        "k = 4\n",
        "S = np.add.reduceat(np.add.reduceat(Z, np.arange(0, Z.shape[0], k), axis=0),\n",
        "                                       np.arange(0, Z.shape[1], k), axis=1)\n",
        "print(S)"
      ]
    },
    {
      "cell_type": "markdown",
      "metadata": {
        "id": "jovpTSVPZg3O"
      },
      "source": [
        "#### 88. How to implement the Game of Life using numpy arrays? (★★★)"
      ]
    },
    {
      "cell_type": "code",
      "execution_count": 311,
      "metadata": {
        "id": "cx9OvzsgZg3O",
        "colab": {
          "base_uri": "https://localhost:8080/"
        },
        "outputId": "dce38fa8-a2dd-4156-e2bb-0df5b3a9e4db"
      },
      "outputs": [
        {
          "output_type": "stream",
          "name": "stdout",
          "text": [
            "[[0 0 0 0 0 0 0 0 0 0 0 0 0 0 0 0 0 0 0 0 0 0 0 0 0 0 0 0 0 0 0 0 0 0 0 0 0 0 0 0 0 0 0 0 0 0 0 0 0 0]\n",
            " [0 0 0 0 0 0 0 0 0 0 0 0 0 0 0 0 0 0 0 0 0 0 0 0 0 0 0 0 0 0 0 0 0 0 0 0 0 0 0 0 0 0 0 0 0 0 0 0 0 0]\n",
            " [0 0 0 0 0 0 0 1 0 0 0 0 0 0 0 0 0 0 0 0 0 0 0 0 0 0 0 0 0 0 0 0 0 0 0 0 0 0 0 0 0 0 0 0 0 0 0 0 0 0]\n",
            " [0 0 0 0 0 0 0 1 0 0 0 0 0 0 0 0 0 0 0 0 0 0 0 0 0 0 0 0 0 0 0 0 0 0 0 0 0 0 0 0 0 0 0 0 0 0 1 1 0 0]\n",
            " [0 0 0 0 0 0 0 1 0 0 0 0 0 0 0 0 0 0 0 0 0 0 0 0 0 0 0 0 0 0 0 0 0 0 0 0 0 0 0 0 0 0 0 0 0 1 0 0 1 0]\n",
            " [0 0 0 0 0 0 0 0 0 0 0 0 0 0 0 0 0 0 0 0 0 0 0 0 0 0 0 0 0 0 0 0 0 0 0 0 0 0 0 0 0 0 0 0 0 0 1 1 0 0]\n",
            " [0 0 0 0 0 0 0 0 0 0 0 0 0 0 0 0 0 0 0 0 0 0 0 0 0 0 0 0 0 0 0 0 0 0 0 0 0 0 0 0 0 0 0 0 0 0 0 0 0 0]\n",
            " [0 0 0 0 0 0 0 0 0 0 0 0 0 0 0 0 0 0 0 0 0 0 0 0 0 0 0 0 0 0 0 0 0 0 0 0 0 0 0 0 0 0 0 0 0 0 0 0 0 0]\n",
            " [0 0 0 1 0 0 0 0 0 0 0 0 0 0 0 0 0 0 0 0 0 0 0 0 0 0 0 0 0 0 0 0 0 0 0 0 0 0 0 0 0 0 0 0 0 0 0 0 0 0]\n",
            " [0 0 1 0 1 0 0 0 0 0 0 0 0 0 0 0 0 0 0 0 0 0 0 0 0 0 0 0 0 0 0 0 0 0 0 0 0 0 0 0 0 0 0 0 0 0 0 1 1 0]\n",
            " [0 0 0 1 0 0 0 0 0 0 0 0 0 0 0 0 0 0 0 0 0 0 0 0 0 0 0 0 0 0 0 0 0 0 0 0 0 0 0 0 0 0 0 0 0 0 0 1 1 0]\n",
            " [0 0 0 0 0 0 0 0 0 0 0 0 0 0 0 0 0 0 0 0 0 0 0 0 0 0 0 0 0 0 0 0 0 0 0 0 0 0 0 0 0 0 0 0 0 0 0 0 0 0]\n",
            " [0 0 0 0 0 0 0 0 0 0 0 0 0 0 0 0 0 0 0 0 0 0 0 0 0 0 0 0 0 0 0 0 0 0 0 0 0 0 0 0 0 0 0 0 0 0 0 0 0 0]\n",
            " [0 0 0 0 0 0 0 0 0 0 0 0 0 0 0 0 0 0 0 0 0 0 0 0 0 0 0 0 0 0 0 0 0 0 0 0 0 0 0 0 0 0 0 0 0 0 0 0 0 0]\n",
            " [0 0 0 0 0 0 0 0 0 0 0 0 0 0 0 0 0 0 0 0 0 0 0 0 0 0 0 0 0 0 0 0 0 0 0 0 0 0 0 0 0 0 0 0 0 0 0 0 0 0]\n",
            " [0 0 0 0 0 0 0 0 0 0 0 0 0 0 0 0 0 0 0 0 0 0 0 0 0 0 0 0 0 0 0 0 0 0 0 0 0 0 0 1 1 0 0 0 0 0 0 0 0 0]\n",
            " [0 0 0 0 0 0 0 0 0 0 0 0 0 0 0 0 0 0 1 0 0 1 0 0 0 0 0 0 0 0 0 0 0 0 0 0 1 1 1 0 0 0 1 1 1 0 0 0 0 0]\n",
            " [0 0 0 0 0 0 0 0 0 0 0 0 0 0 0 0 0 1 1 1 0 0 1 0 0 0 0 0 0 0 0 0 0 0 0 0 1 1 1 1 1 0 0 0 0 1 0 0 0 0]\n",
            " [0 0 0 0 0 0 0 0 0 0 0 0 0 0 0 0 0 1 0 0 0 0 1 0 0 0 1 1 1 0 0 0 0 0 0 0 0 1 1 1 1 0 0 0 0 0 1 1 0 0]\n",
            " [0 0 0 0 0 0 0 0 0 0 0 0 0 0 0 0 1 1 0 1 1 0 1 1 0 0 0 0 0 0 0 0 0 0 0 0 0 0 0 0 0 0 1 0 1 0 0 0 0 0]\n",
            " [0 0 0 0 0 0 0 0 0 0 0 0 0 0 0 0 1 1 0 1 0 0 0 1 0 0 0 0 0 0 0 0 0 0 0 0 0 0 0 0 0 0 1 0 0 0 0 0 0 0]\n",
            " [0 0 0 0 0 0 0 0 0 0 0 0 0 0 0 0 0 0 0 0 1 1 1 1 0 0 0 0 0 0 0 0 0 0 0 1 1 1 1 1 1 1 0 0 0 0 1 1 0 0]\n",
            " [0 0 0 0 0 0 0 0 0 0 0 0 0 0 0 0 1 1 1 1 1 0 0 1 0 0 0 0 0 0 0 0 0 0 1 0 0 0 0 0 0 0 0 0 0 0 0 0 0 0]\n",
            " [0 0 0 0 0 0 0 0 0 0 0 0 0 0 0 0 0 1 1 0 1 1 1 1 0 0 0 0 0 0 0 0 0 0 1 0 1 1 1 1 0 0 0 0 0 0 0 0 0 0]\n",
            " [0 0 0 0 0 0 0 0 0 0 0 0 0 0 0 0 0 0 0 0 1 0 0 0 1 0 0 0 0 0 0 0 0 0 0 1 1 0 0 0 1 1 0 0 0 0 1 0 0 0]\n",
            " [0 0 0 0 0 0 0 0 0 0 0 0 0 0 0 0 0 0 0 0 0 0 1 1 0 0 0 0 0 0 0 0 0 0 0 0 0 0 0 0 0 0 0 0 0 1 0 1 0 0]\n",
            " [0 0 0 0 0 0 0 0 0 0 0 0 0 0 0 0 0 0 0 0 0 1 0 1 0 0 0 0 0 0 0 0 0 0 0 0 0 0 0 0 0 0 0 0 0 0 0 1 0 0]\n",
            " [0 0 0 0 0 0 0 0 0 0 0 0 0 0 0 0 0 0 0 0 0 0 1 0 0 0 0 0 0 0 0 0 0 0 0 0 0 0 0 0 0 0 0 1 1 1 0 0 0 0]\n",
            " [0 0 0 0 0 0 0 1 1 0 1 1 0 0 0 0 0 0 0 0 0 0 0 0 0 0 0 0 0 0 0 0 0 0 0 0 0 0 0 0 0 0 1 0 0 0 0 0 0 0]\n",
            " [0 0 0 0 0 0 0 1 0 0 0 0 0 0 0 0 0 0 0 0 0 0 0 0 0 0 0 0 0 1 1 1 0 0 0 0 0 0 0 0 0 1 0 0 1 0 0 0 0 0]\n",
            " [0 0 0 0 0 0 0 1 0 0 1 0 0 0 0 0 0 0 0 0 0 0 0 0 0 0 0 0 0 0 0 0 0 0 0 0 0 0 0 0 0 0 1 0 0 1 1 0 0 0]\n",
            " [0 0 0 0 0 0 0 1 1 1 0 0 0 0 0 0 0 0 0 0 0 0 0 0 0 0 0 1 0 0 0 0 0 1 0 0 0 0 0 0 0 0 0 1 1 1 0 1 0 0]\n",
            " [0 0 0 0 0 0 0 1 0 0 0 0 0 0 0 0 0 0 0 0 0 0 0 0 0 0 0 1 0 0 0 0 0 1 0 0 0 0 0 0 0 0 0 0 1 1 0 1 0 0]\n",
            " [0 0 0 0 1 1 0 0 0 1 0 0 0 0 0 0 0 0 0 0 0 0 0 0 0 0 0 1 0 0 0 0 0 1 0 0 0 0 0 0 0 0 0 0 0 0 0 0 0 0]\n",
            " [0 0 0 1 1 0 0 0 0 0 0 1 1 1 0 0 0 1 1 1 0 0 0 0 0 0 0 0 0 0 0 0 0 0 0 0 0 0 0 0 0 0 0 0 0 0 0 0 0 0]\n",
            " [0 0 0 1 0 0 0 0 1 0 0 0 0 1 0 0 0 1 0 1 0 0 0 0 0 0 0 0 0 1 1 1 0 0 0 0 0 0 0 0 0 0 0 0 0 0 0 0 0 0]\n",
            " [0 0 0 1 1 1 1 1 0 0 1 0 0 0 0 0 0 1 1 1 0 0 0 0 0 0 0 0 0 0 0 0 0 0 1 0 0 0 0 0 0 0 0 0 0 0 0 0 0 0]\n",
            " [0 0 0 0 0 1 0 0 0 0 1 0 0 0 0 0 0 0 0 0 0 0 0 0 0 0 0 0 0 0 0 0 0 1 0 1 0 0 0 0 0 0 0 0 0 0 0 0 0 0]\n",
            " [0 0 0 0 0 0 0 0 0 0 0 1 0 1 0 0 0 0 0 0 0 0 0 0 0 0 0 0 0 0 0 0 0 0 1 0 0 0 0 0 0 0 0 0 0 0 0 0 0 0]\n",
            " [0 0 0 0 0 0 0 0 0 0 0 0 0 0 0 0 0 0 0 0 0 0 0 0 0 0 0 0 0 0 0 0 0 0 0 0 0 0 0 0 0 0 0 0 0 0 0 0 0 0]\n",
            " [0 0 0 1 0 0 0 0 1 0 1 0 0 0 0 0 0 0 0 0 0 0 0 0 0 0 0 0 0 0 0 0 0 0 0 0 0 0 0 0 0 0 0 0 0 0 0 0 0 0]\n",
            " [0 1 1 0 0 0 0 0 1 0 1 0 0 0 0 0 0 0 0 0 0 0 0 0 0 0 0 0 0 0 0 0 0 0 0 0 0 0 0 0 0 0 0 0 0 0 0 0 0 0]\n",
            " [0 1 1 0 0 0 0 0 0 1 1 0 0 0 0 0 0 0 0 0 0 0 0 0 0 0 0 0 0 0 0 0 0 0 0 0 0 0 0 0 0 0 0 0 0 0 0 0 0 0]\n",
            " [0 0 0 0 0 0 0 0 0 0 0 0 0 0 0 0 0 0 0 0 0 0 0 0 0 0 0 0 0 0 0 0 0 0 0 0 0 0 0 0 0 0 0 0 0 0 1 0 0 0]\n",
            " [0 0 0 0 0 0 0 0 0 1 0 0 0 0 0 0 0 0 0 0 0 0 0 0 0 0 0 0 0 0 0 0 0 0 0 0 0 0 0 0 0 0 0 0 0 1 0 1 0 0]\n",
            " [0 0 0 0 0 0 0 0 1 0 0 1 0 0 0 0 0 0 0 0 0 0 0 0 0 0 0 0 0 0 0 0 1 1 0 0 0 0 0 0 0 0 0 0 0 0 1 1 0 0]\n",
            " [0 0 0 0 0 0 0 0 0 0 0 0 1 0 0 0 0 0 0 0 0 0 0 0 0 0 0 0 0 0 0 0 1 1 0 0 0 0 0 0 0 0 0 0 0 0 0 0 0 0]\n",
            " [0 0 0 0 0 0 0 0 1 1 0 1 1 0 0 0 0 0 0 0 0 0 0 0 0 0 0 0 0 0 0 0 0 0 0 0 0 0 0 0 0 0 0 0 0 0 0 0 0 0]\n",
            " [0 0 0 0 0 0 0 0 0 0 0 0 0 0 0 0 0 0 0 0 0 0 0 0 0 0 0 0 0 0 0 0 0 0 0 0 0 0 0 0 0 0 0 0 0 0 0 0 0 0]\n",
            " [0 0 0 0 0 0 0 0 0 0 0 0 0 0 0 0 0 0 0 0 0 0 0 0 0 0 0 0 0 0 0 0 0 0 0 0 0 0 0 0 0 0 0 0 0 0 0 0 0 0]]\n"
          ]
        }
      ],
      "source": [
        "def iterate(Z):\n",
        "    N = (Z[0:-2,0:-2] + Z[0:-2,1:-1] + Z[0:-2,2:] +\n",
        "         Z[1:-1,0:-2]                + Z[1:-1,2:] +\n",
        "         Z[2:  ,0:-2] + Z[2:  ,1:-1] + Z[2:  ,2:])\n",
        "\n",
        "    \n",
        "    birth = (N==3) & (Z[1:-1,1:-1]==0)\n",
        "    survive = ((N==2) | (N==3)) & (Z[1:-1,1:-1]==1)\n",
        "    Z[...] = 0\n",
        "    Z[1:-1,1:-1][birth | survive] = 1\n",
        "    return Z\n",
        "\n",
        "Z = np.random.randint(0,2,(50,50))\n",
        "for i in range(100): Z = iterate(Z)\n",
        "print(Z)"
      ]
    },
    {
      "cell_type": "markdown",
      "metadata": {
        "id": "jgUSwByRZg3O"
      },
      "source": [
        "#### 89. How to get the n largest values of an array (★★★) \n",
        "(**hint**: np.argsort | np.argpartition)"
      ]
    },
    {
      "cell_type": "code",
      "execution_count": 312,
      "metadata": {
        "id": "xJPpoRujZg3O"
      },
      "outputs": [],
      "source": [
        "Z = np.arange(10000)\n",
        "np.random.shuffle(Z)\n",
        "n = 5"
      ]
    },
    {
      "cell_type": "code",
      "source": [
        "print (Z[np.argsort(Z)[-n:]])"
      ],
      "metadata": {
        "colab": {
          "base_uri": "https://localhost:8080/"
        },
        "id": "2fw8vMIsPsga",
        "outputId": "e1f02ee2-50fa-4a80-f717-2cb2f58ea929"
      },
      "execution_count": 313,
      "outputs": [
        {
          "output_type": "stream",
          "name": "stdout",
          "text": [
            "[9995 9996 9997 9998 9999]\n"
          ]
        }
      ]
    },
    {
      "cell_type": "code",
      "source": [
        "print (Z[np.argpartition(-Z,n)[:n]])"
      ],
      "metadata": {
        "colab": {
          "base_uri": "https://localhost:8080/"
        },
        "id": "xJEge6-wPxxY",
        "outputId": "d31f5816-9bab-4775-dfe5-7766d1fce75a"
      },
      "execution_count": 314,
      "outputs": [
        {
          "output_type": "stream",
          "name": "stdout",
          "text": [
            "[9996 9997 9999 9998 9995]\n"
          ]
        }
      ]
    },
    {
      "cell_type": "markdown",
      "metadata": {
        "id": "UYjfmydqZg3O"
      },
      "source": [
        "#### 90. Given an arbitrary number of vectors, build the cartesian product (every combinations of every item) (★★★) \n",
        "(**hint**: np.indices)"
      ]
    },
    {
      "cell_type": "code",
      "execution_count": 315,
      "metadata": {
        "scrolled": true,
        "id": "0wieO8aRZg3O",
        "colab": {
          "base_uri": "https://localhost:8080/"
        },
        "outputId": "ac4d5eb5-0773-4e57-9062-c9ab85df620a"
      },
      "outputs": [
        {
          "output_type": "stream",
          "name": "stdout",
          "text": [
            "[[1 4 6]\n",
            " [1 4 7]\n",
            " [1 5 6]\n",
            " [1 5 7]\n",
            " [2 4 6]\n",
            " [2 4 7]\n",
            " [2 5 6]\n",
            " [2 5 7]\n",
            " [3 4 6]\n",
            " [3 4 7]\n",
            " [3 5 6]\n",
            " [3 5 7]]\n"
          ]
        }
      ],
      "source": [
        "def cartesian(arrays):\n",
        "    arrays = [np.asarray(a) for a in arrays]\n",
        "    shape = (len(x) for x in arrays)\n",
        "\n",
        "    ix = np.indices(shape, dtype=int)\n",
        "    ix = ix.reshape(len(arrays), -1).T\n",
        "\n",
        "    for n, arr in enumerate(arrays):\n",
        "        ix[:, n] = arrays[n][ix[:, n]]\n",
        "\n",
        "    return ix\n",
        "\n",
        "print (cartesian(([1, 2, 3], [4, 5], [6, 7])))"
      ]
    },
    {
      "cell_type": "markdown",
      "metadata": {
        "id": "_E124EMbZg3O"
      },
      "source": [
        "#### 91. How to create a record array from a regular array? (★★★) \n",
        "(**hint**: np.core.records.fromarrays)"
      ]
    },
    {
      "cell_type": "code",
      "execution_count": 316,
      "metadata": {
        "id": "ZRDPIRSVZg3P",
        "colab": {
          "base_uri": "https://localhost:8080/"
        },
        "outputId": "05e9e084-2f01-4e59-c7ba-19a83e1ba839"
      },
      "outputs": [
        {
          "output_type": "stream",
          "name": "stdout",
          "text": [
            "[(b'Hello', 2.5, 3) (b'World', 3.6, 2)]\n"
          ]
        }
      ],
      "source": [
        "Z = np.array([(\"Hello\", 2.5, 3),\n",
        "              (\"World\", 3.6, 2)])\n",
        "R = np.core.records.fromarrays(Z.T,\n",
        "                               names='col1, col2, col3',\n",
        "                               formats = 'S8, f8, i8')\n",
        "print(R)"
      ]
    },
    {
      "cell_type": "markdown",
      "metadata": {
        "id": "Um-vMlv8Zg3P"
      },
      "source": [
        "#### 92. Consider a large vector Z, compute Z to the power of 3 using 3 different methods (★★★) \n",
        "(**hint**: np.power, \\*, np.einsum)"
      ]
    },
    {
      "cell_type": "code",
      "execution_count": 317,
      "metadata": {
        "id": "10FKqLkNZg3P",
        "colab": {
          "base_uri": "https://localhost:8080/"
        },
        "outputId": "f1c90cd2-54fe-46fa-e259-b9d0e8a5c12a"
      },
      "outputs": [
        {
          "output_type": "stream",
          "name": "stdout",
          "text": [
            "3.85 s ± 49.1 ms per loop (mean ± std. dev. of 7 runs, 1 loop each)\n",
            "158 ms ± 18 ms per loop (mean ± std. dev. of 7 runs, 10 loops each)\n",
            "125 ms ± 1.93 ms per loop (mean ± std. dev. of 7 runs, 10 loops each)\n"
          ]
        }
      ],
      "source": [
        "x = np.random.rand(int(5e7))\n",
        "\n",
        "%timeit np.power(x,3)\n",
        "%timeit x*x*x\n",
        "%timeit np.einsum('i,i,i->i',x,x,x)"
      ]
    },
    {
      "cell_type": "markdown",
      "metadata": {
        "id": "wb35l3hvZg3P"
      },
      "source": [
        "#### 93. Consider two arrays A and B of shape (8,3) and (2,2). How to find rows of A that contain elements of each row of B regardless of the order of the elements in B? (★★★) \n",
        "(**hint**: np.where)"
      ]
    },
    {
      "cell_type": "code",
      "execution_count": 318,
      "metadata": {
        "id": "QoQSV5bpZg3P",
        "colab": {
          "base_uri": "https://localhost:8080/"
        },
        "outputId": "1329821d-a541-413a-814c-73cbaa3cc7ee"
      },
      "outputs": [
        {
          "output_type": "stream",
          "name": "stdout",
          "text": [
            "[1 2 3 4 6 7]\n"
          ]
        }
      ],
      "source": [
        "A = np.random.randint(0,5,(8,3))\n",
        "B = np.random.randint(0,5,(2,2))\n",
        "\n",
        "C = (A[..., np.newaxis, np.newaxis] == B)\n",
        "rows = np.where(C.any((3,1)).all(1))[0]\n",
        "print(rows)"
      ]
    },
    {
      "cell_type": "markdown",
      "metadata": {
        "id": "fbXbmLbkZg3P"
      },
      "source": [
        "#### 94. Considering a 10x3 matrix, extract rows with unequal values (e.g. \\[2,2,3\\]) (★★★)"
      ]
    },
    {
      "cell_type": "code",
      "execution_count": 319,
      "metadata": {
        "id": "XSpfo0KDZg3P",
        "colab": {
          "base_uri": "https://localhost:8080/"
        },
        "outputId": "f816d194-d8ca-4091-dee2-2193e39f2c1b"
      },
      "outputs": [
        {
          "output_type": "stream",
          "name": "stdout",
          "text": [
            "[[1 4 3]\n",
            " [1 4 3]\n",
            " [0 1 1]\n",
            " [3 0 4]\n",
            " [4 2 2]\n",
            " [0 3 0]\n",
            " [0 1 0]\n",
            " [1 2 1]\n",
            " [1 0 3]\n",
            " [2 3 2]]\n",
            "[[1 4 3]\n",
            " [1 4 3]\n",
            " [0 1 1]\n",
            " [3 0 4]\n",
            " [4 2 2]\n",
            " [0 3 0]\n",
            " [0 1 0]\n",
            " [1 2 1]\n",
            " [1 0 3]\n",
            " [2 3 2]]\n"
          ]
        }
      ],
      "source": [
        "Z = np.random.randint(0,5,(10,3))\n",
        "print(Z)\n",
        "E = np.all(Z[:,1:] == Z[:,:-1], axis=1)\n",
        "U = Z[~E]\n",
        "print(U)"
      ]
    },
    {
      "cell_type": "markdown",
      "metadata": {
        "id": "fAYzHn3NZg3P"
      },
      "source": [
        "#### 95. Convert a vector of ints into a matrix binary representation (★★★) \n",
        "(**hint**: np.unpackbits)"
      ]
    },
    {
      "cell_type": "code",
      "execution_count": 320,
      "metadata": {
        "id": "3J8KrTnrZg3P",
        "colab": {
          "base_uri": "https://localhost:8080/"
        },
        "outputId": "d83aab24-75a2-4d52-9eae-c528cee6de0c"
      },
      "outputs": [
        {
          "output_type": "stream",
          "name": "stdout",
          "text": [
            "[[0 0 0 0 0 0 0 0]\n",
            " [0 0 0 0 0 0 0 1]\n",
            " [0 0 0 0 0 0 1 0]\n",
            " [0 0 0 0 0 0 1 1]\n",
            " [0 0 0 0 1 1 1 1]\n",
            " [0 0 0 1 0 0 0 0]\n",
            " [0 0 1 0 0 0 0 0]\n",
            " [0 1 0 0 0 0 0 0]\n",
            " [1 0 0 0 0 0 0 0]]\n"
          ]
        }
      ],
      "source": [
        "I = np.array([0, 1, 2, 3, 15, 16, 32, 64, 128], dtype=np.uint8)\n",
        "print(np.unpackbits(I[:, np.newaxis], axis=1))"
      ]
    },
    {
      "cell_type": "markdown",
      "metadata": {
        "id": "wqqoHM0gZg3Q"
      },
      "source": [
        "#### 96. Given a two dimensional array, how to extract unique rows? (★★★) \n",
        "(**hint**: np.ascontiguousarray)"
      ]
    },
    {
      "cell_type": "code",
      "execution_count": 321,
      "metadata": {
        "id": "qDaVIT6QZg3Q",
        "colab": {
          "base_uri": "https://localhost:8080/"
        },
        "outputId": "9a399aca-cb5e-4e32-a3b6-6471bb6d9f9a"
      },
      "outputs": [
        {
          "output_type": "stream",
          "name": "stdout",
          "text": [
            "[[1 0 1]\n",
            " [1 1 0]\n",
            " [1 1 1]]\n"
          ]
        }
      ],
      "source": [
        "Z = np.random.randint(0,2,(6,3))\n",
        "T = np.ascontiguousarray(Z).view(np.dtype((np.void, Z.dtype.itemsize * Z.shape[1])))\n",
        "_, idx = np.unique(T, return_index=True)\n",
        "uZ = Z[idx]\n",
        "print(uZ)"
      ]
    },
    {
      "cell_type": "markdown",
      "metadata": {
        "id": "dhOPnu7WZg3Q"
      },
      "source": [
        "#### 97. Considering 2 vectors A & B, write the einsum equivalent of inner, outer, sum, and mul function (★★★) \n",
        "(**hint**: np.einsum)"
      ]
    },
    {
      "cell_type": "code",
      "execution_count": 322,
      "metadata": {
        "id": "pCnyT1duZg3Q",
        "colab": {
          "base_uri": "https://localhost:8080/"
        },
        "outputId": "7e22d025-78e5-466a-825d-96953681bdfb"
      },
      "outputs": [
        {
          "output_type": "execute_result",
          "data": {
            "text/plain": [
              "4.811840067168879"
            ]
          },
          "metadata": {},
          "execution_count": 322
        }
      ],
      "source": [
        "A = np.random.uniform(0,1,10)\n",
        "B = np.random.uniform(0,1,10)\n",
        "\n",
        "np.einsum('i->', A)"
      ]
    },
    {
      "cell_type": "code",
      "source": [
        "np.einsum('i,i->i', A, B)"
      ],
      "metadata": {
        "colab": {
          "base_uri": "https://localhost:8080/"
        },
        "id": "vFNbvg_BQxH8",
        "outputId": "15c6dfa8-10f3-451d-ff4b-c193a85271dc"
      },
      "execution_count": 323,
      "outputs": [
        {
          "output_type": "execute_result",
          "data": {
            "text/plain": [
              "array([0.13729581, 0.23724738, 0.13592123, 0.29974607, 0.00351218, 0.1123692 , 0.40283433, 0.3014847 , 0.33966564, 0.31753738])"
            ]
          },
          "metadata": {},
          "execution_count": 323
        }
      ]
    },
    {
      "cell_type": "code",
      "source": [
        "np.einsum('i,i', A, B)"
      ],
      "metadata": {
        "colab": {
          "base_uri": "https://localhost:8080/"
        },
        "id": "_cne2N-yQ0Gl",
        "outputId": "19a95378-d059-421a-8145-a171abb0d1e3"
      },
      "execution_count": 324,
      "outputs": [
        {
          "output_type": "execute_result",
          "data": {
            "text/plain": [
              "2.2876139226650736"
            ]
          },
          "metadata": {},
          "execution_count": 324
        }
      ]
    },
    {
      "cell_type": "code",
      "source": [
        "np.einsum('i,j->ij', A, B) "
      ],
      "metadata": {
        "colab": {
          "base_uri": "https://localhost:8080/"
        },
        "id": "wo73ibacQ4K8",
        "outputId": "c1f2872f-752a-4906-ac85-dcf39ef90c63"
      },
      "execution_count": 325,
      "outputs": [
        {
          "output_type": "execute_result",
          "data": {
            "text/plain": [
              "array([[0.13729581, 0.44183036, 0.21325447, 0.44468874, 0.0221898 , 0.11694987, 0.57803541, 0.43897424, 0.33201073, 0.25287559],\n",
              "       [0.07372303, 0.23724738, 0.11451016, 0.23878223, 0.01191514, 0.06279797, 0.3103847 , 0.23571374, 0.1782781 , 0.13578531],\n",
              "       [0.08750773, 0.28160781, 0.13592123, 0.28342964, 0.01414303, 0.07453991, 0.36842032, 0.27978741, 0.21161247, 0.1611744 ],\n",
              "       [0.09254536, 0.29781936, 0.14374592, 0.29974607, 0.01495722, 0.07883101, 0.38962948, 0.29589417, 0.22379454, 0.17045286],\n",
              "       [0.02173103, 0.06993243, 0.03375369, 0.07038485, 0.00351218, 0.0185107 , 0.09149082, 0.06948037, 0.0525503 , 0.04002488],\n",
              "       [0.13191824, 0.42452484, 0.20490176, 0.42727126, 0.02132068, 0.1123692 , 0.55539503, 0.42178058, 0.3190066 , 0.24297101],\n",
              "       [0.0956818 , 0.30791269, 0.14861758, 0.30990471, 0.01546413, 0.08150266, 0.40283433, 0.30592225, 0.23137912, 0.17622964],\n",
              "       [0.09429389, 0.30344627, 0.14646181, 0.30540938, 0.01523981, 0.08032042, 0.39699102, 0.3014847 , 0.22802285, 0.17367334],\n",
              "       [0.14046133, 0.45201729, 0.21817131, 0.45494157, 0.02270141, 0.11964629, 0.59136271, 0.44909532, 0.33966564, 0.25870594],\n",
              "       [0.17240317, 0.554809  , 0.2677849 , 0.55839829, 0.02786387, 0.14685464, 0.72584249, 0.55122255, 0.41690784, 0.31753738]])"
            ]
          },
          "metadata": {},
          "execution_count": 325
        }
      ]
    },
    {
      "cell_type": "markdown",
      "metadata": {
        "id": "pxFfbFnDZg3Q"
      },
      "source": [
        "#### 98. Considering a path described by two vectors (X,Y), how to sample it using equidistant samples (★★★)? \n",
        "(**hint**: np.cumsum, np.interp)"
      ]
    },
    {
      "cell_type": "code",
      "execution_count": 326,
      "metadata": {
        "collapsed": true,
        "id": "-fEx-LJTZg3Q"
      },
      "outputs": [],
      "source": [
        "phi = np.arange(0, 10*np.pi, 0.1)\n",
        "a = 1\n",
        "x = a*phi*np.cos(phi)\n",
        "y = a*phi*np.sin(phi)\n",
        "\n",
        "dr = (np.diff(x)**2 + np.diff(y)**2)**.5\n",
        "r = np.zeros_like(x)\n",
        "r[1:] = np.cumsum(dr)\n",
        "r_int = np.linspace(0, r.max(), 200)\n",
        "x_int = np.interp(r_int, r, x)\n",
        "y_int = np.interp(r_int, r, y)"
      ]
    },
    {
      "cell_type": "markdown",
      "metadata": {
        "id": "ljitJUrKZg3Q"
      },
      "source": [
        "#### 99. Given an integer n and a 2D array X, select from X the rows which can be interpreted as draws from a multinomial distribution with n degrees, i.e., the rows which only contain integers and which sum to n. (★★★) \n",
        "(**hint**: np.logical\\_and.reduce, np.mod)"
      ]
    },
    {
      "cell_type": "code",
      "execution_count": 327,
      "metadata": {
        "id": "L6r1mqEJZg3R",
        "colab": {
          "base_uri": "https://localhost:8080/"
        },
        "outputId": "33cd7a47-2b91-4cd7-fc7e-3252101f938c"
      },
      "outputs": [
        {
          "output_type": "stream",
          "name": "stdout",
          "text": [
            "[[2. 0. 1. 1.]]\n"
          ]
        }
      ],
      "source": [
        "X = np.asarray([[1.0, 0.0, 3.0, 8.0],\n",
        "                [2.0, 0.0, 1.0, 1.0],\n",
        "                [1.5, 2.5, 1.0, 0.0]])\n",
        "n = 4\n",
        "M = np.logical_and.reduce(np.mod(X, 1) == 0, axis=-1)\n",
        "M &= (X.sum(axis=-1) == n)\n",
        "print(X[M])"
      ]
    },
    {
      "cell_type": "markdown",
      "metadata": {
        "id": "4UX7vVkRZg3R"
      },
      "source": [
        "#### 100. Compute bootstrapped 95% confidence intervals for the mean of a 1D array X (i.e., resample the elements of an array with replacement N times, compute the mean of each sample, and then compute percentiles over the means). (★★★) \n",
        "(**hint**: np.percentile)"
      ]
    },
    {
      "cell_type": "code",
      "execution_count": 328,
      "metadata": {
        "id": "GRjdZqZjZg3R",
        "colab": {
          "base_uri": "https://localhost:8080/"
        },
        "outputId": "1913a9c1-3ec8-4a9b-8ab5-7166d008b270"
      },
      "outputs": [
        {
          "output_type": "stream",
          "name": "stdout",
          "text": [
            "[-0.14923069  0.20631485]\n"
          ]
        }
      ],
      "source": [
        "X = np.random.randn(100)\n",
        "N = 1000\n",
        "idx = np.random.randint(0, X.size, (N, X.size))\n",
        "means = X[idx].mean(axis=1)\n",
        "confint = np.percentile(means, [2.5, 97.5])\n",
        "print(confint)"
      ]
    }
  ],
  "metadata": {
    "kernelspec": {
      "display_name": "Python 3",
      "language": "python",
      "name": "python3"
    },
    "language_info": {
      "codemirror_mode": {
        "name": "ipython",
        "version": 3
      },
      "file_extension": ".py",
      "mimetype": "text/x-python",
      "name": "python",
      "nbconvert_exporter": "python",
      "pygments_lexer": "ipython3",
      "version": "3.8.3"
    },
    "colab": {
      "provenance": [],
      "include_colab_link": true
    }
  },
  "nbformat": 4,
  "nbformat_minor": 0
}