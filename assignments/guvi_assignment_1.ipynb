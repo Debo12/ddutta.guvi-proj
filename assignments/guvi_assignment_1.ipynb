{
  "cells": [
    {
      "cell_type": "markdown",
      "metadata": {
        "id": "view-in-github",
        "colab_type": "text"
      },
      "source": [
        "<a href=\"https://colab.research.google.com/github/Debo12/ddutta.guvi-proj/blob/master/assignments/guvi_assignment_1.ipynb\" target=\"_parent\"><img src=\"https://colab.research.google.com/assets/colab-badge.svg\" alt=\"Open In Colab\"/></a>"
      ]
    },
    {
      "cell_type": "code",
      "execution_count": 1,
      "metadata": {
        "id": "sA9fNZj_y4Z2"
      },
      "outputs": [],
      "source": [
        "import re\n",
        "from google.colab import drive"
      ]
    },
    {
      "cell_type": "code",
      "execution_count": 2,
      "metadata": {
        "colab": {
          "base_uri": "https://localhost:8080/"
        },
        "id": "uSKA1NSJBncO",
        "outputId": "4ee753e6-720b-43ad-9479-6ed9ed921d75"
      },
      "outputs": [
        {
          "output_type": "stream",
          "name": "stdout",
          "text": [
            "Mounted at /content/drive\n"
          ]
        }
      ],
      "source": [
        "drive.mount('/content/drive', force_remount=True)"
      ]
    },
    {
      "cell_type": "code",
      "execution_count": 3,
      "metadata": {
        "id": "zgILKVDNyr1W"
      },
      "outputs": [],
      "source": [
        "class LoginSystem:\n",
        "  # Method for User Registration\n",
        "  def register(self):\n",
        "    print('Please register your username and password')\n",
        "    email = input('Enter your username: ')\n",
        "    password = input('Enter the password: ')\n",
        "    email_reg = '^[a-z0-9]+[\\._]?[a-z0-9]+[@]\\w+[.]\\w{2,3}$'\n",
        "    pwd_reg = \"^(?=.*[a-z])(?=.*[A-Z])(?=.*\\d)(?=.*[@$!%*#?&])[A-Za-z\\d@$!#%*?&]{5,16}$\"\n",
        "    pat = re.compile(pwd_reg)\n",
        "    email_mat = re.search(email_reg, email)             \n",
        "    pwd_mat = re.search(pat, password)\n",
        "\n",
        "    if(self.checkUser(email)):\n",
        "      print('User already exists')\n",
        "      self.login()\n",
        "    else:\n",
        "      if(pwd_mat and email_mat):\n",
        "        file = open('/content/drive/MyDrive/password.txt', 'a')\n",
        "        file.write('\\nUsername: '+email+', Password: '+password)\n",
        "        return 'Registered Successfully'\n",
        "      else:\n",
        "        return 'Please enter credential in correct format'\n",
        "      \n",
        "\n",
        "  \n",
        "  def checkUser(self, email):\n",
        "    file = open('/content/drive/MyDrive/password.txt', 'r')\n",
        "    for x in file:\n",
        "      if email in x:\n",
        "        return 1\n",
        "        break\n",
        "\n",
        "  # Method for User Log in\n",
        "  def login(self):\n",
        "    flag = 0\n",
        "    print('Please Login')\n",
        "    email = input('Enter your username: ')\n",
        "    password = input('Enter the password: ')\n",
        "\n",
        "    file = open('/content/drive/MyDrive/password.txt', 'r')\n",
        "    for x in file:\n",
        "      if(self.checkUser(email)):\n",
        "        if email in x and password in x:\n",
        "          flag = 1\n",
        "          break\n",
        "      else:\n",
        "        print('User doesn\\'t exist')\n",
        "        self.register()\n",
        "        \n",
        "\n",
        "    if(flag == 1):\n",
        "      print('Successfully logged in!!!')\n",
        "    else:\n",
        "      print('Username or password is incorrect')\n",
        "      self.register()\n",
        "\n",
        "  # Method for Forgot Password\n",
        "  def forgotPassword(self):\n",
        "    flag = 0\n",
        "    email = input('Enter your username: ')\n",
        "    pwd = ''\n",
        "\n",
        "    file = open('/content/drive/MyDrive/password.txt', 'r')\n",
        "    for x in file:\n",
        "      if email in x:\n",
        "        pwd = x.split(\"Password: \",1)[1]\n",
        "        print('Your password is: '+pwd)\n",
        "        flag = 1\n",
        "        break\n",
        "    \n",
        "    if(flag==0):\n",
        "      self.register()\n"
      ]
    },
    {
      "cell_type": "code",
      "execution_count": 4,
      "metadata": {
        "id": "RJgXmB20w8hR",
        "colab": {
          "base_uri": "https://localhost:8080/"
        },
        "outputId": "0aa80229-ec9a-4bbf-9ae0-17851054499a"
      },
      "outputs": [
        {
          "output_type": "stream",
          "name": "stdout",
          "text": [
            "Enter your choice: \n",
            "\n",
            " 1.Register\n",
            "\n",
            " 2.Login\n",
            "\n",
            " 3.Forgot password\n"
          ]
        }
      ],
      "source": [
        "print('Enter your choice: ')\n",
        "print('\\n 1.Register')\n",
        "print('\\n 2.Login')\n",
        "print('\\n 3.Forgot password')"
      ]
    },
    {
      "cell_type": "code",
      "execution_count": 5,
      "metadata": {
        "id": "d1gjvSb3x40F",
        "colab": {
          "base_uri": "https://localhost:8080/"
        },
        "outputId": "c513bda9-802f-4fab-cc64-74c8bfcebee5"
      },
      "outputs": [
        {
          "name": "stdout",
          "output_type": "stream",
          "text": [
            "3\n",
            "Enter your username: debo@gmail.com\n",
            "Your password is: Kolkata@123\n",
            "1\n",
            "Please register your username and password\n",
            "Enter your username: debo@gmail.com\n",
            "Enter the password: Kolkata@123\n",
            "User already exists\n",
            "Please Login\n",
            "Enter your username: debo@gmail.com\n",
            "Enter the password: Kolkata@123\n",
            "Successfully logged in!!!\n",
            "None\n",
            "4\n"
          ]
        }
      ],
      "source": [
        "loginSystem = LoginSystem()\n",
        "flag = 0\n",
        "while(flag != 1):\n",
        "  choice = int(input())\n",
        "  if(choice == 1):\n",
        "    response = loginSystem.register()\n",
        "    print(response)\n",
        "  elif(choice == 2):\n",
        "    loginSystem.login()\n",
        "  elif(choice == 3):\n",
        "    loginSystem.forgotPassword()\n",
        "  else:\n",
        "    flag = 1"
      ]
    }
  ],
  "metadata": {
    "colab": {
      "provenance": [],
      "authorship_tag": "ABX9TyMt1JW0wn3zZY8rY+f1cobl",
      "include_colab_link": true
    },
    "kernelspec": {
      "display_name": "Python 3",
      "name": "python3"
    },
    "language_info": {
      "name": "python"
    }
  },
  "nbformat": 4,
  "nbformat_minor": 0
}