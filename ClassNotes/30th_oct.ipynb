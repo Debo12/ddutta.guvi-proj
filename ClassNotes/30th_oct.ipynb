{
  "nbformat": 4,
  "nbformat_minor": 0,
  "metadata": {
    "colab": {
      "provenance": [],
      "authorship_tag": "ABX9TyMSs+OifZFckvWT6uacr7nN",
      "include_colab_link": true
    },
    "kernelspec": {
      "name": "python3",
      "display_name": "Python 3"
    },
    "language_info": {
      "name": "python"
    }
  },
  "cells": [
    {
      "cell_type": "markdown",
      "metadata": {
        "id": "view-in-github",
        "colab_type": "text"
      },
      "source": [
        "<a href=\"https://colab.research.google.com/github/Debo12/ddutta.guvi-proj/blob/master/ClassNotes/30th_oct.ipynb\" target=\"_parent\"><img src=\"https://colab.research.google.com/assets/colab-badge.svg\" alt=\"Open In Colab\"/></a>"
      ]
    },
    {
      "cell_type": "markdown",
      "source": [
        "# Pickling"
      ],
      "metadata": {
        "id": "QuOzrlae1CyA"
      }
    },
    {
      "cell_type": "code",
      "execution_count": null,
      "metadata": {
        "id": "NG9mUihP2jtS"
      },
      "outputs": [],
      "source": [
        "import pickle"
      ]
    },
    {
      "cell_type": "code",
      "source": [
        "list_1 = ['sachin', 'virat', 'dravid']"
      ],
      "metadata": {
        "id": "4oqrijSf3diq"
      },
      "execution_count": null,
      "outputs": []
    },
    {
      "cell_type": "code",
      "source": [
        "from google.colab import drive\n",
        "drive.mount('/content/drive')"
      ],
      "metadata": {
        "colab": {
          "base_uri": "https://localhost:8080/"
        },
        "id": "S9dFGNgk3q2h",
        "outputId": "407016d1-6334-4e6d-88f9-cb862ef5761a"
      },
      "execution_count": null,
      "outputs": [
        {
          "output_type": "stream",
          "name": "stdout",
          "text": [
            "Mounted at /content/drive\n"
          ]
        }
      ]
    },
    {
      "cell_type": "code",
      "source": [
        "with open('/content/drive/MyDrive/Guvi/Class Notes/30th Oct/my_data.pickle', 'wb') as file_handle:\n",
        "  pickle.dump(list_1, file_handle)"
      ],
      "metadata": {
        "id": "HaJYqpq94IUp"
      },
      "execution_count": null,
      "outputs": []
    },
    {
      "cell_type": "code",
      "source": [
        "with open('/content/drive/MyDrive/Guvi/Class Notes/30th Oct/my_data.pickle', 'rb') as file_handle:\n",
        "  read_data = pickle.load(file_handle)\n",
        "  print(read_data)"
      ],
      "metadata": {
        "colab": {
          "base_uri": "https://localhost:8080/"
        },
        "id": "ve3IKU-_4r6i",
        "outputId": "e3de4d6f-76ed-4122-a877-0c15a2e390cb"
      },
      "execution_count": null,
      "outputs": [
        {
          "output_type": "stream",
          "name": "stdout",
          "text": [
            "['sachin', 'virat', 'dravid']\n"
          ]
        }
      ]
    },
    {
      "cell_type": "code",
      "source": [
        "def writing_data():\n",
        "  read_data = ['sachin', 'virat', 'dravid']\n",
        "  with open('/content/drive/MyDrive/Guvi/Class Notes/30th Oct/my_data_1.pickle', 'wb') as file_handle:\n",
        "    pickle.dump(read_data, file_handle)"
      ],
      "metadata": {
        "id": "BYVp5JK4Ar_u"
      },
      "execution_count": null,
      "outputs": []
    },
    {
      "cell_type": "code",
      "source": [
        "writing_data()"
      ],
      "metadata": {
        "id": "QMjF9SdwBE28"
      },
      "execution_count": null,
      "outputs": []
    },
    {
      "cell_type": "markdown",
      "source": [
        "# Handling JSON Data"
      ],
      "metadata": {
        "id": "b3oZP5fLzbXt"
      }
    },
    {
      "cell_type": "code",
      "source": [
        "import json"
      ],
      "metadata": {
        "id": "z_xJ1IEd5Htq"
      },
      "execution_count": null,
      "outputs": []
    },
    {
      "cell_type": "code",
      "source": [
        "my_data = \"\"\"{\n",
        "\"article\" :[\n",
        "        {\n",
        "            \"id\":\"10\",\n",
        "            \"player\":\"sachin\",\n",
        "            \"type\":\"batsman\"\n",
        "        },\n",
        "        {\n",
        "            \"id\":\"18\",\n",
        "            \"player\":\"virat\",\n",
        "            \"type\":\"batsman\"\n",
        "        }\n",
        "    ]\n",
        "}\"\"\""
      ],
      "metadata": {
        "id": "VUqO2I9pzfrX"
      },
      "execution_count": null,
      "outputs": []
    },
    {
      "cell_type": "code",
      "source": [
        "my_data"
      ],
      "metadata": {
        "colab": {
          "base_uri": "https://localhost:8080/",
          "height": 53
        },
        "id": "uUIJWdyw0jV-",
        "outputId": "72500980-ded2-4c04-9cb1-e79be3292d5b"
      },
      "execution_count": null,
      "outputs": [
        {
          "output_type": "execute_result",
          "data": {
            "text/plain": [
              "'{\\n\"article\" :[\\n        {\\n            \"id\":\"10\",\\n            \"player\":\"sachin\",\\n            \"type\":\"batsman\"\\n        },\\n        {\\n            \"id\":\"18\",\\n            \"player\":\"virat\",\\n            \"type\":\"batsman\"\\n        }\\n    ]\\n}'"
            ],
            "application/vnd.google.colaboratory.intrinsic+json": {
              "type": "string"
            }
          },
          "metadata": {},
          "execution_count": 10
        }
      ]
    },
    {
      "cell_type": "code",
      "source": [
        "# Converting JSON data to JSON object\n",
        "to_data = json.loads(my_data)"
      ],
      "metadata": {
        "id": "HbBlztaD0kps"
      },
      "execution_count": null,
      "outputs": []
    },
    {
      "cell_type": "code",
      "source": [
        "to_data"
      ],
      "metadata": {
        "colab": {
          "base_uri": "https://localhost:8080/"
        },
        "id": "Pq4pjB-_0t9k",
        "outputId": "cdc2de8c-658e-478d-cacf-d948d6c026e9"
      },
      "execution_count": null,
      "outputs": [
        {
          "output_type": "execute_result",
          "data": {
            "text/plain": [
              "{'article': [{'id': '10', 'player': 'sachin', 'type': 'batsman'},\n",
              "  {'id': '18', 'player': 'virat', 'type': 'batsman'}]}"
            ]
          },
          "metadata": {},
          "execution_count": 12
        }
      ]
    },
    {
      "cell_type": "code",
      "source": [
        "to_data['article']"
      ],
      "metadata": {
        "colab": {
          "base_uri": "https://localhost:8080/"
        },
        "id": "ICxcCT-91rVP",
        "outputId": "b48684a1-9001-4c74-e8c1-740898f377fe"
      },
      "execution_count": null,
      "outputs": [
        {
          "output_type": "execute_result",
          "data": {
            "text/plain": [
              "[{'id': '10', 'player': 'sachin', 'type': 'batsman'},\n",
              " {'id': '18', 'player': 'virat', 'type': 'batsman'}]"
            ]
          },
          "metadata": {},
          "execution_count": 13
        }
      ]
    },
    {
      "cell_type": "code",
      "source": [
        "type(to_data['article'])"
      ],
      "metadata": {
        "colab": {
          "base_uri": "https://localhost:8080/"
        },
        "id": "iYStqosT1_LN",
        "outputId": "a2cad287-4593-4ddf-ae5a-284c4a9e8390"
      },
      "execution_count": null,
      "outputs": [
        {
          "output_type": "execute_result",
          "data": {
            "text/plain": [
              "list"
            ]
          },
          "metadata": {},
          "execution_count": 14
        }
      ]
    },
    {
      "cell_type": "code",
      "source": [
        "# Converting JSON object into JSON data\n",
        "another_data = {'cricket':\"indian_cric\", 'name':\"test_team\"}\n",
        "to_json = json.dumps(another_data)"
      ],
      "metadata": {
        "id": "CEYMF8Ys2Bv-"
      },
      "execution_count": null,
      "outputs": []
    },
    {
      "cell_type": "code",
      "source": [
        "to_json"
      ],
      "metadata": {
        "colab": {
          "base_uri": "https://localhost:8080/",
          "height": 36
        },
        "id": "yy_EejfF2iNL",
        "outputId": "92370253-26f0-4db5-820f-f06bcc5c75e3"
      },
      "execution_count": null,
      "outputs": [
        {
          "output_type": "execute_result",
          "data": {
            "text/plain": [
              "'{\"cricket\": \"indian_cric\", \"name\": \"test_team\"}'"
            ],
            "application/vnd.google.colaboratory.intrinsic+json": {
              "type": "string"
            }
          },
          "metadata": {},
          "execution_count": 16
        }
      ]
    },
    {
      "cell_type": "code",
      "source": [
        "# Save JSON object into a file\n",
        "with open('/content/drive/MyDrive/Guvi/Class Notes/30th Oct/cricket_2.json', 'w') as file:\n",
        "  json.dump(to_data, file)"
      ],
      "metadata": {
        "id": "z6ARa5e_2kRr"
      },
      "execution_count": null,
      "outputs": []
    },
    {
      "cell_type": "code",
      "source": [
        "# Read from a JSON file\n",
        "with open('/content/drive/MyDrive/Guvi/Class Notes/30th Oct/cricket_2.json', 'r') as file:\n",
        "  json_data = json.load(file)\n",
        "  print(json_data)"
      ],
      "metadata": {
        "colab": {
          "base_uri": "https://localhost:8080/"
        },
        "id": "WIihGRvD3X5y",
        "outputId": "1800dbd0-3a0b-4789-a2e7-5fcd9d83a1a9"
      },
      "execution_count": null,
      "outputs": [
        {
          "output_type": "stream",
          "name": "stdout",
          "text": [
            "{'article': [{'id': '10', 'player': 'sachin', 'type': 'batsman'}, {'id': '18', 'player': 'virat', 'type': 'batsman'}]}\n"
          ]
        }
      ]
    },
    {
      "cell_type": "markdown",
      "source": [
        "# Pandas Fundamentals"
      ],
      "metadata": {
        "id": "9Z2O9sTREtHm"
      }
    },
    {
      "cell_type": "code",
      "source": [
        "import pandas as pd"
      ],
      "metadata": {
        "id": "SYIUwVIs5g9z"
      },
      "execution_count": null,
      "outputs": []
    },
    {
      "cell_type": "code",
      "source": [
        "# Read JSON from github\n",
        "df = pd.read_json('https://api.github.com/users')"
      ],
      "metadata": {
        "id": "9odqRg2t4LMe"
      },
      "execution_count": null,
      "outputs": []
    },
    {
      "cell_type": "code",
      "source": [
        "df.head()"
      ],
      "metadata": {
        "colab": {
          "base_uri": "https://localhost:8080/",
          "height": 357
        },
        "id": "8DR8i_Tf5cu3",
        "outputId": "debe917e-de00-4fe8-a705-65020cd468e3"
      },
      "execution_count": null,
      "outputs": [
        {
          "output_type": "execute_result",
          "data": {
            "text/plain": [
              "      login  id       node_id                                     avatar_url  \\\n",
              "0   mojombo   1  MDQ6VXNlcjE=  https://avatars.githubusercontent.com/u/1?v=4   \n",
              "1   defunkt   2  MDQ6VXNlcjI=  https://avatars.githubusercontent.com/u/2?v=4   \n",
              "2   pjhyett   3  MDQ6VXNlcjM=  https://avatars.githubusercontent.com/u/3?v=4   \n",
              "3    wycats   4  MDQ6VXNlcjQ=  https://avatars.githubusercontent.com/u/4?v=4   \n",
              "4  ezmobius   5  MDQ6VXNlcjU=  https://avatars.githubusercontent.com/u/5?v=4   \n",
              "\n",
              "  gravatar_id                                    url  \\\n",
              "0               https://api.github.com/users/mojombo   \n",
              "1               https://api.github.com/users/defunkt   \n",
              "2               https://api.github.com/users/pjhyett   \n",
              "3                https://api.github.com/users/wycats   \n",
              "4              https://api.github.com/users/ezmobius   \n",
              "\n",
              "                      html_url  \\\n",
              "0   https://github.com/mojombo   \n",
              "1   https://github.com/defunkt   \n",
              "2   https://github.com/pjhyett   \n",
              "3    https://github.com/wycats   \n",
              "4  https://github.com/ezmobius   \n",
              "\n",
              "                                     followers_url  \\\n",
              "0   https://api.github.com/users/mojombo/followers   \n",
              "1   https://api.github.com/users/defunkt/followers   \n",
              "2   https://api.github.com/users/pjhyett/followers   \n",
              "3    https://api.github.com/users/wycats/followers   \n",
              "4  https://api.github.com/users/ezmobius/followers   \n",
              "\n",
              "                                       following_url  \\\n",
              "0  https://api.github.com/users/mojombo/following...   \n",
              "1  https://api.github.com/users/defunkt/following...   \n",
              "2  https://api.github.com/users/pjhyett/following...   \n",
              "3  https://api.github.com/users/wycats/following{...   \n",
              "4  https://api.github.com/users/ezmobius/followin...   \n",
              "\n",
              "                                           gists_url  \\\n",
              "0  https://api.github.com/users/mojombo/gists{/gi...   \n",
              "1  https://api.github.com/users/defunkt/gists{/gi...   \n",
              "2  https://api.github.com/users/pjhyett/gists{/gi...   \n",
              "3  https://api.github.com/users/wycats/gists{/gis...   \n",
              "4  https://api.github.com/users/ezmobius/gists{/g...   \n",
              "\n",
              "                                         starred_url  \\\n",
              "0  https://api.github.com/users/mojombo/starred{/...   \n",
              "1  https://api.github.com/users/defunkt/starred{/...   \n",
              "2  https://api.github.com/users/pjhyett/starred{/...   \n",
              "3  https://api.github.com/users/wycats/starred{/o...   \n",
              "4  https://api.github.com/users/ezmobius/starred{...   \n",
              "\n",
              "                                   subscriptions_url  \\\n",
              "0  https://api.github.com/users/mojombo/subscript...   \n",
              "1  https://api.github.com/users/defunkt/subscript...   \n",
              "2  https://api.github.com/users/pjhyett/subscript...   \n",
              "3  https://api.github.com/users/wycats/subscriptions   \n",
              "4  https://api.github.com/users/ezmobius/subscrip...   \n",
              "\n",
              "                            organizations_url  \\\n",
              "0   https://api.github.com/users/mojombo/orgs   \n",
              "1   https://api.github.com/users/defunkt/orgs   \n",
              "2   https://api.github.com/users/pjhyett/orgs   \n",
              "3    https://api.github.com/users/wycats/orgs   \n",
              "4  https://api.github.com/users/ezmobius/orgs   \n",
              "\n",
              "                                     repos_url  \\\n",
              "0   https://api.github.com/users/mojombo/repos   \n",
              "1   https://api.github.com/users/defunkt/repos   \n",
              "2   https://api.github.com/users/pjhyett/repos   \n",
              "3    https://api.github.com/users/wycats/repos   \n",
              "4  https://api.github.com/users/ezmobius/repos   \n",
              "\n",
              "                                          events_url  \\\n",
              "0  https://api.github.com/users/mojombo/events{/p...   \n",
              "1  https://api.github.com/users/defunkt/events{/p...   \n",
              "2  https://api.github.com/users/pjhyett/events{/p...   \n",
              "3  https://api.github.com/users/wycats/events{/pr...   \n",
              "4  https://api.github.com/users/ezmobius/events{/...   \n",
              "\n",
              "                                 received_events_url  type  site_admin  \n",
              "0  https://api.github.com/users/mojombo/received_...  User       False  \n",
              "1  https://api.github.com/users/defunkt/received_...  User       False  \n",
              "2  https://api.github.com/users/pjhyett/received_...  User       False  \n",
              "3  https://api.github.com/users/wycats/received_e...  User       False  \n",
              "4  https://api.github.com/users/ezmobius/received...  User       False  "
            ],
            "text/html": [
              "\n",
              "  <div id=\"df-84ac6936-b493-4bdc-9242-738a82c6a244\">\n",
              "    <div class=\"colab-df-container\">\n",
              "      <div>\n",
              "<style scoped>\n",
              "    .dataframe tbody tr th:only-of-type {\n",
              "        vertical-align: middle;\n",
              "    }\n",
              "\n",
              "    .dataframe tbody tr th {\n",
              "        vertical-align: top;\n",
              "    }\n",
              "\n",
              "    .dataframe thead th {\n",
              "        text-align: right;\n",
              "    }\n",
              "</style>\n",
              "<table border=\"1\" class=\"dataframe\">\n",
              "  <thead>\n",
              "    <tr style=\"text-align: right;\">\n",
              "      <th></th>\n",
              "      <th>login</th>\n",
              "      <th>id</th>\n",
              "      <th>node_id</th>\n",
              "      <th>avatar_url</th>\n",
              "      <th>gravatar_id</th>\n",
              "      <th>url</th>\n",
              "      <th>html_url</th>\n",
              "      <th>followers_url</th>\n",
              "      <th>following_url</th>\n",
              "      <th>gists_url</th>\n",
              "      <th>starred_url</th>\n",
              "      <th>subscriptions_url</th>\n",
              "      <th>organizations_url</th>\n",
              "      <th>repos_url</th>\n",
              "      <th>events_url</th>\n",
              "      <th>received_events_url</th>\n",
              "      <th>type</th>\n",
              "      <th>site_admin</th>\n",
              "    </tr>\n",
              "  </thead>\n",
              "  <tbody>\n",
              "    <tr>\n",
              "      <th>0</th>\n",
              "      <td>mojombo</td>\n",
              "      <td>1</td>\n",
              "      <td>MDQ6VXNlcjE=</td>\n",
              "      <td>https://avatars.githubusercontent.com/u/1?v=4</td>\n",
              "      <td></td>\n",
              "      <td>https://api.github.com/users/mojombo</td>\n",
              "      <td>https://github.com/mojombo</td>\n",
              "      <td>https://api.github.com/users/mojombo/followers</td>\n",
              "      <td>https://api.github.com/users/mojombo/following...</td>\n",
              "      <td>https://api.github.com/users/mojombo/gists{/gi...</td>\n",
              "      <td>https://api.github.com/users/mojombo/starred{/...</td>\n",
              "      <td>https://api.github.com/users/mojombo/subscript...</td>\n",
              "      <td>https://api.github.com/users/mojombo/orgs</td>\n",
              "      <td>https://api.github.com/users/mojombo/repos</td>\n",
              "      <td>https://api.github.com/users/mojombo/events{/p...</td>\n",
              "      <td>https://api.github.com/users/mojombo/received_...</td>\n",
              "      <td>User</td>\n",
              "      <td>False</td>\n",
              "    </tr>\n",
              "    <tr>\n",
              "      <th>1</th>\n",
              "      <td>defunkt</td>\n",
              "      <td>2</td>\n",
              "      <td>MDQ6VXNlcjI=</td>\n",
              "      <td>https://avatars.githubusercontent.com/u/2?v=4</td>\n",
              "      <td></td>\n",
              "      <td>https://api.github.com/users/defunkt</td>\n",
              "      <td>https://github.com/defunkt</td>\n",
              "      <td>https://api.github.com/users/defunkt/followers</td>\n",
              "      <td>https://api.github.com/users/defunkt/following...</td>\n",
              "      <td>https://api.github.com/users/defunkt/gists{/gi...</td>\n",
              "      <td>https://api.github.com/users/defunkt/starred{/...</td>\n",
              "      <td>https://api.github.com/users/defunkt/subscript...</td>\n",
              "      <td>https://api.github.com/users/defunkt/orgs</td>\n",
              "      <td>https://api.github.com/users/defunkt/repos</td>\n",
              "      <td>https://api.github.com/users/defunkt/events{/p...</td>\n",
              "      <td>https://api.github.com/users/defunkt/received_...</td>\n",
              "      <td>User</td>\n",
              "      <td>False</td>\n",
              "    </tr>\n",
              "    <tr>\n",
              "      <th>2</th>\n",
              "      <td>pjhyett</td>\n",
              "      <td>3</td>\n",
              "      <td>MDQ6VXNlcjM=</td>\n",
              "      <td>https://avatars.githubusercontent.com/u/3?v=4</td>\n",
              "      <td></td>\n",
              "      <td>https://api.github.com/users/pjhyett</td>\n",
              "      <td>https://github.com/pjhyett</td>\n",
              "      <td>https://api.github.com/users/pjhyett/followers</td>\n",
              "      <td>https://api.github.com/users/pjhyett/following...</td>\n",
              "      <td>https://api.github.com/users/pjhyett/gists{/gi...</td>\n",
              "      <td>https://api.github.com/users/pjhyett/starred{/...</td>\n",
              "      <td>https://api.github.com/users/pjhyett/subscript...</td>\n",
              "      <td>https://api.github.com/users/pjhyett/orgs</td>\n",
              "      <td>https://api.github.com/users/pjhyett/repos</td>\n",
              "      <td>https://api.github.com/users/pjhyett/events{/p...</td>\n",
              "      <td>https://api.github.com/users/pjhyett/received_...</td>\n",
              "      <td>User</td>\n",
              "      <td>False</td>\n",
              "    </tr>\n",
              "    <tr>\n",
              "      <th>3</th>\n",
              "      <td>wycats</td>\n",
              "      <td>4</td>\n",
              "      <td>MDQ6VXNlcjQ=</td>\n",
              "      <td>https://avatars.githubusercontent.com/u/4?v=4</td>\n",
              "      <td></td>\n",
              "      <td>https://api.github.com/users/wycats</td>\n",
              "      <td>https://github.com/wycats</td>\n",
              "      <td>https://api.github.com/users/wycats/followers</td>\n",
              "      <td>https://api.github.com/users/wycats/following{...</td>\n",
              "      <td>https://api.github.com/users/wycats/gists{/gis...</td>\n",
              "      <td>https://api.github.com/users/wycats/starred{/o...</td>\n",
              "      <td>https://api.github.com/users/wycats/subscriptions</td>\n",
              "      <td>https://api.github.com/users/wycats/orgs</td>\n",
              "      <td>https://api.github.com/users/wycats/repos</td>\n",
              "      <td>https://api.github.com/users/wycats/events{/pr...</td>\n",
              "      <td>https://api.github.com/users/wycats/received_e...</td>\n",
              "      <td>User</td>\n",
              "      <td>False</td>\n",
              "    </tr>\n",
              "    <tr>\n",
              "      <th>4</th>\n",
              "      <td>ezmobius</td>\n",
              "      <td>5</td>\n",
              "      <td>MDQ6VXNlcjU=</td>\n",
              "      <td>https://avatars.githubusercontent.com/u/5?v=4</td>\n",
              "      <td></td>\n",
              "      <td>https://api.github.com/users/ezmobius</td>\n",
              "      <td>https://github.com/ezmobius</td>\n",
              "      <td>https://api.github.com/users/ezmobius/followers</td>\n",
              "      <td>https://api.github.com/users/ezmobius/followin...</td>\n",
              "      <td>https://api.github.com/users/ezmobius/gists{/g...</td>\n",
              "      <td>https://api.github.com/users/ezmobius/starred{...</td>\n",
              "      <td>https://api.github.com/users/ezmobius/subscrip...</td>\n",
              "      <td>https://api.github.com/users/ezmobius/orgs</td>\n",
              "      <td>https://api.github.com/users/ezmobius/repos</td>\n",
              "      <td>https://api.github.com/users/ezmobius/events{/...</td>\n",
              "      <td>https://api.github.com/users/ezmobius/received...</td>\n",
              "      <td>User</td>\n",
              "      <td>False</td>\n",
              "    </tr>\n",
              "  </tbody>\n",
              "</table>\n",
              "</div>\n",
              "      <button class=\"colab-df-convert\" onclick=\"convertToInteractive('df-84ac6936-b493-4bdc-9242-738a82c6a244')\"\n",
              "              title=\"Convert this dataframe to an interactive table.\"\n",
              "              style=\"display:none;\">\n",
              "        \n",
              "  <svg xmlns=\"http://www.w3.org/2000/svg\" height=\"24px\"viewBox=\"0 0 24 24\"\n",
              "       width=\"24px\">\n",
              "    <path d=\"M0 0h24v24H0V0z\" fill=\"none\"/>\n",
              "    <path d=\"M18.56 5.44l.94 2.06.94-2.06 2.06-.94-2.06-.94-.94-2.06-.94 2.06-2.06.94zm-11 1L8.5 8.5l.94-2.06 2.06-.94-2.06-.94L8.5 2.5l-.94 2.06-2.06.94zm10 10l.94 2.06.94-2.06 2.06-.94-2.06-.94-.94-2.06-.94 2.06-2.06.94z\"/><path d=\"M17.41 7.96l-1.37-1.37c-.4-.4-.92-.59-1.43-.59-.52 0-1.04.2-1.43.59L10.3 9.45l-7.72 7.72c-.78.78-.78 2.05 0 2.83L4 21.41c.39.39.9.59 1.41.59.51 0 1.02-.2 1.41-.59l7.78-7.78 2.81-2.81c.8-.78.8-2.07 0-2.86zM5.41 20L4 18.59l7.72-7.72 1.47 1.35L5.41 20z\"/>\n",
              "  </svg>\n",
              "      </button>\n",
              "      \n",
              "  <style>\n",
              "    .colab-df-container {\n",
              "      display:flex;\n",
              "      flex-wrap:wrap;\n",
              "      gap: 12px;\n",
              "    }\n",
              "\n",
              "    .colab-df-convert {\n",
              "      background-color: #E8F0FE;\n",
              "      border: none;\n",
              "      border-radius: 50%;\n",
              "      cursor: pointer;\n",
              "      display: none;\n",
              "      fill: #1967D2;\n",
              "      height: 32px;\n",
              "      padding: 0 0 0 0;\n",
              "      width: 32px;\n",
              "    }\n",
              "\n",
              "    .colab-df-convert:hover {\n",
              "      background-color: #E2EBFA;\n",
              "      box-shadow: 0px 1px 2px rgba(60, 64, 67, 0.3), 0px 1px 3px 1px rgba(60, 64, 67, 0.15);\n",
              "      fill: #174EA6;\n",
              "    }\n",
              "\n",
              "    [theme=dark] .colab-df-convert {\n",
              "      background-color: #3B4455;\n",
              "      fill: #D2E3FC;\n",
              "    }\n",
              "\n",
              "    [theme=dark] .colab-df-convert:hover {\n",
              "      background-color: #434B5C;\n",
              "      box-shadow: 0px 1px 3px 1px rgba(0, 0, 0, 0.15);\n",
              "      filter: drop-shadow(0px 1px 2px rgba(0, 0, 0, 0.3));\n",
              "      fill: #FFFFFF;\n",
              "    }\n",
              "  </style>\n",
              "\n",
              "      <script>\n",
              "        const buttonEl =\n",
              "          document.querySelector('#df-84ac6936-b493-4bdc-9242-738a82c6a244 button.colab-df-convert');\n",
              "        buttonEl.style.display =\n",
              "          google.colab.kernel.accessAllowed ? 'block' : 'none';\n",
              "\n",
              "        async function convertToInteractive(key) {\n",
              "          const element = document.querySelector('#df-84ac6936-b493-4bdc-9242-738a82c6a244');\n",
              "          const dataTable =\n",
              "            await google.colab.kernel.invokeFunction('convertToInteractive',\n",
              "                                                     [key], {});\n",
              "          if (!dataTable) return;\n",
              "\n",
              "          const docLinkHtml = 'Like what you see? Visit the ' +\n",
              "            '<a target=\"_blank\" href=https://colab.research.google.com/notebooks/data_table.ipynb>data table notebook</a>'\n",
              "            + ' to learn more about interactive tables.';\n",
              "          element.innerHTML = '';\n",
              "          dataTable['output_type'] = 'display_data';\n",
              "          await google.colab.output.renderOutput(dataTable, element);\n",
              "          const docLink = document.createElement('div');\n",
              "          docLink.innerHTML = docLinkHtml;\n",
              "          element.appendChild(docLink);\n",
              "        }\n",
              "      </script>\n",
              "    </div>\n",
              "  </div>\n",
              "  "
            ]
          },
          "metadata": {},
          "execution_count": 21
        }
      ]
    },
    {
      "cell_type": "code",
      "source": [
        "df = pd.DataFrame(df)"
      ],
      "metadata": {
        "id": "x0x8XKE25ldG"
      },
      "execution_count": null,
      "outputs": []
    },
    {
      "cell_type": "code",
      "source": [
        "df.head()"
      ],
      "metadata": {
        "colab": {
          "base_uri": "https://localhost:8080/",
          "height": 357
        },
        "id": "wFp-0s8x5z12",
        "outputId": "46283021-cb34-4e02-c41a-549ebcaf43f3"
      },
      "execution_count": null,
      "outputs": [
        {
          "output_type": "execute_result",
          "data": {
            "text/plain": [
              "      login  id       node_id                                     avatar_url  \\\n",
              "0   mojombo   1  MDQ6VXNlcjE=  https://avatars.githubusercontent.com/u/1?v=4   \n",
              "1   defunkt   2  MDQ6VXNlcjI=  https://avatars.githubusercontent.com/u/2?v=4   \n",
              "2   pjhyett   3  MDQ6VXNlcjM=  https://avatars.githubusercontent.com/u/3?v=4   \n",
              "3    wycats   4  MDQ6VXNlcjQ=  https://avatars.githubusercontent.com/u/4?v=4   \n",
              "4  ezmobius   5  MDQ6VXNlcjU=  https://avatars.githubusercontent.com/u/5?v=4   \n",
              "\n",
              "  gravatar_id                                    url  \\\n",
              "0               https://api.github.com/users/mojombo   \n",
              "1               https://api.github.com/users/defunkt   \n",
              "2               https://api.github.com/users/pjhyett   \n",
              "3                https://api.github.com/users/wycats   \n",
              "4              https://api.github.com/users/ezmobius   \n",
              "\n",
              "                      html_url  \\\n",
              "0   https://github.com/mojombo   \n",
              "1   https://github.com/defunkt   \n",
              "2   https://github.com/pjhyett   \n",
              "3    https://github.com/wycats   \n",
              "4  https://github.com/ezmobius   \n",
              "\n",
              "                                     followers_url  \\\n",
              "0   https://api.github.com/users/mojombo/followers   \n",
              "1   https://api.github.com/users/defunkt/followers   \n",
              "2   https://api.github.com/users/pjhyett/followers   \n",
              "3    https://api.github.com/users/wycats/followers   \n",
              "4  https://api.github.com/users/ezmobius/followers   \n",
              "\n",
              "                                       following_url  \\\n",
              "0  https://api.github.com/users/mojombo/following...   \n",
              "1  https://api.github.com/users/defunkt/following...   \n",
              "2  https://api.github.com/users/pjhyett/following...   \n",
              "3  https://api.github.com/users/wycats/following{...   \n",
              "4  https://api.github.com/users/ezmobius/followin...   \n",
              "\n",
              "                                           gists_url  \\\n",
              "0  https://api.github.com/users/mojombo/gists{/gi...   \n",
              "1  https://api.github.com/users/defunkt/gists{/gi...   \n",
              "2  https://api.github.com/users/pjhyett/gists{/gi...   \n",
              "3  https://api.github.com/users/wycats/gists{/gis...   \n",
              "4  https://api.github.com/users/ezmobius/gists{/g...   \n",
              "\n",
              "                                         starred_url  \\\n",
              "0  https://api.github.com/users/mojombo/starred{/...   \n",
              "1  https://api.github.com/users/defunkt/starred{/...   \n",
              "2  https://api.github.com/users/pjhyett/starred{/...   \n",
              "3  https://api.github.com/users/wycats/starred{/o...   \n",
              "4  https://api.github.com/users/ezmobius/starred{...   \n",
              "\n",
              "                                   subscriptions_url  \\\n",
              "0  https://api.github.com/users/mojombo/subscript...   \n",
              "1  https://api.github.com/users/defunkt/subscript...   \n",
              "2  https://api.github.com/users/pjhyett/subscript...   \n",
              "3  https://api.github.com/users/wycats/subscriptions   \n",
              "4  https://api.github.com/users/ezmobius/subscrip...   \n",
              "\n",
              "                            organizations_url  \\\n",
              "0   https://api.github.com/users/mojombo/orgs   \n",
              "1   https://api.github.com/users/defunkt/orgs   \n",
              "2   https://api.github.com/users/pjhyett/orgs   \n",
              "3    https://api.github.com/users/wycats/orgs   \n",
              "4  https://api.github.com/users/ezmobius/orgs   \n",
              "\n",
              "                                     repos_url  \\\n",
              "0   https://api.github.com/users/mojombo/repos   \n",
              "1   https://api.github.com/users/defunkt/repos   \n",
              "2   https://api.github.com/users/pjhyett/repos   \n",
              "3    https://api.github.com/users/wycats/repos   \n",
              "4  https://api.github.com/users/ezmobius/repos   \n",
              "\n",
              "                                          events_url  \\\n",
              "0  https://api.github.com/users/mojombo/events{/p...   \n",
              "1  https://api.github.com/users/defunkt/events{/p...   \n",
              "2  https://api.github.com/users/pjhyett/events{/p...   \n",
              "3  https://api.github.com/users/wycats/events{/pr...   \n",
              "4  https://api.github.com/users/ezmobius/events{/...   \n",
              "\n",
              "                                 received_events_url  type  site_admin  \n",
              "0  https://api.github.com/users/mojombo/received_...  User       False  \n",
              "1  https://api.github.com/users/defunkt/received_...  User       False  \n",
              "2  https://api.github.com/users/pjhyett/received_...  User       False  \n",
              "3  https://api.github.com/users/wycats/received_e...  User       False  \n",
              "4  https://api.github.com/users/ezmobius/received...  User       False  "
            ],
            "text/html": [
              "\n",
              "  <div id=\"df-d2b062f3-a2f7-4e95-9916-3c30dc052340\">\n",
              "    <div class=\"colab-df-container\">\n",
              "      <div>\n",
              "<style scoped>\n",
              "    .dataframe tbody tr th:only-of-type {\n",
              "        vertical-align: middle;\n",
              "    }\n",
              "\n",
              "    .dataframe tbody tr th {\n",
              "        vertical-align: top;\n",
              "    }\n",
              "\n",
              "    .dataframe thead th {\n",
              "        text-align: right;\n",
              "    }\n",
              "</style>\n",
              "<table border=\"1\" class=\"dataframe\">\n",
              "  <thead>\n",
              "    <tr style=\"text-align: right;\">\n",
              "      <th></th>\n",
              "      <th>login</th>\n",
              "      <th>id</th>\n",
              "      <th>node_id</th>\n",
              "      <th>avatar_url</th>\n",
              "      <th>gravatar_id</th>\n",
              "      <th>url</th>\n",
              "      <th>html_url</th>\n",
              "      <th>followers_url</th>\n",
              "      <th>following_url</th>\n",
              "      <th>gists_url</th>\n",
              "      <th>starred_url</th>\n",
              "      <th>subscriptions_url</th>\n",
              "      <th>organizations_url</th>\n",
              "      <th>repos_url</th>\n",
              "      <th>events_url</th>\n",
              "      <th>received_events_url</th>\n",
              "      <th>type</th>\n",
              "      <th>site_admin</th>\n",
              "    </tr>\n",
              "  </thead>\n",
              "  <tbody>\n",
              "    <tr>\n",
              "      <th>0</th>\n",
              "      <td>mojombo</td>\n",
              "      <td>1</td>\n",
              "      <td>MDQ6VXNlcjE=</td>\n",
              "      <td>https://avatars.githubusercontent.com/u/1?v=4</td>\n",
              "      <td></td>\n",
              "      <td>https://api.github.com/users/mojombo</td>\n",
              "      <td>https://github.com/mojombo</td>\n",
              "      <td>https://api.github.com/users/mojombo/followers</td>\n",
              "      <td>https://api.github.com/users/mojombo/following...</td>\n",
              "      <td>https://api.github.com/users/mojombo/gists{/gi...</td>\n",
              "      <td>https://api.github.com/users/mojombo/starred{/...</td>\n",
              "      <td>https://api.github.com/users/mojombo/subscript...</td>\n",
              "      <td>https://api.github.com/users/mojombo/orgs</td>\n",
              "      <td>https://api.github.com/users/mojombo/repos</td>\n",
              "      <td>https://api.github.com/users/mojombo/events{/p...</td>\n",
              "      <td>https://api.github.com/users/mojombo/received_...</td>\n",
              "      <td>User</td>\n",
              "      <td>False</td>\n",
              "    </tr>\n",
              "    <tr>\n",
              "      <th>1</th>\n",
              "      <td>defunkt</td>\n",
              "      <td>2</td>\n",
              "      <td>MDQ6VXNlcjI=</td>\n",
              "      <td>https://avatars.githubusercontent.com/u/2?v=4</td>\n",
              "      <td></td>\n",
              "      <td>https://api.github.com/users/defunkt</td>\n",
              "      <td>https://github.com/defunkt</td>\n",
              "      <td>https://api.github.com/users/defunkt/followers</td>\n",
              "      <td>https://api.github.com/users/defunkt/following...</td>\n",
              "      <td>https://api.github.com/users/defunkt/gists{/gi...</td>\n",
              "      <td>https://api.github.com/users/defunkt/starred{/...</td>\n",
              "      <td>https://api.github.com/users/defunkt/subscript...</td>\n",
              "      <td>https://api.github.com/users/defunkt/orgs</td>\n",
              "      <td>https://api.github.com/users/defunkt/repos</td>\n",
              "      <td>https://api.github.com/users/defunkt/events{/p...</td>\n",
              "      <td>https://api.github.com/users/defunkt/received_...</td>\n",
              "      <td>User</td>\n",
              "      <td>False</td>\n",
              "    </tr>\n",
              "    <tr>\n",
              "      <th>2</th>\n",
              "      <td>pjhyett</td>\n",
              "      <td>3</td>\n",
              "      <td>MDQ6VXNlcjM=</td>\n",
              "      <td>https://avatars.githubusercontent.com/u/3?v=4</td>\n",
              "      <td></td>\n",
              "      <td>https://api.github.com/users/pjhyett</td>\n",
              "      <td>https://github.com/pjhyett</td>\n",
              "      <td>https://api.github.com/users/pjhyett/followers</td>\n",
              "      <td>https://api.github.com/users/pjhyett/following...</td>\n",
              "      <td>https://api.github.com/users/pjhyett/gists{/gi...</td>\n",
              "      <td>https://api.github.com/users/pjhyett/starred{/...</td>\n",
              "      <td>https://api.github.com/users/pjhyett/subscript...</td>\n",
              "      <td>https://api.github.com/users/pjhyett/orgs</td>\n",
              "      <td>https://api.github.com/users/pjhyett/repos</td>\n",
              "      <td>https://api.github.com/users/pjhyett/events{/p...</td>\n",
              "      <td>https://api.github.com/users/pjhyett/received_...</td>\n",
              "      <td>User</td>\n",
              "      <td>False</td>\n",
              "    </tr>\n",
              "    <tr>\n",
              "      <th>3</th>\n",
              "      <td>wycats</td>\n",
              "      <td>4</td>\n",
              "      <td>MDQ6VXNlcjQ=</td>\n",
              "      <td>https://avatars.githubusercontent.com/u/4?v=4</td>\n",
              "      <td></td>\n",
              "      <td>https://api.github.com/users/wycats</td>\n",
              "      <td>https://github.com/wycats</td>\n",
              "      <td>https://api.github.com/users/wycats/followers</td>\n",
              "      <td>https://api.github.com/users/wycats/following{...</td>\n",
              "      <td>https://api.github.com/users/wycats/gists{/gis...</td>\n",
              "      <td>https://api.github.com/users/wycats/starred{/o...</td>\n",
              "      <td>https://api.github.com/users/wycats/subscriptions</td>\n",
              "      <td>https://api.github.com/users/wycats/orgs</td>\n",
              "      <td>https://api.github.com/users/wycats/repos</td>\n",
              "      <td>https://api.github.com/users/wycats/events{/pr...</td>\n",
              "      <td>https://api.github.com/users/wycats/received_e...</td>\n",
              "      <td>User</td>\n",
              "      <td>False</td>\n",
              "    </tr>\n",
              "    <tr>\n",
              "      <th>4</th>\n",
              "      <td>ezmobius</td>\n",
              "      <td>5</td>\n",
              "      <td>MDQ6VXNlcjU=</td>\n",
              "      <td>https://avatars.githubusercontent.com/u/5?v=4</td>\n",
              "      <td></td>\n",
              "      <td>https://api.github.com/users/ezmobius</td>\n",
              "      <td>https://github.com/ezmobius</td>\n",
              "      <td>https://api.github.com/users/ezmobius/followers</td>\n",
              "      <td>https://api.github.com/users/ezmobius/followin...</td>\n",
              "      <td>https://api.github.com/users/ezmobius/gists{/g...</td>\n",
              "      <td>https://api.github.com/users/ezmobius/starred{...</td>\n",
              "      <td>https://api.github.com/users/ezmobius/subscrip...</td>\n",
              "      <td>https://api.github.com/users/ezmobius/orgs</td>\n",
              "      <td>https://api.github.com/users/ezmobius/repos</td>\n",
              "      <td>https://api.github.com/users/ezmobius/events{/...</td>\n",
              "      <td>https://api.github.com/users/ezmobius/received...</td>\n",
              "      <td>User</td>\n",
              "      <td>False</td>\n",
              "    </tr>\n",
              "  </tbody>\n",
              "</table>\n",
              "</div>\n",
              "      <button class=\"colab-df-convert\" onclick=\"convertToInteractive('df-d2b062f3-a2f7-4e95-9916-3c30dc052340')\"\n",
              "              title=\"Convert this dataframe to an interactive table.\"\n",
              "              style=\"display:none;\">\n",
              "        \n",
              "  <svg xmlns=\"http://www.w3.org/2000/svg\" height=\"24px\"viewBox=\"0 0 24 24\"\n",
              "       width=\"24px\">\n",
              "    <path d=\"M0 0h24v24H0V0z\" fill=\"none\"/>\n",
              "    <path d=\"M18.56 5.44l.94 2.06.94-2.06 2.06-.94-2.06-.94-.94-2.06-.94 2.06-2.06.94zm-11 1L8.5 8.5l.94-2.06 2.06-.94-2.06-.94L8.5 2.5l-.94 2.06-2.06.94zm10 10l.94 2.06.94-2.06 2.06-.94-2.06-.94-.94-2.06-.94 2.06-2.06.94z\"/><path d=\"M17.41 7.96l-1.37-1.37c-.4-.4-.92-.59-1.43-.59-.52 0-1.04.2-1.43.59L10.3 9.45l-7.72 7.72c-.78.78-.78 2.05 0 2.83L4 21.41c.39.39.9.59 1.41.59.51 0 1.02-.2 1.41-.59l7.78-7.78 2.81-2.81c.8-.78.8-2.07 0-2.86zM5.41 20L4 18.59l7.72-7.72 1.47 1.35L5.41 20z\"/>\n",
              "  </svg>\n",
              "      </button>\n",
              "      \n",
              "  <style>\n",
              "    .colab-df-container {\n",
              "      display:flex;\n",
              "      flex-wrap:wrap;\n",
              "      gap: 12px;\n",
              "    }\n",
              "\n",
              "    .colab-df-convert {\n",
              "      background-color: #E8F0FE;\n",
              "      border: none;\n",
              "      border-radius: 50%;\n",
              "      cursor: pointer;\n",
              "      display: none;\n",
              "      fill: #1967D2;\n",
              "      height: 32px;\n",
              "      padding: 0 0 0 0;\n",
              "      width: 32px;\n",
              "    }\n",
              "\n",
              "    .colab-df-convert:hover {\n",
              "      background-color: #E2EBFA;\n",
              "      box-shadow: 0px 1px 2px rgba(60, 64, 67, 0.3), 0px 1px 3px 1px rgba(60, 64, 67, 0.15);\n",
              "      fill: #174EA6;\n",
              "    }\n",
              "\n",
              "    [theme=dark] .colab-df-convert {\n",
              "      background-color: #3B4455;\n",
              "      fill: #D2E3FC;\n",
              "    }\n",
              "\n",
              "    [theme=dark] .colab-df-convert:hover {\n",
              "      background-color: #434B5C;\n",
              "      box-shadow: 0px 1px 3px 1px rgba(0, 0, 0, 0.15);\n",
              "      filter: drop-shadow(0px 1px 2px rgba(0, 0, 0, 0.3));\n",
              "      fill: #FFFFFF;\n",
              "    }\n",
              "  </style>\n",
              "\n",
              "      <script>\n",
              "        const buttonEl =\n",
              "          document.querySelector('#df-d2b062f3-a2f7-4e95-9916-3c30dc052340 button.colab-df-convert');\n",
              "        buttonEl.style.display =\n",
              "          google.colab.kernel.accessAllowed ? 'block' : 'none';\n",
              "\n",
              "        async function convertToInteractive(key) {\n",
              "          const element = document.querySelector('#df-d2b062f3-a2f7-4e95-9916-3c30dc052340');\n",
              "          const dataTable =\n",
              "            await google.colab.kernel.invokeFunction('convertToInteractive',\n",
              "                                                     [key], {});\n",
              "          if (!dataTable) return;\n",
              "\n",
              "          const docLinkHtml = 'Like what you see? Visit the ' +\n",
              "            '<a target=\"_blank\" href=https://colab.research.google.com/notebooks/data_table.ipynb>data table notebook</a>'\n",
              "            + ' to learn more about interactive tables.';\n",
              "          element.innerHTML = '';\n",
              "          dataTable['output_type'] = 'display_data';\n",
              "          await google.colab.output.renderOutput(dataTable, element);\n",
              "          const docLink = document.createElement('div');\n",
              "          docLink.innerHTML = docLinkHtml;\n",
              "          element.appendChild(docLink);\n",
              "        }\n",
              "      </script>\n",
              "    </div>\n",
              "  </div>\n",
              "  "
            ]
          },
          "metadata": {},
          "execution_count": 23
        }
      ]
    },
    {
      "cell_type": "code",
      "source": [
        "# Read from a JSON file using python\n",
        "with open('/content/drive/MyDrive/Guvi/Class Notes/30th Oct/superheroes.json', 'r') as file:\n",
        "  data = json.load(file)"
      ],
      "metadata": {
        "id": "M5SvknMY5190"
      },
      "execution_count": null,
      "outputs": []
    },
    {
      "cell_type": "code",
      "source": [
        "data.keys()"
      ],
      "metadata": {
        "colab": {
          "base_uri": "https://localhost:8080/"
        },
        "id": "WcwJQzyM7bCT",
        "outputId": "7826e4ed-a666-4dc5-abb4-200c7bb8b426"
      },
      "execution_count": null,
      "outputs": [
        {
          "output_type": "execute_result",
          "data": {
            "text/plain": [
              "dict_keys(['squadName', 'homeTown', 'formed', 'secretBase', 'active', 'members'])"
            ]
          },
          "metadata": {},
          "execution_count": 25
        }
      ]
    },
    {
      "cell_type": "code",
      "source": [
        "abc = data['members']\n",
        "abc"
      ],
      "metadata": {
        "colab": {
          "base_uri": "https://localhost:8080/"
        },
        "id": "PutmZuP_7eW_",
        "outputId": "4e56d9be-3854-4432-e830-d9959b1327d3"
      },
      "execution_count": null,
      "outputs": [
        {
          "output_type": "execute_result",
          "data": {
            "text/plain": [
              "[{'name': 'Molecule Man',\n",
              "  'age': 29,\n",
              "  'secretIdentity': 'Dan Jukes',\n",
              "  'powers': ['Radiation resistance', 'Turning tiny', 'Radiation blast']},\n",
              " {'name': 'Madame Uppercut',\n",
              "  'age': 39,\n",
              "  'secretIdentity': 'Jane Wilson',\n",
              "  'powers': ['Million tonne punch',\n",
              "   'Damage resistance',\n",
              "   'Superhuman reflexes']},\n",
              " {'name': 'Eternal Flame',\n",
              "  'age': 1000000,\n",
              "  'secretIdentity': 'Abhishek',\n",
              "  'powers': ['Immortality',\n",
              "   'Heat Immunity',\n",
              "   'Inferno',\n",
              "   'Teleportation',\n",
              "   'Interdimensional travel']}]"
            ]
          },
          "metadata": {},
          "execution_count": 26
        }
      ]
    },
    {
      "cell_type": "code",
      "source": [
        "# Read JSON file using Pandas\n",
        "df = pd.read_json('/content/drive/MyDrive/Guvi/Class Notes/30th Oct/superheroes.json')\n",
        "df.head()"
      ],
      "metadata": {
        "colab": {
          "base_uri": "https://localhost:8080/",
          "height": 143
        },
        "id": "ImkZd1S77mcG",
        "outputId": "912c113d-17d4-4545-91b9-76769993f73f"
      },
      "execution_count": null,
      "outputs": [
        {
          "output_type": "execute_result",
          "data": {
            "text/plain": [
              "          squadName    homeTown  formed   secretBase  active  \\\n",
              "0  Super Hero Squad  Metro City    2016  Super tower    True   \n",
              "1  Super Hero Squad  Metro City    2016  Super tower    True   \n",
              "2  Super Hero Squad  Metro City    2016  Super tower    True   \n",
              "\n",
              "                                             members  \n",
              "0  {'name': 'Molecule Man', 'age': 29, 'secretIde...  \n",
              "1  {'name': 'Madame Uppercut', 'age': 39, 'secret...  \n",
              "2  {'name': 'Eternal Flame', 'age': 1000000, 'sec...  "
            ],
            "text/html": [
              "\n",
              "  <div id=\"df-dc58d9da-fd20-49c2-8ca1-b3be6d500ffc\">\n",
              "    <div class=\"colab-df-container\">\n",
              "      <div>\n",
              "<style scoped>\n",
              "    .dataframe tbody tr th:only-of-type {\n",
              "        vertical-align: middle;\n",
              "    }\n",
              "\n",
              "    .dataframe tbody tr th {\n",
              "        vertical-align: top;\n",
              "    }\n",
              "\n",
              "    .dataframe thead th {\n",
              "        text-align: right;\n",
              "    }\n",
              "</style>\n",
              "<table border=\"1\" class=\"dataframe\">\n",
              "  <thead>\n",
              "    <tr style=\"text-align: right;\">\n",
              "      <th></th>\n",
              "      <th>squadName</th>\n",
              "      <th>homeTown</th>\n",
              "      <th>formed</th>\n",
              "      <th>secretBase</th>\n",
              "      <th>active</th>\n",
              "      <th>members</th>\n",
              "    </tr>\n",
              "  </thead>\n",
              "  <tbody>\n",
              "    <tr>\n",
              "      <th>0</th>\n",
              "      <td>Super Hero Squad</td>\n",
              "      <td>Metro City</td>\n",
              "      <td>2016</td>\n",
              "      <td>Super tower</td>\n",
              "      <td>True</td>\n",
              "      <td>{'name': 'Molecule Man', 'age': 29, 'secretIde...</td>\n",
              "    </tr>\n",
              "    <tr>\n",
              "      <th>1</th>\n",
              "      <td>Super Hero Squad</td>\n",
              "      <td>Metro City</td>\n",
              "      <td>2016</td>\n",
              "      <td>Super tower</td>\n",
              "      <td>True</td>\n",
              "      <td>{'name': 'Madame Uppercut', 'age': 39, 'secret...</td>\n",
              "    </tr>\n",
              "    <tr>\n",
              "      <th>2</th>\n",
              "      <td>Super Hero Squad</td>\n",
              "      <td>Metro City</td>\n",
              "      <td>2016</td>\n",
              "      <td>Super tower</td>\n",
              "      <td>True</td>\n",
              "      <td>{'name': 'Eternal Flame', 'age': 1000000, 'sec...</td>\n",
              "    </tr>\n",
              "  </tbody>\n",
              "</table>\n",
              "</div>\n",
              "      <button class=\"colab-df-convert\" onclick=\"convertToInteractive('df-dc58d9da-fd20-49c2-8ca1-b3be6d500ffc')\"\n",
              "              title=\"Convert this dataframe to an interactive table.\"\n",
              "              style=\"display:none;\">\n",
              "        \n",
              "  <svg xmlns=\"http://www.w3.org/2000/svg\" height=\"24px\"viewBox=\"0 0 24 24\"\n",
              "       width=\"24px\">\n",
              "    <path d=\"M0 0h24v24H0V0z\" fill=\"none\"/>\n",
              "    <path d=\"M18.56 5.44l.94 2.06.94-2.06 2.06-.94-2.06-.94-.94-2.06-.94 2.06-2.06.94zm-11 1L8.5 8.5l.94-2.06 2.06-.94-2.06-.94L8.5 2.5l-.94 2.06-2.06.94zm10 10l.94 2.06.94-2.06 2.06-.94-2.06-.94-.94-2.06-.94 2.06-2.06.94z\"/><path d=\"M17.41 7.96l-1.37-1.37c-.4-.4-.92-.59-1.43-.59-.52 0-1.04.2-1.43.59L10.3 9.45l-7.72 7.72c-.78.78-.78 2.05 0 2.83L4 21.41c.39.39.9.59 1.41.59.51 0 1.02-.2 1.41-.59l7.78-7.78 2.81-2.81c.8-.78.8-2.07 0-2.86zM5.41 20L4 18.59l7.72-7.72 1.47 1.35L5.41 20z\"/>\n",
              "  </svg>\n",
              "      </button>\n",
              "      \n",
              "  <style>\n",
              "    .colab-df-container {\n",
              "      display:flex;\n",
              "      flex-wrap:wrap;\n",
              "      gap: 12px;\n",
              "    }\n",
              "\n",
              "    .colab-df-convert {\n",
              "      background-color: #E8F0FE;\n",
              "      border: none;\n",
              "      border-radius: 50%;\n",
              "      cursor: pointer;\n",
              "      display: none;\n",
              "      fill: #1967D2;\n",
              "      height: 32px;\n",
              "      padding: 0 0 0 0;\n",
              "      width: 32px;\n",
              "    }\n",
              "\n",
              "    .colab-df-convert:hover {\n",
              "      background-color: #E2EBFA;\n",
              "      box-shadow: 0px 1px 2px rgba(60, 64, 67, 0.3), 0px 1px 3px 1px rgba(60, 64, 67, 0.15);\n",
              "      fill: #174EA6;\n",
              "    }\n",
              "\n",
              "    [theme=dark] .colab-df-convert {\n",
              "      background-color: #3B4455;\n",
              "      fill: #D2E3FC;\n",
              "    }\n",
              "\n",
              "    [theme=dark] .colab-df-convert:hover {\n",
              "      background-color: #434B5C;\n",
              "      box-shadow: 0px 1px 3px 1px rgba(0, 0, 0, 0.15);\n",
              "      filter: drop-shadow(0px 1px 2px rgba(0, 0, 0, 0.3));\n",
              "      fill: #FFFFFF;\n",
              "    }\n",
              "  </style>\n",
              "\n",
              "      <script>\n",
              "        const buttonEl =\n",
              "          document.querySelector('#df-dc58d9da-fd20-49c2-8ca1-b3be6d500ffc button.colab-df-convert');\n",
              "        buttonEl.style.display =\n",
              "          google.colab.kernel.accessAllowed ? 'block' : 'none';\n",
              "\n",
              "        async function convertToInteractive(key) {\n",
              "          const element = document.querySelector('#df-dc58d9da-fd20-49c2-8ca1-b3be6d500ffc');\n",
              "          const dataTable =\n",
              "            await google.colab.kernel.invokeFunction('convertToInteractive',\n",
              "                                                     [key], {});\n",
              "          if (!dataTable) return;\n",
              "\n",
              "          const docLinkHtml = 'Like what you see? Visit the ' +\n",
              "            '<a target=\"_blank\" href=https://colab.research.google.com/notebooks/data_table.ipynb>data table notebook</a>'\n",
              "            + ' to learn more about interactive tables.';\n",
              "          element.innerHTML = '';\n",
              "          dataTable['output_type'] = 'display_data';\n",
              "          await google.colab.output.renderOutput(dataTable, element);\n",
              "          const docLink = document.createElement('div');\n",
              "          docLink.innerHTML = docLinkHtml;\n",
              "          element.appendChild(docLink);\n",
              "        }\n",
              "      </script>\n",
              "    </div>\n",
              "  </div>\n",
              "  "
            ]
          },
          "metadata": {},
          "execution_count": 27
        }
      ]
    },
    {
      "cell_type": "code",
      "source": [
        "df['members'].apply(pd.Series)"
      ],
      "metadata": {
        "colab": {
          "base_uri": "https://localhost:8080/",
          "height": 143
        },
        "id": "WHjOjuh39C9y",
        "outputId": "899af05a-15c8-4811-e613-aae9396a57b4"
      },
      "execution_count": null,
      "outputs": [
        {
          "output_type": "execute_result",
          "data": {
            "text/plain": [
              "              name      age secretIdentity  \\\n",
              "0     Molecule Man       29      Dan Jukes   \n",
              "1  Madame Uppercut       39    Jane Wilson   \n",
              "2    Eternal Flame  1000000       Abhishek   \n",
              "\n",
              "                                              powers  \n",
              "0  [Radiation resistance, Turning tiny, Radiation...  \n",
              "1  [Million tonne punch, Damage resistance, Super...  \n",
              "2  [Immortality, Heat Immunity, Inferno, Teleport...  "
            ],
            "text/html": [
              "\n",
              "  <div id=\"df-d3fb5496-d842-4dd6-a2a0-7050c69b54ae\">\n",
              "    <div class=\"colab-df-container\">\n",
              "      <div>\n",
              "<style scoped>\n",
              "    .dataframe tbody tr th:only-of-type {\n",
              "        vertical-align: middle;\n",
              "    }\n",
              "\n",
              "    .dataframe tbody tr th {\n",
              "        vertical-align: top;\n",
              "    }\n",
              "\n",
              "    .dataframe thead th {\n",
              "        text-align: right;\n",
              "    }\n",
              "</style>\n",
              "<table border=\"1\" class=\"dataframe\">\n",
              "  <thead>\n",
              "    <tr style=\"text-align: right;\">\n",
              "      <th></th>\n",
              "      <th>name</th>\n",
              "      <th>age</th>\n",
              "      <th>secretIdentity</th>\n",
              "      <th>powers</th>\n",
              "    </tr>\n",
              "  </thead>\n",
              "  <tbody>\n",
              "    <tr>\n",
              "      <th>0</th>\n",
              "      <td>Molecule Man</td>\n",
              "      <td>29</td>\n",
              "      <td>Dan Jukes</td>\n",
              "      <td>[Radiation resistance, Turning tiny, Radiation...</td>\n",
              "    </tr>\n",
              "    <tr>\n",
              "      <th>1</th>\n",
              "      <td>Madame Uppercut</td>\n",
              "      <td>39</td>\n",
              "      <td>Jane Wilson</td>\n",
              "      <td>[Million tonne punch, Damage resistance, Super...</td>\n",
              "    </tr>\n",
              "    <tr>\n",
              "      <th>2</th>\n",
              "      <td>Eternal Flame</td>\n",
              "      <td>1000000</td>\n",
              "      <td>Abhishek</td>\n",
              "      <td>[Immortality, Heat Immunity, Inferno, Teleport...</td>\n",
              "    </tr>\n",
              "  </tbody>\n",
              "</table>\n",
              "</div>\n",
              "      <button class=\"colab-df-convert\" onclick=\"convertToInteractive('df-d3fb5496-d842-4dd6-a2a0-7050c69b54ae')\"\n",
              "              title=\"Convert this dataframe to an interactive table.\"\n",
              "              style=\"display:none;\">\n",
              "        \n",
              "  <svg xmlns=\"http://www.w3.org/2000/svg\" height=\"24px\"viewBox=\"0 0 24 24\"\n",
              "       width=\"24px\">\n",
              "    <path d=\"M0 0h24v24H0V0z\" fill=\"none\"/>\n",
              "    <path d=\"M18.56 5.44l.94 2.06.94-2.06 2.06-.94-2.06-.94-.94-2.06-.94 2.06-2.06.94zm-11 1L8.5 8.5l.94-2.06 2.06-.94-2.06-.94L8.5 2.5l-.94 2.06-2.06.94zm10 10l.94 2.06.94-2.06 2.06-.94-2.06-.94-.94-2.06-.94 2.06-2.06.94z\"/><path d=\"M17.41 7.96l-1.37-1.37c-.4-.4-.92-.59-1.43-.59-.52 0-1.04.2-1.43.59L10.3 9.45l-7.72 7.72c-.78.78-.78 2.05 0 2.83L4 21.41c.39.39.9.59 1.41.59.51 0 1.02-.2 1.41-.59l7.78-7.78 2.81-2.81c.8-.78.8-2.07 0-2.86zM5.41 20L4 18.59l7.72-7.72 1.47 1.35L5.41 20z\"/>\n",
              "  </svg>\n",
              "      </button>\n",
              "      \n",
              "  <style>\n",
              "    .colab-df-container {\n",
              "      display:flex;\n",
              "      flex-wrap:wrap;\n",
              "      gap: 12px;\n",
              "    }\n",
              "\n",
              "    .colab-df-convert {\n",
              "      background-color: #E8F0FE;\n",
              "      border: none;\n",
              "      border-radius: 50%;\n",
              "      cursor: pointer;\n",
              "      display: none;\n",
              "      fill: #1967D2;\n",
              "      height: 32px;\n",
              "      padding: 0 0 0 0;\n",
              "      width: 32px;\n",
              "    }\n",
              "\n",
              "    .colab-df-convert:hover {\n",
              "      background-color: #E2EBFA;\n",
              "      box-shadow: 0px 1px 2px rgba(60, 64, 67, 0.3), 0px 1px 3px 1px rgba(60, 64, 67, 0.15);\n",
              "      fill: #174EA6;\n",
              "    }\n",
              "\n",
              "    [theme=dark] .colab-df-convert {\n",
              "      background-color: #3B4455;\n",
              "      fill: #D2E3FC;\n",
              "    }\n",
              "\n",
              "    [theme=dark] .colab-df-convert:hover {\n",
              "      background-color: #434B5C;\n",
              "      box-shadow: 0px 1px 3px 1px rgba(0, 0, 0, 0.15);\n",
              "      filter: drop-shadow(0px 1px 2px rgba(0, 0, 0, 0.3));\n",
              "      fill: #FFFFFF;\n",
              "    }\n",
              "  </style>\n",
              "\n",
              "      <script>\n",
              "        const buttonEl =\n",
              "          document.querySelector('#df-d3fb5496-d842-4dd6-a2a0-7050c69b54ae button.colab-df-convert');\n",
              "        buttonEl.style.display =\n",
              "          google.colab.kernel.accessAllowed ? 'block' : 'none';\n",
              "\n",
              "        async function convertToInteractive(key) {\n",
              "          const element = document.querySelector('#df-d3fb5496-d842-4dd6-a2a0-7050c69b54ae');\n",
              "          const dataTable =\n",
              "            await google.colab.kernel.invokeFunction('convertToInteractive',\n",
              "                                                     [key], {});\n",
              "          if (!dataTable) return;\n",
              "\n",
              "          const docLinkHtml = 'Like what you see? Visit the ' +\n",
              "            '<a target=\"_blank\" href=https://colab.research.google.com/notebooks/data_table.ipynb>data table notebook</a>'\n",
              "            + ' to learn more about interactive tables.';\n",
              "          element.innerHTML = '';\n",
              "          dataTable['output_type'] = 'display_data';\n",
              "          await google.colab.output.renderOutput(dataTable, element);\n",
              "          const docLink = document.createElement('div');\n",
              "          docLink.innerHTML = docLinkHtml;\n",
              "          element.appendChild(docLink);\n",
              "        }\n",
              "      </script>\n",
              "    </div>\n",
              "  </div>\n",
              "  "
            ]
          },
          "metadata": {},
          "execution_count": 28
        }
      ]
    },
    {
      "cell_type": "code",
      "source": [
        "data['members']"
      ],
      "metadata": {
        "colab": {
          "base_uri": "https://localhost:8080/"
        },
        "id": "P8jb16359Si6",
        "outputId": "ed05ca53-6358-4400-d1ac-bd151eac47c4"
      },
      "execution_count": null,
      "outputs": [
        {
          "output_type": "execute_result",
          "data": {
            "text/plain": [
              "[{'name': 'Molecule Man',\n",
              "  'age': 29,\n",
              "  'secretIdentity': 'Dan Jukes',\n",
              "  'powers': ['Radiation resistance', 'Turning tiny', 'Radiation blast']},\n",
              " {'name': 'Madame Uppercut',\n",
              "  'age': 39,\n",
              "  'secretIdentity': 'Jane Wilson',\n",
              "  'powers': ['Million tonne punch',\n",
              "   'Damage resistance',\n",
              "   'Superhuman reflexes']},\n",
              " {'name': 'Eternal Flame',\n",
              "  'age': 1000000,\n",
              "  'secretIdentity': 'Abhishek',\n",
              "  'powers': ['Immortality',\n",
              "   'Heat Immunity',\n",
              "   'Inferno',\n",
              "   'Teleportation',\n",
              "   'Interdimensional travel']}]"
            ]
          },
          "metadata": {},
          "execution_count": 29
        }
      ]
    },
    {
      "cell_type": "code",
      "source": [
        "data['members'][2]"
      ],
      "metadata": {
        "colab": {
          "base_uri": "https://localhost:8080/"
        },
        "id": "aa4tyJFI9aZJ",
        "outputId": "0442331e-6968-4e02-9b42-9b5e3829e1ba"
      },
      "execution_count": null,
      "outputs": [
        {
          "output_type": "execute_result",
          "data": {
            "text/plain": [
              "{'name': 'Eternal Flame',\n",
              " 'age': 1000000,\n",
              " 'secretIdentity': 'Abhishek',\n",
              " 'powers': ['Immortality',\n",
              "  'Heat Immunity',\n",
              "  'Inferno',\n",
              "  'Teleportation',\n",
              "  'Interdimensional travel']}"
            ]
          },
          "metadata": {},
          "execution_count": 30
        }
      ]
    },
    {
      "cell_type": "code",
      "source": [
        "data['members'][2]['secretIdentity']"
      ],
      "metadata": {
        "colab": {
          "base_uri": "https://localhost:8080/",
          "height": 36
        },
        "id": "qY2oOKF49fLA",
        "outputId": "5f935c79-b173-4a8d-f874-4bdc36dfeb09"
      },
      "execution_count": null,
      "outputs": [
        {
          "output_type": "execute_result",
          "data": {
            "text/plain": [
              "'Abhishek'"
            ],
            "application/vnd.google.colaboratory.intrinsic+json": {
              "type": "string"
            }
          },
          "metadata": {},
          "execution_count": 31
        }
      ]
    },
    {
      "cell_type": "code",
      "source": [
        "data['members'][2]['secretIdentity'] = 'virat'"
      ],
      "metadata": {
        "id": "vaMb23rz9juB"
      },
      "execution_count": null,
      "outputs": []
    },
    {
      "cell_type": "code",
      "source": [
        "data['members'][2]['secretIdentity']"
      ],
      "metadata": {
        "colab": {
          "base_uri": "https://localhost:8080/",
          "height": 36
        },
        "id": "oAzXjTqf9nhA",
        "outputId": "92d33735-0ebb-417c-f492-af0040666d48"
      },
      "execution_count": null,
      "outputs": [
        {
          "output_type": "execute_result",
          "data": {
            "text/plain": [
              "'virat'"
            ],
            "application/vnd.google.colaboratory.intrinsic+json": {
              "type": "string"
            }
          },
          "metadata": {},
          "execution_count": 33
        }
      ]
    },
    {
      "cell_type": "code",
      "source": [
        "# Write from a JSON file using python\n",
        "with open('/content/drive/MyDrive/Guvi/Class Notes/30th Oct/superheroes_modified.json', 'w') as file:\n",
        "  json.dump(data, file)"
      ],
      "metadata": {
        "id": "crwMqtoN9rCX"
      },
      "execution_count": 40,
      "outputs": []
    },
    {
      "cell_type": "code",
      "source": [
        "# Read from a JSON file using python\n",
        "with open('/content/drive/MyDrive/Guvi/Class Notes/30th Oct/superheroes_modified.json', 'r') as file:\n",
        "  result = json.load(file)\n",
        "  print(result)"
      ],
      "metadata": {
        "id": "YAhN65x_I2t0",
        "colab": {
          "base_uri": "https://localhost:8080/"
        },
        "outputId": "a4319475-221d-4926-cffa-5df6cdbeb2bf"
      },
      "execution_count": 41,
      "outputs": [
        {
          "output_type": "stream",
          "name": "stdout",
          "text": [
            "{'squadName': 'Super Hero Squad', 'homeTown': 'Metro City', 'formed': 2016, 'secretBase': 'Super tower', 'active': True, 'members': [{'name': 'Molecule Man', 'age': 29, 'secretIdentity': 'Dan Jukes', 'powers': ['Radiation resistance', 'Turning tiny', 'Radiation blast']}, {'name': 'Madame Uppercut', 'age': 39, 'secretIdentity': 'Jane Wilson', 'powers': ['Million tonne punch', 'Damage resistance', 'Superhuman reflexes']}, {'name': 'Eternal Flame', 'age': 1000000, 'secretIdentity': 'virat', 'powers': ['Immortality', 'Heat Immunity', 'Inferno', 'Teleportation', 'Interdimensional travel']}]}\n"
          ]
        }
      ]
    }
  ]
}